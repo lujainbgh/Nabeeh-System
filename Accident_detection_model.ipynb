{
  "cells": [
    {
      "cell_type": "markdown",
      "source": [
        "# YOLOv9 Model Training"
      ],
      "metadata": {
        "id": "mD-37pPBf9d0"
      }
    },
    {
      "cell_type": "markdown",
      "source": [
        "##### The link of our **dataset** : https://drive.google.com/drive/folders/15i_gJ9s9EbGqexVIJ0u-23iy8eLX3-9l?usp=sharing\n",
        "\n",
        "\n"
      ],
      "metadata": {
        "id": "u5ACb8hu1ZVJ"
      }
    },
    {
      "cell_type": "markdown",
      "source": [
        "### Installation of Ultralytics YOLO library\n",
        "\n"
      ],
      "metadata": {
        "id": "zETp41bdgAM8"
      }
    },
    {
      "cell_type": "code",
      "execution_count": null,
      "metadata": {
        "colab": {
          "base_uri": "https://localhost:8080/"
        },
        "collapsed": true,
        "id": "2jOAsld0Eb0M",
        "outputId": "fe7bbff4-b7bd-4a18-f76c-c2b3a7f3e4b9"
      },
      "outputs": [
        {
          "name": "stdout",
          "output_type": "stream",
          "text": [
            "Collecting ultralytics\n",
            "  Downloading ultralytics-8.3.0-py3-none-any.whl.metadata (34 kB)\n",
            "Requirement already satisfied: numpy<2.0.0,>=1.23.0 in /usr/local/lib/python3.10/dist-packages (from ultralytics) (1.26.4)\n",
            "Requirement already satisfied: matplotlib>=3.3.0 in /usr/local/lib/python3.10/dist-packages (from ultralytics) (3.7.1)\n",
            "Requirement already satisfied: opencv-python>=4.6.0 in /usr/local/lib/python3.10/dist-packages (from ultralytics) (4.10.0.84)\n",
            "Requirement already satisfied: pillow>=7.1.2 in /usr/local/lib/python3.10/dist-packages (from ultralytics) (10.4.0)\n",
            "Requirement already satisfied: pyyaml>=5.3.1 in /usr/local/lib/python3.10/dist-packages (from ultralytics) (6.0.2)\n",
            "Requirement already satisfied: requests>=2.23.0 in /usr/local/lib/python3.10/dist-packages (from ultralytics) (2.32.3)\n",
            "Requirement already satisfied: scipy>=1.4.1 in /usr/local/lib/python3.10/dist-packages (from ultralytics) (1.13.1)\n",
            "Requirement already satisfied: torch>=1.8.0 in /usr/local/lib/python3.10/dist-packages (from ultralytics) (2.4.1+cu121)\n",
            "Requirement already satisfied: torchvision>=0.9.0 in /usr/local/lib/python3.10/dist-packages (from ultralytics) (0.19.1+cu121)\n",
            "Requirement already satisfied: tqdm>=4.64.0 in /usr/local/lib/python3.10/dist-packages (from ultralytics) (4.66.5)\n",
            "Requirement already satisfied: psutil in /usr/local/lib/python3.10/dist-packages (from ultralytics) (5.9.5)\n",
            "Requirement already satisfied: py-cpuinfo in /usr/local/lib/python3.10/dist-packages (from ultralytics) (9.0.0)\n",
            "Requirement already satisfied: pandas>=1.1.4 in /usr/local/lib/python3.10/dist-packages (from ultralytics) (2.1.4)\n",
            "Requirement already satisfied: seaborn>=0.11.0 in /usr/local/lib/python3.10/dist-packages (from ultralytics) (0.13.1)\n",
            "Collecting ultralytics-thop>=2.0.0 (from ultralytics)\n",
            "  Downloading ultralytics_thop-2.0.8-py3-none-any.whl.metadata (9.3 kB)\n",
            "Requirement already satisfied: contourpy>=1.0.1 in /usr/local/lib/python3.10/dist-packages (from matplotlib>=3.3.0->ultralytics) (1.3.0)\n",
            "Requirement already satisfied: cycler>=0.10 in /usr/local/lib/python3.10/dist-packages (from matplotlib>=3.3.0->ultralytics) (0.12.1)\n",
            "Requirement already satisfied: fonttools>=4.22.0 in /usr/local/lib/python3.10/dist-packages (from matplotlib>=3.3.0->ultralytics) (4.53.1)\n",
            "Requirement already satisfied: kiwisolver>=1.0.1 in /usr/local/lib/python3.10/dist-packages (from matplotlib>=3.3.0->ultralytics) (1.4.7)\n",
            "Requirement already satisfied: packaging>=20.0 in /usr/local/lib/python3.10/dist-packages (from matplotlib>=3.3.0->ultralytics) (24.1)\n",
            "Requirement already satisfied: pyparsing>=2.3.1 in /usr/local/lib/python3.10/dist-packages (from matplotlib>=3.3.0->ultralytics) (3.1.4)\n",
            "Requirement already satisfied: python-dateutil>=2.7 in /usr/local/lib/python3.10/dist-packages (from matplotlib>=3.3.0->ultralytics) (2.8.2)\n",
            "Requirement already satisfied: pytz>=2020.1 in /usr/local/lib/python3.10/dist-packages (from pandas>=1.1.4->ultralytics) (2024.2)\n",
            "Requirement already satisfied: tzdata>=2022.1 in /usr/local/lib/python3.10/dist-packages (from pandas>=1.1.4->ultralytics) (2024.1)\n",
            "Requirement already satisfied: charset-normalizer<4,>=2 in /usr/local/lib/python3.10/dist-packages (from requests>=2.23.0->ultralytics) (3.3.2)\n",
            "Requirement already satisfied: idna<4,>=2.5 in /usr/local/lib/python3.10/dist-packages (from requests>=2.23.0->ultralytics) (3.10)\n",
            "Requirement already satisfied: urllib3<3,>=1.21.1 in /usr/local/lib/python3.10/dist-packages (from requests>=2.23.0->ultralytics) (2.2.3)\n",
            "Requirement already satisfied: certifi>=2017.4.17 in /usr/local/lib/python3.10/dist-packages (from requests>=2.23.0->ultralytics) (2024.8.30)\n",
            "Requirement already satisfied: filelock in /usr/local/lib/python3.10/dist-packages (from torch>=1.8.0->ultralytics) (3.16.1)\n",
            "Requirement already satisfied: typing-extensions>=4.8.0 in /usr/local/lib/python3.10/dist-packages (from torch>=1.8.0->ultralytics) (4.12.2)\n",
            "Requirement already satisfied: sympy in /usr/local/lib/python3.10/dist-packages (from torch>=1.8.0->ultralytics) (1.13.3)\n",
            "Requirement already satisfied: networkx in /usr/local/lib/python3.10/dist-packages (from torch>=1.8.0->ultralytics) (3.3)\n",
            "Requirement already satisfied: jinja2 in /usr/local/lib/python3.10/dist-packages (from torch>=1.8.0->ultralytics) (3.1.4)\n",
            "Requirement already satisfied: fsspec in /usr/local/lib/python3.10/dist-packages (from torch>=1.8.0->ultralytics) (2024.6.1)\n",
            "Requirement already satisfied: six>=1.5 in /usr/local/lib/python3.10/dist-packages (from python-dateutil>=2.7->matplotlib>=3.3.0->ultralytics) (1.16.0)\n",
            "Requirement already satisfied: MarkupSafe>=2.0 in /usr/local/lib/python3.10/dist-packages (from jinja2->torch>=1.8.0->ultralytics) (2.1.5)\n",
            "Requirement already satisfied: mpmath<1.4,>=1.1.0 in /usr/local/lib/python3.10/dist-packages (from sympy->torch>=1.8.0->ultralytics) (1.3.0)\n",
            "Downloading ultralytics-8.3.0-py3-none-any.whl (881 kB)\n",
            "\u001b[2K   \u001b[90m━━━━━━━━━━━━━━━━━━━━━━━━━━━━━━━━━━━━━━━━\u001b[0m \u001b[32m881.3/881.3 kB\u001b[0m \u001b[31m45.5 MB/s\u001b[0m eta \u001b[36m0:00:00\u001b[0m\n",
            "\u001b[?25hDownloading ultralytics_thop-2.0.8-py3-none-any.whl (26 kB)\n",
            "Installing collected packages: ultralytics-thop, ultralytics\n",
            "Successfully installed ultralytics-8.3.0 ultralytics-thop-2.0.8\n"
          ]
        }
      ],
      "source": [
        "!pip install ultralytics"
      ]
    },
    {
      "cell_type": "markdown",
      "source": [
        "### Importing YOLO model from Ultralytics\n"
      ],
      "metadata": {
        "id": "KA4uuJ98gLR2"
      }
    },
    {
      "cell_type": "code",
      "execution_count": null,
      "metadata": {
        "colab": {
          "base_uri": "https://localhost:8080/"
        },
        "id": "j08nUmOqEvId",
        "outputId": "c83b317f-dac3-42c6-c103-e0f3f964409e",
        "collapsed": true
      },
      "outputs": [
        {
          "name": "stdout",
          "output_type": "stream",
          "text": [
            "Creating new Ultralytics Settings v0.0.6 file ✅ \n",
            "View Ultralytics Settings with 'yolo settings' or at '/root/.config/Ultralytics/settings.json'\n",
            "Update Settings with 'yolo settings key=value', i.e. 'yolo settings runs_dir=path/to/dir'. For help see https://docs.ultralytics.com/quickstart/#ultralytics-settings.\n"
          ]
        }
      ],
      "source": [
        "from ultralytics import YOLO"
      ]
    },
    {
      "cell_type": "markdown",
      "source": [
        "### Loading the YOLOv9 model"
      ],
      "metadata": {
        "id": "AgaTcQD5gV5U"
      }
    },
    {
      "cell_type": "code",
      "execution_count": null,
      "metadata": {
        "id": "JWg2l1xpE0iS"
      },
      "outputs": [],
      "source": [
        "model = YOLO(\"yolov9m.pt\")"
      ]
    },
    {
      "cell_type": "markdown",
      "source": [
        "### Displaying model details (optional)"
      ],
      "metadata": {
        "id": "PF3DzOYHgf0e"
      }
    },
    {
      "cell_type": "code",
      "execution_count": null,
      "metadata": {
        "colab": {
          "base_uri": "https://localhost:8080/"
        },
        "id": "g1S4e2DRE9Lr",
        "outputId": "41c89e99-72f3-4c30-d58c-5e6abf597bbc"
      },
      "outputs": [
        {
          "name": "stdout",
          "output_type": "stream",
          "text": [
            "YOLOv9m summary: 603 layers, 20,216,160 parameters, 0 gradients, 77.9 GFLOPs\n"
          ]
        },
        {
          "data": {
            "text/plain": [
              "(603, 20216160, 0, 77.86652160000001)"
            ]
          },
          "execution_count": 4,
          "metadata": {},
          "output_type": "execute_result"
        }
      ],
      "source": [
        "# Display model information (optional)\n",
        "model.info()"
      ]
    },
    {
      "cell_type": "markdown",
      "source": [
        "### Training the YOLOv9 model"
      ],
      "metadata": {
        "id": "TWyOaVFMgjNW"
      }
    },
    {
      "cell_type": "code",
      "execution_count": null,
      "metadata": {
        "colab": {
          "base_uri": "https://localhost:8080/"
        },
        "id": "M83eFkTqFMy_",
        "outputId": "bd22f750-e9b5-4cc1-ed2c-01b8b889ce36",
        "collapsed": true
      },
      "outputs": [
        {
          "name": "stdout",
          "output_type": "stream",
          "text": [
            "Ultralytics 8.3.0 🚀 Python-3.10.12 torch-2.4.1+cu121 CUDA:0 (Tesla T4, 15102MiB)\n",
            "\u001b[34m\u001b[1mengine/trainer: \u001b[0mtask=detect, mode=train, model=yolov9m.pt, data=/content/drive/MyDrive/Lastdataset/data.yaml, epochs=100, time=None, patience=100, batch=16, imgsz=640, save=True, save_period=-1, cache=False, device=None, workers=8, project=None, name=train, exist_ok=False, pretrained=True, optimizer=auto, verbose=True, seed=0, deterministic=True, single_cls=False, rect=False, cos_lr=False, close_mosaic=10, resume=False, amp=True, fraction=1.0, profile=False, freeze=None, multi_scale=False, overlap_mask=True, mask_ratio=4, dropout=0.0, val=True, split=val, save_json=False, save_hybrid=False, conf=None, iou=0.7, max_det=300, half=False, dnn=False, plots=True, source=None, vid_stride=1, stream_buffer=False, visualize=False, augment=False, agnostic_nms=False, classes=None, retina_masks=False, embed=None, show=False, save_frames=False, save_txt=False, save_conf=False, save_crop=False, show_labels=True, show_conf=True, show_boxes=True, line_width=None, format=torchscript, keras=False, optimize=False, int8=False, dynamic=False, simplify=True, opset=None, workspace=4, nms=False, lr0=0.01, lrf=0.01, momentum=0.937, weight_decay=0.0005, warmup_epochs=3.0, warmup_momentum=0.8, warmup_bias_lr=0.1, box=7.5, cls=0.5, dfl=1.5, pose=12.0, kobj=1.0, label_smoothing=0.0, nbs=64, hsv_h=0.015, hsv_s=0.7, hsv_v=0.4, degrees=0.0, translate=0.1, scale=0.5, shear=0.0, perspective=0.0, flipud=0.0, fliplr=0.5, bgr=0.0, mosaic=1.0, mixup=0.0, copy_paste=0.0, copy_paste_mode=flip, auto_augment=randaugment, erasing=0.4, crop_fraction=1.0, cfg=None, tracker=botsort.yaml, save_dir=runs/detect/train\n",
            "Downloading https://ultralytics.com/assets/Arial.ttf to '/root/.config/Ultralytics/Arial.ttf'...\n"
          ]
        },
        {
          "name": "stderr",
          "output_type": "stream",
          "text": [
            "100%|██████████| 755k/755k [00:00<00:00, 98.5MB/s]\n"
          ]
        },
        {
          "name": "stdout",
          "output_type": "stream",
          "text": [
            "Overriding model.yaml nc=80 with nc=1\n",
            "\n",
            "                   from  n    params  module                                       arguments                     \n",
            "  0                  -1  1       928  ultralytics.nn.modules.conv.Conv             [3, 32, 3, 2]                 \n",
            "  1                  -1  1     18560  ultralytics.nn.modules.conv.Conv             [32, 64, 3, 2]                \n",
            "  2                  -1  1    171648  ultralytics.nn.modules.block.RepNCSPELAN4    [64, 128, 128, 64, 1]         \n",
            "  3                  -1  1    276960  ultralytics.nn.modules.block.AConv           [128, 240]                    \n",
            "  4                  -1  1    629520  ultralytics.nn.modules.block.RepNCSPELAN4    [240, 240, 240, 120, 1]       \n",
            "  5                  -1  1    778320  ultralytics.nn.modules.block.AConv           [240, 360]                    \n",
            "  6                  -1  1   1414080  ultralytics.nn.modules.block.RepNCSPELAN4    [360, 360, 360, 180, 1]       \n",
            "  7                  -1  1   1556160  ultralytics.nn.modules.block.AConv           [360, 480]                    \n",
            "  8                  -1  1   2511840  ultralytics.nn.modules.block.RepNCSPELAN4    [480, 480, 480, 240, 1]       \n",
            "  9                  -1  1    577440  ultralytics.nn.modules.block.SPPELAN         [480, 480, 240]               \n",
            " 10                  -1  1         0  torch.nn.modules.upsampling.Upsample         [None, 2, 'nearest']          \n",
            " 11             [-1, 6]  1         0  ultralytics.nn.modules.conv.Concat           [1]                           \n",
            " 12                  -1  1   1586880  ultralytics.nn.modules.block.RepNCSPELAN4    [840, 360, 360, 180, 1]       \n",
            " 13                  -1  1         0  torch.nn.modules.upsampling.Upsample         [None, 2, 'nearest']          \n",
            " 14             [-1, 4]  1         0  ultralytics.nn.modules.conv.Concat           [1]                           \n",
            " 15                  -1  1    715920  ultralytics.nn.modules.block.RepNCSPELAN4    [600, 240, 240, 120, 1]       \n",
            " 16                  -1  1    397808  ultralytics.nn.modules.block.AConv           [240, 184]                    \n",
            " 17            [-1, 12]  1         0  ultralytics.nn.modules.conv.Concat           [1]                           \n",
            " 18                  -1  1   1480320  ultralytics.nn.modules.block.RepNCSPELAN4    [544, 360, 360, 180, 1]       \n",
            " 19                  -1  1    778080  ultralytics.nn.modules.block.AConv           [360, 240]                    \n",
            " 20             [-1, 9]  1         0  ultralytics.nn.modules.conv.Concat           [1]                           \n",
            " 21                  -1  1   2627040  ultralytics.nn.modules.block.RepNCSPELAN4    [720, 480, 480, 240, 1]       \n",
            " 22        [15, 18, 21]  1   1201339  ultralytics.nn.modules.head.Detect           [1, [240, 360, 480]]          \n",
            "YOLOv9m summary: 627 layers, 16,722,843 parameters, 16,722,827 gradients, 61.1 GFLOPs\n",
            "\n",
            "Transferred 865/943 items from pretrained weights\n",
            "\u001b[34m\u001b[1mTensorBoard: \u001b[0mStart with 'tensorboard --logdir runs/detect/train', view at http://localhost:6006/\n",
            "Freezing layer 'model.22.dfl.conv.weight'\n",
            "\u001b[34m\u001b[1mAMP: \u001b[0mrunning Automatic Mixed Precision (AMP) checks with YOLOv8n...\n",
            "Downloading https://github.com/ultralytics/assets/releases/download/v8.3.0/yolov8n.pt to 'yolov8n.pt'...\n"
          ]
        },
        {
          "name": "stderr",
          "output_type": "stream",
          "text": [
            "100%|██████████| 6.25M/6.25M [00:00<00:00, 431MB/s]\n"
          ]
        },
        {
          "name": "stdout",
          "output_type": "stream",
          "text": [
            "\u001b[34m\u001b[1mAMP: \u001b[0mchecks passed ✅\n"
          ]
        },
        {
          "name": "stderr",
          "output_type": "stream",
          "text": [
            "\u001b[34m\u001b[1mtrain: \u001b[0mScanning /content/drive/MyDrive/Lastdataset/train/labels... 8404 images, 4528 backgrounds, 0 corrupt: 100%|██████████| 8404/8404 [12:59<00:00, 10.78it/s]\n"
          ]
        },
        {
          "name": "stdout",
          "output_type": "stream",
          "text": [
            "\u001b[34m\u001b[1mtrain: \u001b[0mNew cache created: /content/drive/MyDrive/Lastdataset/train/labels.cache\n",
            "WARNING ⚠️ Box and segment counts should be equal, but got len(segments) = 68, len(boxes) = 4068. To resolve this only boxes will be used and all segments will be removed. To avoid this please supply either a detect or segment dataset, not a detect-segment mixed dataset.\n",
            "\u001b[34m\u001b[1malbumentations: \u001b[0mBlur(p=0.01, blur_limit=(3, 7)), MedianBlur(p=0.01, blur_limit=(3, 7)), ToGray(p=0.01, num_output_channels=3, method='weighted_average'), CLAHE(p=0.01, clip_limit=(1, 4.0), tile_grid_size=(8, 8))\n"
          ]
        },
        {
          "name": "stderr",
          "output_type": "stream",
          "text": [
            "/usr/local/lib/python3.10/dist-packages/albumentations/__init__.py:13: UserWarning: A new version of Albumentations is available: 1.4.16 (you have 1.4.15). Upgrade using: pip install -U albumentations. To disable automatic update checks, set the environment variable NO_ALBUMENTATIONS_UPDATE to 1.\n",
            "  check_for_updates()\n",
            "\u001b[34m\u001b[1mval: \u001b[0mScanning /content/drive/MyDrive/Lastdataset/valid/labels.cache... 1236 images, 672 backgrounds, 0 corrupt: 100%|██████████| 1236/1236 [00:00<?, ?it/s]\n"
          ]
        },
        {
          "name": "stdout",
          "output_type": "stream",
          "text": [
            "Plotting labels to runs/detect/train/labels.jpg... \n",
            "\u001b[34m\u001b[1moptimizer:\u001b[0m 'optimizer=auto' found, ignoring 'lr0=0.01' and 'momentum=0.937' and determining best 'optimizer', 'lr0' and 'momentum' automatically... \n",
            "\u001b[34m\u001b[1moptimizer:\u001b[0m SGD(lr=0.01, momentum=0.9) with parameter groups 155 weight(decay=0.0), 162 weight(decay=0.0005), 161 bias(decay=0.0)\n",
            "\u001b[34m\u001b[1mTensorBoard: \u001b[0mmodel graph visualization added ✅\n",
            "Image sizes 640 train, 640 val\n",
            "Using 8 dataloader workers\n",
            "Logging results to \u001b[1mruns/detect/train\u001b[0m\n",
            "Starting training for 100 epochs...\n",
            "\n",
            "      Epoch    GPU_mem   box_loss   cls_loss   dfl_loss  Instances       Size\n"
          ]
        },
        {
          "name": "stderr",
          "output_type": "stream",
          "text": [
            "      1/100      8.78G      1.505      3.613       1.57          3        640: 100%|██████████| 526/526 [05:47<00:00,  1.51it/s]\n",
            "                 Class     Images  Instances      Box(P          R      mAP50  mAP50-95): 100%|██████████| 39/39 [00:20<00:00,  1.93it/s]\n"
          ]
        },
        {
          "name": "stdout",
          "output_type": "stream",
          "text": [
            "                   all       1236        930      0.195      0.252      0.106     0.0391\n",
            "\n",
            "      Epoch    GPU_mem   box_loss   cls_loss   dfl_loss  Instances       Size\n"
          ]
        },
        {
          "name": "stderr",
          "output_type": "stream",
          "text": [
            "      2/100      8.78G      1.561      2.393      1.657          4        640: 100%|██████████| 526/526 [05:25<00:00,  1.61it/s]\n",
            "                 Class     Images  Instances      Box(P          R      mAP50  mAP50-95): 100%|██████████| 39/39 [00:18<00:00,  2.07it/s]"
          ]
        },
        {
          "name": "stdout",
          "output_type": "stream",
          "text": [
            "                   all       1236        930       0.13      0.122     0.0492     0.0185\n"
          ]
        },
        {
          "name": "stderr",
          "output_type": "stream",
          "text": [
            "\n"
          ]
        },
        {
          "name": "stdout",
          "output_type": "stream",
          "text": [
            "\n",
            "      Epoch    GPU_mem   box_loss   cls_loss   dfl_loss  Instances       Size\n"
          ]
        },
        {
          "name": "stderr",
          "output_type": "stream",
          "text": [
            "      3/100      8.77G      1.777      2.467      1.868          5        640: 100%|██████████| 526/526 [05:22<00:00,  1.63it/s]\n",
            "                 Class     Images  Instances      Box(P          R      mAP50  mAP50-95): 100%|██████████| 39/39 [00:18<00:00,  2.06it/s]"
          ]
        },
        {
          "name": "stdout",
          "output_type": "stream",
          "text": [
            "                   all       1236        930     0.0716      0.149     0.0362     0.0127\n"
          ]
        },
        {
          "name": "stderr",
          "output_type": "stream",
          "text": [
            "\n"
          ]
        },
        {
          "name": "stdout",
          "output_type": "stream",
          "text": [
            "\n",
            "      Epoch    GPU_mem   box_loss   cls_loss   dfl_loss  Instances       Size\n"
          ]
        },
        {
          "name": "stderr",
          "output_type": "stream",
          "text": [
            "      4/100      8.72G      1.897      2.606      2.012          3        640: 100%|██████████| 526/526 [05:21<00:00,  1.64it/s]\n",
            "                 Class     Images  Instances      Box(P          R      mAP50  mAP50-95): 100%|██████████| 39/39 [00:18<00:00,  2.08it/s]"
          ]
        },
        {
          "name": "stdout",
          "output_type": "stream",
          "text": [
            "                   all       1236        930      0.134      0.123     0.0551     0.0208\n"
          ]
        },
        {
          "name": "stderr",
          "output_type": "stream",
          "text": [
            "\n"
          ]
        },
        {
          "name": "stdout",
          "output_type": "stream",
          "text": [
            "\n",
            "      Epoch    GPU_mem   box_loss   cls_loss   dfl_loss  Instances       Size\n"
          ]
        },
        {
          "name": "stderr",
          "output_type": "stream",
          "text": [
            "      5/100      8.76G      1.811      2.454      1.938          6        640: 100%|██████████| 526/526 [05:21<00:00,  1.64it/s]\n",
            "                 Class     Images  Instances      Box(P          R      mAP50  mAP50-95): 100%|██████████| 39/39 [00:18<00:00,  2.08it/s]"
          ]
        },
        {
          "name": "stdout",
          "output_type": "stream",
          "text": [
            "                   all       1236        930     0.0836     0.0892     0.0324     0.0106\n"
          ]
        },
        {
          "name": "stderr",
          "output_type": "stream",
          "text": [
            "\n"
          ]
        },
        {
          "name": "stdout",
          "output_type": "stream",
          "text": [
            "\n",
            "      Epoch    GPU_mem   box_loss   cls_loss   dfl_loss  Instances       Size\n"
          ]
        },
        {
          "name": "stderr",
          "output_type": "stream",
          "text": [
            "      6/100      8.72G      1.752      2.331      1.924          3        640: 100%|██████████| 526/526 [05:20<00:00,  1.64it/s]\n",
            "                 Class     Images  Instances      Box(P          R      mAP50  mAP50-95): 100%|██████████| 39/39 [00:18<00:00,  2.08it/s]"
          ]
        },
        {
          "name": "stdout",
          "output_type": "stream",
          "text": [
            "                   all       1236        930      0.122      0.169     0.0584     0.0225\n"
          ]
        },
        {
          "name": "stderr",
          "output_type": "stream",
          "text": [
            "\n"
          ]
        },
        {
          "name": "stdout",
          "output_type": "stream",
          "text": [
            "\n",
            "      Epoch    GPU_mem   box_loss   cls_loss   dfl_loss  Instances       Size\n"
          ]
        },
        {
          "name": "stderr",
          "output_type": "stream",
          "text": [
            "      7/100      8.77G      1.715      2.207      1.876          5        640: 100%|██████████| 526/526 [05:20<00:00,  1.64it/s]\n",
            "                 Class     Images  Instances      Box(P          R      mAP50  mAP50-95): 100%|██████████| 39/39 [00:18<00:00,  2.08it/s]"
          ]
        },
        {
          "name": "stdout",
          "output_type": "stream",
          "text": [
            "                   all       1236        930      0.151      0.157     0.0636     0.0214\n"
          ]
        },
        {
          "name": "stderr",
          "output_type": "stream",
          "text": [
            "\n"
          ]
        },
        {
          "name": "stdout",
          "output_type": "stream",
          "text": [
            "\n",
            "      Epoch    GPU_mem   box_loss   cls_loss   dfl_loss  Instances       Size\n"
          ]
        },
        {
          "name": "stderr",
          "output_type": "stream",
          "text": [
            "      8/100      8.72G       1.66      2.091      1.833          3        640: 100%|██████████| 526/526 [05:20<00:00,  1.64it/s]\n",
            "                 Class     Images  Instances      Box(P          R      mAP50  mAP50-95): 100%|██████████| 39/39 [00:18<00:00,  2.08it/s]"
          ]
        },
        {
          "name": "stdout",
          "output_type": "stream",
          "text": [
            "                   all       1236        930      0.144      0.127      0.057     0.0216\n"
          ]
        },
        {
          "name": "stderr",
          "output_type": "stream",
          "text": [
            "\n"
          ]
        },
        {
          "name": "stdout",
          "output_type": "stream",
          "text": [
            "\n",
            "      Epoch    GPU_mem   box_loss   cls_loss   dfl_loss  Instances       Size\n"
          ]
        },
        {
          "name": "stderr",
          "output_type": "stream",
          "text": [
            "      9/100      8.77G      1.639       1.98      1.822          3        640: 100%|██████████| 526/526 [05:20<00:00,  1.64it/s]\n",
            "                 Class     Images  Instances      Box(P          R      mAP50  mAP50-95): 100%|██████████| 39/39 [00:18<00:00,  2.09it/s]"
          ]
        },
        {
          "name": "stdout",
          "output_type": "stream",
          "text": [
            "                   all       1236        930      0.184      0.203      0.103     0.0377\n"
          ]
        },
        {
          "name": "stderr",
          "output_type": "stream",
          "text": [
            "\n"
          ]
        },
        {
          "name": "stdout",
          "output_type": "stream",
          "text": [
            "\n",
            "      Epoch    GPU_mem   box_loss   cls_loss   dfl_loss  Instances       Size\n"
          ]
        },
        {
          "name": "stderr",
          "output_type": "stream",
          "text": [
            "     10/100      8.72G        1.6      1.928      1.792          6        640: 100%|██████████| 526/526 [05:20<00:00,  1.64it/s]\n",
            "                 Class     Images  Instances      Box(P          R      mAP50  mAP50-95): 100%|██████████| 39/39 [00:18<00:00,  2.09it/s]"
          ]
        },
        {
          "name": "stdout",
          "output_type": "stream",
          "text": [
            "                   all       1236        930      0.192      0.215      0.107     0.0371\n"
          ]
        },
        {
          "name": "stderr",
          "output_type": "stream",
          "text": [
            "\n"
          ]
        },
        {
          "name": "stdout",
          "output_type": "stream",
          "text": [
            "\n",
            "      Epoch    GPU_mem   box_loss   cls_loss   dfl_loss  Instances       Size\n"
          ]
        },
        {
          "name": "stderr",
          "output_type": "stream",
          "text": [
            "     11/100      8.77G      1.578      1.825      1.766          3        640: 100%|██████████| 526/526 [05:20<00:00,  1.64it/s]\n",
            "                 Class     Images  Instances      Box(P          R      mAP50  mAP50-95): 100%|██████████| 39/39 [00:18<00:00,  2.09it/s]"
          ]
        },
        {
          "name": "stdout",
          "output_type": "stream",
          "text": [
            "                   all       1236        930      0.196      0.211      0.115      0.044\n"
          ]
        },
        {
          "name": "stderr",
          "output_type": "stream",
          "text": [
            "\n"
          ]
        },
        {
          "name": "stdout",
          "output_type": "stream",
          "text": [
            "\n",
            "      Epoch    GPU_mem   box_loss   cls_loss   dfl_loss  Instances       Size\n"
          ]
        },
        {
          "name": "stderr",
          "output_type": "stream",
          "text": [
            "     12/100      8.72G       1.54       1.76      1.732          4        640: 100%|██████████| 526/526 [05:20<00:00,  1.64it/s]\n",
            "                 Class     Images  Instances      Box(P          R      mAP50  mAP50-95): 100%|██████████| 39/39 [00:18<00:00,  2.09it/s]"
          ]
        },
        {
          "name": "stdout",
          "output_type": "stream",
          "text": [
            "                   all       1236        930       0.22      0.214      0.112     0.0398\n"
          ]
        },
        {
          "name": "stderr",
          "output_type": "stream",
          "text": [
            "\n"
          ]
        },
        {
          "name": "stdout",
          "output_type": "stream",
          "text": [
            "\n",
            "      Epoch    GPU_mem   box_loss   cls_loss   dfl_loss  Instances       Size\n"
          ]
        },
        {
          "name": "stderr",
          "output_type": "stream",
          "text": [
            "     13/100      8.77G      1.515      1.721      1.723          5        640: 100%|██████████| 526/526 [05:20<00:00,  1.64it/s]\n",
            "                 Class     Images  Instances      Box(P          R      mAP50  mAP50-95): 100%|██████████| 39/39 [00:18<00:00,  2.09it/s]"
          ]
        },
        {
          "name": "stdout",
          "output_type": "stream",
          "text": [
            "                   all       1236        930      0.249      0.257      0.157     0.0609\n"
          ]
        },
        {
          "name": "stderr",
          "output_type": "stream",
          "text": [
            "\n"
          ]
        },
        {
          "name": "stdout",
          "output_type": "stream",
          "text": [
            "\n",
            "      Epoch    GPU_mem   box_loss   cls_loss   dfl_loss  Instances       Size\n"
          ]
        },
        {
          "name": "stderr",
          "output_type": "stream",
          "text": [
            "     14/100      8.72G      1.488      1.605      1.694          7        640: 100%|██████████| 526/526 [05:20<00:00,  1.64it/s]\n",
            "                 Class     Images  Instances      Box(P          R      mAP50  mAP50-95): 100%|██████████| 39/39 [00:18<00:00,  2.09it/s]"
          ]
        },
        {
          "name": "stdout",
          "output_type": "stream",
          "text": [
            "                   all       1236        930      0.229      0.176      0.121     0.0444\n"
          ]
        },
        {
          "name": "stderr",
          "output_type": "stream",
          "text": [
            "\n"
          ]
        },
        {
          "name": "stdout",
          "output_type": "stream",
          "text": [
            "\n",
            "      Epoch    GPU_mem   box_loss   cls_loss   dfl_loss  Instances       Size\n"
          ]
        },
        {
          "name": "stderr",
          "output_type": "stream",
          "text": [
            "     15/100      8.76G      1.463      1.582      1.673          4        640: 100%|██████████| 526/526 [05:21<00:00,  1.64it/s]\n",
            "                 Class     Images  Instances      Box(P          R      mAP50  mAP50-95): 100%|██████████| 39/39 [00:18<00:00,  2.09it/s]"
          ]
        },
        {
          "name": "stdout",
          "output_type": "stream",
          "text": [
            "                   all       1236        930      0.232      0.228      0.154     0.0543\n"
          ]
        },
        {
          "name": "stderr",
          "output_type": "stream",
          "text": [
            "\n"
          ]
        },
        {
          "name": "stdout",
          "output_type": "stream",
          "text": [
            "\n",
            "      Epoch    GPU_mem   box_loss   cls_loss   dfl_loss  Instances       Size\n"
          ]
        },
        {
          "name": "stderr",
          "output_type": "stream",
          "text": [
            "     16/100       8.7G      1.431       1.51      1.638          1        640: 100%|██████████| 526/526 [05:20<00:00,  1.64it/s]\n",
            "                 Class     Images  Instances      Box(P          R      mAP50  mAP50-95): 100%|██████████| 39/39 [00:18<00:00,  2.09it/s]"
          ]
        },
        {
          "name": "stdout",
          "output_type": "stream",
          "text": [
            "                   all       1236        930      0.274      0.243      0.171     0.0619\n"
          ]
        },
        {
          "name": "stderr",
          "output_type": "stream",
          "text": [
            "\n"
          ]
        },
        {
          "name": "stdout",
          "output_type": "stream",
          "text": [
            "\n",
            "      Epoch    GPU_mem   box_loss   cls_loss   dfl_loss  Instances       Size\n"
          ]
        },
        {
          "name": "stderr",
          "output_type": "stream",
          "text": [
            "     17/100      8.76G      1.395      1.454      1.616          5        640: 100%|██████████| 526/526 [05:20<00:00,  1.64it/s]\n",
            "                 Class     Images  Instances      Box(P          R      mAP50  mAP50-95): 100%|██████████| 39/39 [00:18<00:00,  2.10it/s]"
          ]
        },
        {
          "name": "stdout",
          "output_type": "stream",
          "text": [
            "                   all       1236        930      0.274      0.213       0.15     0.0506\n"
          ]
        },
        {
          "name": "stderr",
          "output_type": "stream",
          "text": [
            "\n"
          ]
        },
        {
          "name": "stdout",
          "output_type": "stream",
          "text": [
            "\n",
            "      Epoch    GPU_mem   box_loss   cls_loss   dfl_loss  Instances       Size\n"
          ]
        },
        {
          "name": "stderr",
          "output_type": "stream",
          "text": [
            "     18/100      8.72G      1.383      1.437      1.613          4        640: 100%|██████████| 526/526 [05:20<00:00,  1.64it/s]\n",
            "                 Class     Images  Instances      Box(P          R      mAP50  mAP50-95): 100%|██████████| 39/39 [00:18<00:00,  2.09it/s]"
          ]
        },
        {
          "name": "stdout",
          "output_type": "stream",
          "text": [
            "                   all       1236        930      0.225      0.222      0.134     0.0485\n"
          ]
        },
        {
          "name": "stderr",
          "output_type": "stream",
          "text": [
            "\n"
          ]
        },
        {
          "name": "stdout",
          "output_type": "stream",
          "text": [
            "\n",
            "      Epoch    GPU_mem   box_loss   cls_loss   dfl_loss  Instances       Size\n"
          ]
        },
        {
          "name": "stderr",
          "output_type": "stream",
          "text": [
            "     19/100      8.77G      1.371      1.383      1.608          4        640: 100%|██████████| 526/526 [05:20<00:00,  1.64it/s]\n",
            "                 Class     Images  Instances      Box(P          R      mAP50  mAP50-95): 100%|██████████| 39/39 [00:18<00:00,  2.09it/s]"
          ]
        },
        {
          "name": "stdout",
          "output_type": "stream",
          "text": [
            "                   all       1236        930      0.202      0.189     0.0887     0.0302\n"
          ]
        },
        {
          "name": "stderr",
          "output_type": "stream",
          "text": [
            "\n"
          ]
        },
        {
          "name": "stdout",
          "output_type": "stream",
          "text": [
            "\n",
            "      Epoch    GPU_mem   box_loss   cls_loss   dfl_loss  Instances       Size\n"
          ]
        },
        {
          "name": "stderr",
          "output_type": "stream",
          "text": [
            "     20/100      8.72G      1.355      1.363      1.588          2        640: 100%|██████████| 526/526 [05:20<00:00,  1.64it/s]\n",
            "                 Class     Images  Instances      Box(P          R      mAP50  mAP50-95): 100%|██████████| 39/39 [00:18<00:00,  2.10it/s]"
          ]
        },
        {
          "name": "stdout",
          "output_type": "stream",
          "text": [
            "                   all       1236        930      0.259      0.247      0.163     0.0573\n"
          ]
        },
        {
          "name": "stderr",
          "output_type": "stream",
          "text": [
            "\n"
          ]
        },
        {
          "name": "stdout",
          "output_type": "stream",
          "text": [
            "\n",
            "      Epoch    GPU_mem   box_loss   cls_loss   dfl_loss  Instances       Size\n"
          ]
        },
        {
          "name": "stderr",
          "output_type": "stream",
          "text": [
            "     21/100      8.77G      1.337      1.306      1.568          8        640: 100%|██████████| 526/526 [05:20<00:00,  1.64it/s]\n",
            "                 Class     Images  Instances      Box(P          R      mAP50  mAP50-95): 100%|██████████| 39/39 [00:18<00:00,  2.09it/s]"
          ]
        },
        {
          "name": "stdout",
          "output_type": "stream",
          "text": [
            "                   all       1236        930      0.225      0.226      0.129     0.0485\n"
          ]
        },
        {
          "name": "stderr",
          "output_type": "stream",
          "text": [
            "\n"
          ]
        },
        {
          "name": "stdout",
          "output_type": "stream",
          "text": [
            "\n",
            "      Epoch    GPU_mem   box_loss   cls_loss   dfl_loss  Instances       Size\n"
          ]
        },
        {
          "name": "stderr",
          "output_type": "stream",
          "text": [
            "     22/100      8.72G      1.317       1.25      1.544          2        640: 100%|██████████| 526/526 [05:20<00:00,  1.64it/s]\n",
            "                 Class     Images  Instances      Box(P          R      mAP50  mAP50-95): 100%|██████████| 39/39 [00:18<00:00,  2.10it/s]"
          ]
        },
        {
          "name": "stdout",
          "output_type": "stream",
          "text": [
            "                   all       1236        930      0.245      0.218      0.154     0.0523\n"
          ]
        },
        {
          "name": "stderr",
          "output_type": "stream",
          "text": [
            "\n"
          ]
        },
        {
          "name": "stdout",
          "output_type": "stream",
          "text": [
            "\n",
            "      Epoch    GPU_mem   box_loss   cls_loss   dfl_loss  Instances       Size\n"
          ]
        },
        {
          "name": "stderr",
          "output_type": "stream",
          "text": [
            "     23/100      8.76G      1.282      1.225      1.526          3        640: 100%|██████████| 526/526 [05:20<00:00,  1.64it/s]\n",
            "                 Class     Images  Instances      Box(P          R      mAP50  mAP50-95): 100%|██████████| 39/39 [00:18<00:00,  2.10it/s]"
          ]
        },
        {
          "name": "stdout",
          "output_type": "stream",
          "text": [
            "                   all       1236        930      0.249      0.253      0.158     0.0572\n"
          ]
        },
        {
          "name": "stderr",
          "output_type": "stream",
          "text": [
            "\n"
          ]
        },
        {
          "name": "stdout",
          "output_type": "stream",
          "text": [
            "\n",
            "      Epoch    GPU_mem   box_loss   cls_loss   dfl_loss  Instances       Size\n"
          ]
        },
        {
          "name": "stderr",
          "output_type": "stream",
          "text": [
            "     24/100      8.72G      1.273      1.185      1.509          1        640: 100%|██████████| 526/526 [05:21<00:00,  1.64it/s]\n",
            "                 Class     Images  Instances      Box(P          R      mAP50  mAP50-95): 100%|██████████| 39/39 [00:18<00:00,  2.10it/s]"
          ]
        },
        {
          "name": "stdout",
          "output_type": "stream",
          "text": [
            "                   all       1236        930      0.263      0.216      0.155     0.0579\n"
          ]
        },
        {
          "name": "stderr",
          "output_type": "stream",
          "text": [
            "\n"
          ]
        },
        {
          "name": "stdout",
          "output_type": "stream",
          "text": [
            "\n",
            "      Epoch    GPU_mem   box_loss   cls_loss   dfl_loss  Instances       Size\n"
          ]
        },
        {
          "name": "stderr",
          "output_type": "stream",
          "text": [
            "     25/100      8.77G      1.252      1.187      1.502          4        640: 100%|██████████| 526/526 [05:21<00:00,  1.64it/s]\n",
            "                 Class     Images  Instances      Box(P          R      mAP50  mAP50-95): 100%|██████████| 39/39 [00:18<00:00,  2.10it/s]"
          ]
        },
        {
          "name": "stdout",
          "output_type": "stream",
          "text": [
            "                   all       1236        930      0.225       0.22      0.129     0.0457\n"
          ]
        },
        {
          "name": "stderr",
          "output_type": "stream",
          "text": [
            "\n"
          ]
        },
        {
          "name": "stdout",
          "output_type": "stream",
          "text": [
            "\n",
            "      Epoch    GPU_mem   box_loss   cls_loss   dfl_loss  Instances       Size\n"
          ]
        },
        {
          "name": "stderr",
          "output_type": "stream",
          "text": [
            "     26/100      8.72G      1.248      1.196      1.511          1        640: 100%|██████████| 526/526 [05:20<00:00,  1.64it/s]\n",
            "                 Class     Images  Instances      Box(P          R      mAP50  mAP50-95): 100%|██████████| 39/39 [00:18<00:00,  2.10it/s]"
          ]
        },
        {
          "name": "stdout",
          "output_type": "stream",
          "text": [
            "                   all       1236        930      0.279      0.248      0.166     0.0615\n"
          ]
        },
        {
          "name": "stderr",
          "output_type": "stream",
          "text": [
            "\n"
          ]
        },
        {
          "name": "stdout",
          "output_type": "stream",
          "text": [
            "\n",
            "      Epoch    GPU_mem   box_loss   cls_loss   dfl_loss  Instances       Size\n"
          ]
        },
        {
          "name": "stderr",
          "output_type": "stream",
          "text": [
            "     27/100      8.76G      1.208      1.127      1.465          1        640: 100%|██████████| 526/526 [05:21<00:00,  1.64it/s]\n",
            "                 Class     Images  Instances      Box(P          R      mAP50  mAP50-95): 100%|██████████| 39/39 [00:18<00:00,  2.11it/s]"
          ]
        },
        {
          "name": "stdout",
          "output_type": "stream",
          "text": [
            "                   all       1236        930      0.293       0.21      0.162     0.0601\n"
          ]
        },
        {
          "name": "stderr",
          "output_type": "stream",
          "text": [
            "\n"
          ]
        },
        {
          "name": "stdout",
          "output_type": "stream",
          "text": [
            "\n",
            "      Epoch    GPU_mem   box_loss   cls_loss   dfl_loss  Instances       Size\n"
          ]
        },
        {
          "name": "stderr",
          "output_type": "stream",
          "text": [
            "     28/100      8.72G      1.201       1.09       1.45          2        640: 100%|██████████| 526/526 [05:20<00:00,  1.64it/s]\n",
            "                 Class     Images  Instances      Box(P          R      mAP50  mAP50-95): 100%|██████████| 39/39 [00:18<00:00,  2.11it/s]"
          ]
        },
        {
          "name": "stdout",
          "output_type": "stream",
          "text": [
            "                   all       1236        930      0.281      0.216       0.15     0.0547\n"
          ]
        },
        {
          "name": "stderr",
          "output_type": "stream",
          "text": [
            "\n"
          ]
        },
        {
          "name": "stdout",
          "output_type": "stream",
          "text": [
            "\n",
            "      Epoch    GPU_mem   box_loss   cls_loss   dfl_loss  Instances       Size\n"
          ]
        },
        {
          "name": "stderr",
          "output_type": "stream",
          "text": [
            "     29/100      8.76G      1.176       1.05      1.438          4        640: 100%|██████████| 526/526 [05:21<00:00,  1.64it/s]\n",
            "                 Class     Images  Instances      Box(P          R      mAP50  mAP50-95): 100%|██████████| 39/39 [00:18<00:00,  2.10it/s]"
          ]
        },
        {
          "name": "stdout",
          "output_type": "stream",
          "text": [
            "                   all       1236        930      0.221      0.195      0.127     0.0457\n"
          ]
        },
        {
          "name": "stderr",
          "output_type": "stream",
          "text": [
            "\n"
          ]
        },
        {
          "name": "stdout",
          "output_type": "stream",
          "text": [
            "\n",
            "      Epoch    GPU_mem   box_loss   cls_loss   dfl_loss  Instances       Size\n"
          ]
        },
        {
          "name": "stderr",
          "output_type": "stream",
          "text": [
            "     30/100      8.72G      1.144      1.031      1.415          2        640: 100%|██████████| 526/526 [05:21<00:00,  1.64it/s]\n",
            "                 Class     Images  Instances      Box(P          R      mAP50  mAP50-95): 100%|██████████| 39/39 [00:18<00:00,  2.11it/s]"
          ]
        },
        {
          "name": "stdout",
          "output_type": "stream",
          "text": [
            "                   all       1236        930      0.264      0.198       0.15     0.0564\n"
          ]
        },
        {
          "name": "stderr",
          "output_type": "stream",
          "text": [
            "\n"
          ]
        },
        {
          "name": "stdout",
          "output_type": "stream",
          "text": [
            "\n",
            "      Epoch    GPU_mem   box_loss   cls_loss   dfl_loss  Instances       Size\n"
          ]
        },
        {
          "name": "stderr",
          "output_type": "stream",
          "text": [
            "     31/100      8.76G      1.149      1.017      1.409          2        640: 100%|██████████| 526/526 [05:21<00:00,  1.64it/s]\n",
            "                 Class     Images  Instances      Box(P          R      mAP50  mAP50-95): 100%|██████████| 39/39 [00:18<00:00,  2.11it/s]"
          ]
        },
        {
          "name": "stdout",
          "output_type": "stream",
          "text": [
            "                   all       1236        930      0.263      0.219      0.149      0.055\n"
          ]
        },
        {
          "name": "stderr",
          "output_type": "stream",
          "text": [
            "\n"
          ]
        },
        {
          "name": "stdout",
          "output_type": "stream",
          "text": [
            "\n",
            "      Epoch    GPU_mem   box_loss   cls_loss   dfl_loss  Instances       Size\n"
          ]
        },
        {
          "name": "stderr",
          "output_type": "stream",
          "text": [
            "     32/100      8.72G      1.128     0.9847      1.394          8        640: 100%|██████████| 526/526 [05:21<00:00,  1.64it/s]\n",
            "                 Class     Images  Instances      Box(P          R      mAP50  mAP50-95): 100%|██████████| 39/39 [00:18<00:00,  2.10it/s]"
          ]
        },
        {
          "name": "stdout",
          "output_type": "stream",
          "text": [
            "                   all       1236        930        0.3      0.256      0.177     0.0606\n"
          ]
        },
        {
          "name": "stderr",
          "output_type": "stream",
          "text": [
            "\n"
          ]
        },
        {
          "name": "stdout",
          "output_type": "stream",
          "text": [
            "\n",
            "      Epoch    GPU_mem   box_loss   cls_loss   dfl_loss  Instances       Size\n"
          ]
        },
        {
          "name": "stderr",
          "output_type": "stream",
          "text": [
            "     33/100      8.76G      1.117     0.9631      1.383          2        640: 100%|██████████| 526/526 [05:21<00:00,  1.64it/s]\n",
            "                 Class     Images  Instances      Box(P          R      mAP50  mAP50-95): 100%|██████████| 39/39 [00:18<00:00,  2.11it/s]"
          ]
        },
        {
          "name": "stdout",
          "output_type": "stream",
          "text": [
            "                   all       1236        930      0.301      0.212      0.169     0.0629\n"
          ]
        },
        {
          "name": "stderr",
          "output_type": "stream",
          "text": [
            "\n"
          ]
        },
        {
          "name": "stdout",
          "output_type": "stream",
          "text": [
            "\n",
            "      Epoch    GPU_mem   box_loss   cls_loss   dfl_loss  Instances       Size\n"
          ]
        },
        {
          "name": "stderr",
          "output_type": "stream",
          "text": [
            "     34/100      8.72G      1.086       0.94      1.368          5        640: 100%|██████████| 526/526 [05:21<00:00,  1.64it/s]\n",
            "                 Class     Images  Instances      Box(P          R      mAP50  mAP50-95): 100%|██████████| 39/39 [00:18<00:00,  2.11it/s]"
          ]
        },
        {
          "name": "stdout",
          "output_type": "stream",
          "text": [
            "                   all       1236        930      0.297      0.219      0.165     0.0599\n"
          ]
        },
        {
          "name": "stderr",
          "output_type": "stream",
          "text": [
            "\n"
          ]
        },
        {
          "name": "stdout",
          "output_type": "stream",
          "text": [
            "\n",
            "      Epoch    GPU_mem   box_loss   cls_loss   dfl_loss  Instances       Size\n"
          ]
        },
        {
          "name": "stderr",
          "output_type": "stream",
          "text": [
            "     35/100      8.76G      1.102     0.9313       1.37          6        640: 100%|██████████| 526/526 [05:21<00:00,  1.64it/s]\n",
            "                 Class     Images  Instances      Box(P          R      mAP50  mAP50-95): 100%|██████████| 39/39 [00:18<00:00,  2.12it/s]"
          ]
        },
        {
          "name": "stdout",
          "output_type": "stream",
          "text": [
            "                   all       1236        930      0.327      0.203      0.185     0.0742\n"
          ]
        },
        {
          "name": "stderr",
          "output_type": "stream",
          "text": [
            "\n"
          ]
        },
        {
          "name": "stdout",
          "output_type": "stream",
          "text": [
            "\n",
            "      Epoch    GPU_mem   box_loss   cls_loss   dfl_loss  Instances       Size\n"
          ]
        },
        {
          "name": "stderr",
          "output_type": "stream",
          "text": [
            "     36/100      8.72G      1.066     0.9098      1.343          2        640: 100%|██████████| 526/526 [05:21<00:00,  1.64it/s]\n",
            "                 Class     Images  Instances      Box(P          R      mAP50  mAP50-95): 100%|██████████| 39/39 [00:18<00:00,  2.12it/s]"
          ]
        },
        {
          "name": "stdout",
          "output_type": "stream",
          "text": [
            "                   all       1236        930      0.279      0.193      0.154     0.0611\n"
          ]
        },
        {
          "name": "stderr",
          "output_type": "stream",
          "text": [
            "\n"
          ]
        },
        {
          "name": "stdout",
          "output_type": "stream",
          "text": [
            "\n",
            "      Epoch    GPU_mem   box_loss   cls_loss   dfl_loss  Instances       Size\n"
          ]
        },
        {
          "name": "stderr",
          "output_type": "stream",
          "text": [
            "     37/100      8.76G      1.052     0.9047      1.332          7        640: 100%|██████████| 526/526 [05:21<00:00,  1.64it/s]\n",
            "                 Class     Images  Instances      Box(P          R      mAP50  mAP50-95): 100%|██████████| 39/39 [00:18<00:00,  2.11it/s]"
          ]
        },
        {
          "name": "stdout",
          "output_type": "stream",
          "text": [
            "                   all       1236        930      0.285      0.172      0.149     0.0557\n"
          ]
        },
        {
          "name": "stderr",
          "output_type": "stream",
          "text": [
            "\n"
          ]
        },
        {
          "name": "stdout",
          "output_type": "stream",
          "text": [
            "\n",
            "      Epoch    GPU_mem   box_loss   cls_loss   dfl_loss  Instances       Size\n"
          ]
        },
        {
          "name": "stderr",
          "output_type": "stream",
          "text": [
            "     38/100      8.72G      1.046      0.883      1.341          2        640: 100%|██████████| 526/526 [05:21<00:00,  1.64it/s]\n",
            "                 Class     Images  Instances      Box(P          R      mAP50  mAP50-95): 100%|██████████| 39/39 [00:18<00:00,  2.12it/s]"
          ]
        },
        {
          "name": "stdout",
          "output_type": "stream",
          "text": [
            "                   all       1236        930      0.295      0.189      0.159     0.0556\n"
          ]
        },
        {
          "name": "stderr",
          "output_type": "stream",
          "text": [
            "\n"
          ]
        },
        {
          "name": "stdout",
          "output_type": "stream",
          "text": [
            "\n",
            "      Epoch    GPU_mem   box_loss   cls_loss   dfl_loss  Instances       Size\n"
          ]
        },
        {
          "name": "stderr",
          "output_type": "stream",
          "text": [
            "     39/100      8.76G      1.037     0.8642      1.332          4        640: 100%|██████████| 526/526 [05:21<00:00,  1.64it/s]\n",
            "                 Class     Images  Instances      Box(P          R      mAP50  mAP50-95): 100%|██████████| 39/39 [00:18<00:00,  2.10it/s]"
          ]
        },
        {
          "name": "stdout",
          "output_type": "stream",
          "text": [
            "                   all       1236        930      0.264      0.174      0.143     0.0571\n"
          ]
        },
        {
          "name": "stderr",
          "output_type": "stream",
          "text": [
            "\n"
          ]
        },
        {
          "name": "stdout",
          "output_type": "stream",
          "text": [
            "\n",
            "      Epoch    GPU_mem   box_loss   cls_loss   dfl_loss  Instances       Size\n"
          ]
        },
        {
          "name": "stderr",
          "output_type": "stream",
          "text": [
            "     40/100      8.72G      1.019     0.8551      1.309          4        640: 100%|██████████| 526/526 [05:21<00:00,  1.64it/s]\n",
            "                 Class     Images  Instances      Box(P          R      mAP50  mAP50-95): 100%|██████████| 39/39 [00:18<00:00,  2.11it/s]"
          ]
        },
        {
          "name": "stdout",
          "output_type": "stream",
          "text": [
            "                   all       1236        930      0.285      0.182       0.16     0.0615\n"
          ]
        },
        {
          "name": "stderr",
          "output_type": "stream",
          "text": [
            "\n"
          ]
        },
        {
          "name": "stdout",
          "output_type": "stream",
          "text": [
            "\n",
            "      Epoch    GPU_mem   box_loss   cls_loss   dfl_loss  Instances       Size\n"
          ]
        },
        {
          "name": "stderr",
          "output_type": "stream",
          "text": [
            "     41/100      8.76G      1.005     0.8368      1.302          8        640: 100%|██████████| 526/526 [05:21<00:00,  1.64it/s]\n",
            "                 Class     Images  Instances      Box(P          R      mAP50  mAP50-95): 100%|██████████| 39/39 [00:18<00:00,  2.12it/s]"
          ]
        },
        {
          "name": "stdout",
          "output_type": "stream",
          "text": [
            "                   all       1236        930      0.322      0.177       0.16     0.0635\n"
          ]
        },
        {
          "name": "stderr",
          "output_type": "stream",
          "text": [
            "\n"
          ]
        },
        {
          "name": "stdout",
          "output_type": "stream",
          "text": [
            "\n",
            "      Epoch    GPU_mem   box_loss   cls_loss   dfl_loss  Instances       Size\n"
          ]
        },
        {
          "name": "stderr",
          "output_type": "stream",
          "text": [
            "     42/100      8.72G      0.988     0.8181      1.292          2        640: 100%|██████████| 526/526 [05:21<00:00,  1.64it/s]\n",
            "                 Class     Images  Instances      Box(P          R      mAP50  mAP50-95): 100%|██████████| 39/39 [00:18<00:00,  2.13it/s]"
          ]
        },
        {
          "name": "stdout",
          "output_type": "stream",
          "text": [
            "                   all       1236        930      0.326      0.192      0.166     0.0601\n"
          ]
        },
        {
          "name": "stderr",
          "output_type": "stream",
          "text": [
            "\n"
          ]
        },
        {
          "name": "stdout",
          "output_type": "stream",
          "text": [
            "\n",
            "      Epoch    GPU_mem   box_loss   cls_loss   dfl_loss  Instances       Size\n"
          ]
        },
        {
          "name": "stderr",
          "output_type": "stream",
          "text": [
            "     43/100      8.76G     0.9663      0.807      1.275          3        640: 100%|██████████| 526/526 [05:21<00:00,  1.64it/s]\n",
            "                 Class     Images  Instances      Box(P          R      mAP50  mAP50-95): 100%|██████████| 39/39 [00:18<00:00,  2.12it/s]"
          ]
        },
        {
          "name": "stdout",
          "output_type": "stream",
          "text": [
            "                   all       1236        930      0.332      0.191      0.165     0.0617\n"
          ]
        },
        {
          "name": "stderr",
          "output_type": "stream",
          "text": [
            "\n"
          ]
        },
        {
          "name": "stdout",
          "output_type": "stream",
          "text": [
            "\n",
            "      Epoch    GPU_mem   box_loss   cls_loss   dfl_loss  Instances       Size\n"
          ]
        },
        {
          "name": "stderr",
          "output_type": "stream",
          "text": [
            "     44/100      8.72G     0.9636     0.7969      1.267          6        640: 100%|██████████| 526/526 [05:21<00:00,  1.64it/s]\n",
            "                 Class     Images  Instances      Box(P          R      mAP50  mAP50-95): 100%|██████████| 39/39 [00:18<00:00,  2.13it/s]"
          ]
        },
        {
          "name": "stdout",
          "output_type": "stream",
          "text": [
            "                   all       1236        930      0.322      0.174      0.149      0.056\n"
          ]
        },
        {
          "name": "stderr",
          "output_type": "stream",
          "text": [
            "\n"
          ]
        },
        {
          "name": "stdout",
          "output_type": "stream",
          "text": [
            "\n",
            "      Epoch    GPU_mem   box_loss   cls_loss   dfl_loss  Instances       Size\n"
          ]
        },
        {
          "name": "stderr",
          "output_type": "stream",
          "text": [
            "     45/100      8.76G     0.9571     0.7906      1.264          3        640: 100%|██████████| 526/526 [05:21<00:00,  1.64it/s]\n",
            "                 Class     Images  Instances      Box(P          R      mAP50  mAP50-95): 100%|██████████| 39/39 [00:18<00:00,  2.13it/s]"
          ]
        },
        {
          "name": "stdout",
          "output_type": "stream",
          "text": [
            "                   all       1236        930      0.324      0.157      0.171     0.0652\n"
          ]
        },
        {
          "name": "stderr",
          "output_type": "stream",
          "text": [
            "\n"
          ]
        },
        {
          "name": "stdout",
          "output_type": "stream",
          "text": [
            "\n",
            "      Epoch    GPU_mem   box_loss   cls_loss   dfl_loss  Instances       Size\n"
          ]
        },
        {
          "name": "stderr",
          "output_type": "stream",
          "text": [
            "     46/100      8.72G     0.9308     0.7473      1.245          4        640: 100%|██████████| 526/526 [05:21<00:00,  1.64it/s]\n",
            "                 Class     Images  Instances      Box(P          R      mAP50  mAP50-95): 100%|██████████| 39/39 [00:18<00:00,  2.13it/s]"
          ]
        },
        {
          "name": "stdout",
          "output_type": "stream",
          "text": [
            "                   all       1236        930       0.34      0.172      0.162     0.0623\n"
          ]
        },
        {
          "name": "stderr",
          "output_type": "stream",
          "text": [
            "\n"
          ]
        },
        {
          "name": "stdout",
          "output_type": "stream",
          "text": [
            "\n",
            "      Epoch    GPU_mem   box_loss   cls_loss   dfl_loss  Instances       Size\n"
          ]
        },
        {
          "name": "stderr",
          "output_type": "stream",
          "text": [
            "     47/100      8.76G     0.9221     0.7492      1.241          6        640: 100%|██████████| 526/526 [05:21<00:00,  1.64it/s]\n",
            "                 Class     Images  Instances      Box(P          R      mAP50  mAP50-95): 100%|██████████| 39/39 [00:18<00:00,  2.12it/s]"
          ]
        },
        {
          "name": "stdout",
          "output_type": "stream",
          "text": [
            "                   all       1236        930      0.331      0.201      0.176     0.0659\n"
          ]
        },
        {
          "name": "stderr",
          "output_type": "stream",
          "text": [
            "\n"
          ]
        },
        {
          "name": "stdout",
          "output_type": "stream",
          "text": [
            "\n",
            "      Epoch    GPU_mem   box_loss   cls_loss   dfl_loss  Instances       Size\n"
          ]
        },
        {
          "name": "stderr",
          "output_type": "stream",
          "text": [
            "     48/100      8.72G     0.9053     0.7249      1.231          5        640: 100%|██████████| 526/526 [05:21<00:00,  1.64it/s]\n",
            "                 Class     Images  Instances      Box(P          R      mAP50  mAP50-95): 100%|██████████| 39/39 [00:18<00:00,  2.13it/s]"
          ]
        },
        {
          "name": "stdout",
          "output_type": "stream",
          "text": [
            "                   all       1236        930      0.336      0.175      0.166     0.0671\n"
          ]
        },
        {
          "name": "stderr",
          "output_type": "stream",
          "text": [
            "\n"
          ]
        },
        {
          "name": "stdout",
          "output_type": "stream",
          "text": [
            "\n",
            "      Epoch    GPU_mem   box_loss   cls_loss   dfl_loss  Instances       Size\n"
          ]
        },
        {
          "name": "stderr",
          "output_type": "stream",
          "text": [
            "     49/100      8.76G     0.9002     0.7245      1.226          1        640: 100%|██████████| 526/526 [05:21<00:00,  1.64it/s]\n",
            "                 Class     Images  Instances      Box(P          R      mAP50  mAP50-95): 100%|██████████| 39/39 [00:18<00:00,  2.13it/s]"
          ]
        },
        {
          "name": "stdout",
          "output_type": "stream",
          "text": [
            "                   all       1236        930       0.36      0.178      0.167     0.0643\n"
          ]
        },
        {
          "name": "stderr",
          "output_type": "stream",
          "text": [
            "\n"
          ]
        },
        {
          "name": "stdout",
          "output_type": "stream",
          "text": [
            "\n",
            "      Epoch    GPU_mem   box_loss   cls_loss   dfl_loss  Instances       Size\n"
          ]
        },
        {
          "name": "stderr",
          "output_type": "stream",
          "text": [
            "     50/100      8.72G     0.8911     0.7327      1.222          7        640: 100%|██████████| 526/526 [05:21<00:00,  1.64it/s]\n",
            "                 Class     Images  Instances      Box(P          R      mAP50  mAP50-95): 100%|██████████| 39/39 [00:18<00:00,  2.14it/s]"
          ]
        },
        {
          "name": "stdout",
          "output_type": "stream",
          "text": [
            "                   all       1236        930      0.334      0.156      0.163     0.0625\n"
          ]
        },
        {
          "name": "stderr",
          "output_type": "stream",
          "text": [
            "\n"
          ]
        },
        {
          "name": "stdout",
          "output_type": "stream",
          "text": [
            "\n",
            "      Epoch    GPU_mem   box_loss   cls_loss   dfl_loss  Instances       Size\n"
          ]
        },
        {
          "name": "stderr",
          "output_type": "stream",
          "text": [
            "     51/100      8.76G     0.8623     0.6983      1.205          2        640: 100%|██████████| 526/526 [05:21<00:00,  1.64it/s]\n",
            "                 Class     Images  Instances      Box(P          R      mAP50  mAP50-95): 100%|██████████| 39/39 [00:18<00:00,  2.14it/s]"
          ]
        },
        {
          "name": "stdout",
          "output_type": "stream",
          "text": [
            "                   all       1236        930      0.357      0.144      0.162     0.0632\n"
          ]
        },
        {
          "name": "stderr",
          "output_type": "stream",
          "text": [
            "\n"
          ]
        },
        {
          "name": "stdout",
          "output_type": "stream",
          "text": [
            "\n",
            "      Epoch    GPU_mem   box_loss   cls_loss   dfl_loss  Instances       Size\n"
          ]
        },
        {
          "name": "stderr",
          "output_type": "stream",
          "text": [
            "     52/100      8.72G      0.869     0.7055      1.197          2        640: 100%|██████████| 526/526 [05:21<00:00,  1.63it/s]\n",
            "                 Class     Images  Instances      Box(P          R      mAP50  mAP50-95): 100%|██████████| 39/39 [00:18<00:00,  2.13it/s]"
          ]
        },
        {
          "name": "stdout",
          "output_type": "stream",
          "text": [
            "                   all       1236        930      0.163      0.308      0.171     0.0662\n"
          ]
        },
        {
          "name": "stderr",
          "output_type": "stream",
          "text": [
            "\n"
          ]
        },
        {
          "name": "stdout",
          "output_type": "stream",
          "text": [
            "\n",
            "      Epoch    GPU_mem   box_loss   cls_loss   dfl_loss  Instances       Size\n"
          ]
        },
        {
          "name": "stderr",
          "output_type": "stream",
          "text": [
            "     53/100      8.76G     0.8612      0.683      1.197          3        640: 100%|██████████| 526/526 [05:21<00:00,  1.63it/s]\n",
            "                 Class     Images  Instances      Box(P          R      mAP50  mAP50-95): 100%|██████████| 39/39 [00:18<00:00,  2.13it/s]"
          ]
        },
        {
          "name": "stdout",
          "output_type": "stream",
          "text": [
            "                   all       1236        930      0.358      0.159      0.165     0.0638\n"
          ]
        },
        {
          "name": "stderr",
          "output_type": "stream",
          "text": [
            "\n"
          ]
        },
        {
          "name": "stdout",
          "output_type": "stream",
          "text": [
            "\n",
            "      Epoch    GPU_mem   box_loss   cls_loss   dfl_loss  Instances       Size\n"
          ]
        },
        {
          "name": "stderr",
          "output_type": "stream",
          "text": [
            "     54/100      8.72G     0.8584     0.6755      1.197          3        640: 100%|██████████| 526/526 [05:21<00:00,  1.64it/s]\n",
            "                 Class     Images  Instances      Box(P          R      mAP50  mAP50-95): 100%|██████████| 39/39 [00:18<00:00,  2.14it/s]"
          ]
        },
        {
          "name": "stdout",
          "output_type": "stream",
          "text": [
            "                   all       1236        930       0.32      0.166       0.16     0.0644\n"
          ]
        },
        {
          "name": "stderr",
          "output_type": "stream",
          "text": [
            "\n"
          ]
        },
        {
          "name": "stdout",
          "output_type": "stream",
          "text": [
            "\n",
            "      Epoch    GPU_mem   box_loss   cls_loss   dfl_loss  Instances       Size\n"
          ]
        },
        {
          "name": "stderr",
          "output_type": "stream",
          "text": [
            "     55/100      8.76G     0.8394     0.6716      1.183          3        640: 100%|██████████| 526/526 [05:21<00:00,  1.64it/s]\n",
            "                 Class     Images  Instances      Box(P          R      mAP50  mAP50-95): 100%|██████████| 39/39 [00:18<00:00,  2.14it/s]"
          ]
        },
        {
          "name": "stdout",
          "output_type": "stream",
          "text": [
            "                   all       1236        930      0.167      0.289      0.167     0.0647\n"
          ]
        },
        {
          "name": "stderr",
          "output_type": "stream",
          "text": [
            "\n"
          ]
        },
        {
          "name": "stdout",
          "output_type": "stream",
          "text": [
            "\n",
            "      Epoch    GPU_mem   box_loss   cls_loss   dfl_loss  Instances       Size\n"
          ]
        },
        {
          "name": "stderr",
          "output_type": "stream",
          "text": [
            "     56/100      8.72G       0.84     0.6638      1.183          6        640: 100%|██████████| 526/526 [05:21<00:00,  1.64it/s]\n",
            "                 Class     Images  Instances      Box(P          R      mAP50  mAP50-95): 100%|██████████| 39/39 [00:18<00:00,  2.14it/s]"
          ]
        },
        {
          "name": "stdout",
          "output_type": "stream",
          "text": [
            "                   all       1236        930      0.172       0.28      0.164     0.0615\n"
          ]
        },
        {
          "name": "stderr",
          "output_type": "stream",
          "text": [
            "\n"
          ]
        },
        {
          "name": "stdout",
          "output_type": "stream",
          "text": [
            "\n",
            "      Epoch    GPU_mem   box_loss   cls_loss   dfl_loss  Instances       Size\n"
          ]
        },
        {
          "name": "stderr",
          "output_type": "stream",
          "text": [
            "     57/100      8.76G     0.8165     0.6483      1.165          4        640: 100%|██████████| 526/526 [05:21<00:00,  1.64it/s]\n",
            "                 Class     Images  Instances      Box(P          R      mAP50  mAP50-95): 100%|██████████| 39/39 [00:18<00:00,  2.13it/s]"
          ]
        },
        {
          "name": "stdout",
          "output_type": "stream",
          "text": [
            "                   all       1236        930      0.359      0.162      0.169     0.0659\n"
          ]
        },
        {
          "name": "stderr",
          "output_type": "stream",
          "text": [
            "\n"
          ]
        },
        {
          "name": "stdout",
          "output_type": "stream",
          "text": [
            "\n",
            "      Epoch    GPU_mem   box_loss   cls_loss   dfl_loss  Instances       Size\n"
          ]
        },
        {
          "name": "stderr",
          "output_type": "stream",
          "text": [
            "     58/100      8.72G     0.8281      0.661      1.171          1        640: 100%|██████████| 526/526 [05:21<00:00,  1.64it/s]\n",
            "                 Class     Images  Instances      Box(P          R      mAP50  mAP50-95): 100%|██████████| 39/39 [00:18<00:00,  2.13it/s]"
          ]
        },
        {
          "name": "stdout",
          "output_type": "stream",
          "text": [
            "                   all       1236        930      0.292      0.206      0.166     0.0641\n"
          ]
        },
        {
          "name": "stderr",
          "output_type": "stream",
          "text": [
            "\n"
          ]
        },
        {
          "name": "stdout",
          "output_type": "stream",
          "text": [
            "\n",
            "      Epoch    GPU_mem   box_loss   cls_loss   dfl_loss  Instances       Size\n"
          ]
        },
        {
          "name": "stderr",
          "output_type": "stream",
          "text": [
            "     59/100      8.76G     0.8052     0.6347      1.156          4        640: 100%|██████████| 526/526 [05:21<00:00,  1.63it/s]\n",
            "                 Class     Images  Instances      Box(P          R      mAP50  mAP50-95): 100%|██████████| 39/39 [00:18<00:00,  2.14it/s]"
          ]
        },
        {
          "name": "stdout",
          "output_type": "stream",
          "text": [
            "                   all       1236        930      0.376      0.144      0.157     0.0577\n"
          ]
        },
        {
          "name": "stderr",
          "output_type": "stream",
          "text": [
            "\n"
          ]
        },
        {
          "name": "stdout",
          "output_type": "stream",
          "text": [
            "\n",
            "      Epoch    GPU_mem   box_loss   cls_loss   dfl_loss  Instances       Size\n"
          ]
        },
        {
          "name": "stderr",
          "output_type": "stream",
          "text": [
            "     60/100      8.72G     0.7901     0.6064      1.142          2        640: 100%|██████████| 526/526 [05:21<00:00,  1.64it/s]\n",
            "                 Class     Images  Instances      Box(P          R      mAP50  mAP50-95): 100%|██████████| 39/39 [00:18<00:00,  2.15it/s]"
          ]
        },
        {
          "name": "stdout",
          "output_type": "stream",
          "text": [
            "                   all       1236        930      0.372      0.154       0.16     0.0612\n"
          ]
        },
        {
          "name": "stderr",
          "output_type": "stream",
          "text": [
            "\n"
          ]
        },
        {
          "name": "stdout",
          "output_type": "stream",
          "text": [
            "\n",
            "      Epoch    GPU_mem   box_loss   cls_loss   dfl_loss  Instances       Size\n"
          ]
        },
        {
          "name": "stderr",
          "output_type": "stream",
          "text": [
            "     61/100      8.76G     0.7819     0.6141      1.141          3        640: 100%|██████████| 526/526 [05:21<00:00,  1.63it/s]\n",
            "                 Class     Images  Instances      Box(P          R      mAP50  mAP50-95): 100%|██████████| 39/39 [00:18<00:00,  2.15it/s]"
          ]
        },
        {
          "name": "stdout",
          "output_type": "stream",
          "text": [
            "                   all       1236        930      0.176      0.271      0.166     0.0623\n"
          ]
        },
        {
          "name": "stderr",
          "output_type": "stream",
          "text": [
            "\n"
          ]
        },
        {
          "name": "stdout",
          "output_type": "stream",
          "text": [
            "\n",
            "      Epoch    GPU_mem   box_loss   cls_loss   dfl_loss  Instances       Size\n"
          ]
        },
        {
          "name": "stderr",
          "output_type": "stream",
          "text": [
            "     62/100      8.72G     0.7679     0.5966      1.133          5        640: 100%|██████████| 526/526 [05:21<00:00,  1.64it/s]\n",
            "                 Class     Images  Instances      Box(P          R      mAP50  mAP50-95): 100%|██████████| 39/39 [00:18<00:00,  2.15it/s]"
          ]
        },
        {
          "name": "stdout",
          "output_type": "stream",
          "text": [
            "                   all       1236        930      0.167      0.247      0.159     0.0618\n"
          ]
        },
        {
          "name": "stderr",
          "output_type": "stream",
          "text": [
            "\n"
          ]
        },
        {
          "name": "stdout",
          "output_type": "stream",
          "text": [
            "\n",
            "      Epoch    GPU_mem   box_loss   cls_loss   dfl_loss  Instances       Size\n"
          ]
        },
        {
          "name": "stderr",
          "output_type": "stream",
          "text": [
            "     63/100      8.76G     0.7563     0.5848      1.124          1        640: 100%|██████████| 526/526 [05:21<00:00,  1.64it/s]\n",
            "                 Class     Images  Instances      Box(P          R      mAP50  mAP50-95): 100%|██████████| 39/39 [00:18<00:00,  2.16it/s]"
          ]
        },
        {
          "name": "stdout",
          "output_type": "stream",
          "text": [
            "                   all       1236        930       0.18      0.257      0.171     0.0651\n"
          ]
        },
        {
          "name": "stderr",
          "output_type": "stream",
          "text": [
            "\n"
          ]
        },
        {
          "name": "stdout",
          "output_type": "stream",
          "text": [
            "\n",
            "      Epoch    GPU_mem   box_loss   cls_loss   dfl_loss  Instances       Size\n"
          ]
        },
        {
          "name": "stderr",
          "output_type": "stream",
          "text": [
            "     64/100      8.72G       0.77     0.5965      1.131          0        640: 100%|██████████| 526/526 [05:21<00:00,  1.63it/s]\n",
            "                 Class     Images  Instances      Box(P          R      mAP50  mAP50-95): 100%|██████████| 39/39 [00:18<00:00,  2.15it/s]"
          ]
        },
        {
          "name": "stdout",
          "output_type": "stream",
          "text": [
            "                   all       1236        930      0.183      0.241      0.164     0.0653\n"
          ]
        },
        {
          "name": "stderr",
          "output_type": "stream",
          "text": [
            "\n"
          ]
        },
        {
          "name": "stdout",
          "output_type": "stream",
          "text": [
            "\n",
            "      Epoch    GPU_mem   box_loss   cls_loss   dfl_loss  Instances       Size\n"
          ]
        },
        {
          "name": "stderr",
          "output_type": "stream",
          "text": [
            "     65/100      8.76G     0.7347     0.5738       1.12          2        640: 100%|██████████| 526/526 [05:21<00:00,  1.63it/s]\n",
            "                 Class     Images  Instances      Box(P          R      mAP50  mAP50-95): 100%|██████████| 39/39 [00:18<00:00,  2.16it/s]"
          ]
        },
        {
          "name": "stdout",
          "output_type": "stream",
          "text": [
            "                   all       1236        930      0.188      0.237      0.163     0.0685\n"
          ]
        },
        {
          "name": "stderr",
          "output_type": "stream",
          "text": [
            "\n"
          ]
        },
        {
          "name": "stdout",
          "output_type": "stream",
          "text": [
            "\n",
            "      Epoch    GPU_mem   box_loss   cls_loss   dfl_loss  Instances       Size\n"
          ]
        },
        {
          "name": "stderr",
          "output_type": "stream",
          "text": [
            "     66/100      8.72G     0.7372     0.5725      1.116          3        640: 100%|██████████| 526/526 [05:21<00:00,  1.64it/s]\n",
            "                 Class     Images  Instances      Box(P          R      mAP50  mAP50-95): 100%|██████████| 39/39 [00:18<00:00,  2.16it/s]"
          ]
        },
        {
          "name": "stdout",
          "output_type": "stream",
          "text": [
            "                   all       1236        930      0.202      0.255      0.178     0.0771\n"
          ]
        },
        {
          "name": "stderr",
          "output_type": "stream",
          "text": [
            "\n"
          ]
        },
        {
          "name": "stdout",
          "output_type": "stream",
          "text": [
            "\n",
            "      Epoch    GPU_mem   box_loss   cls_loss   dfl_loss  Instances       Size\n"
          ]
        },
        {
          "name": "stderr",
          "output_type": "stream",
          "text": [
            "     67/100      8.76G      0.738     0.5705      1.119          2        640: 100%|██████████| 526/526 [05:21<00:00,  1.64it/s]\n",
            "                 Class     Images  Instances      Box(P          R      mAP50  mAP50-95): 100%|██████████| 39/39 [00:18<00:00,  2.16it/s]"
          ]
        },
        {
          "name": "stdout",
          "output_type": "stream",
          "text": [
            "                   all       1236        930      0.206      0.258      0.183     0.0771\n"
          ]
        },
        {
          "name": "stderr",
          "output_type": "stream",
          "text": [
            "\n"
          ]
        },
        {
          "name": "stdout",
          "output_type": "stream",
          "text": [
            "\n",
            "      Epoch    GPU_mem   box_loss   cls_loss   dfl_loss  Instances       Size\n"
          ]
        },
        {
          "name": "stderr",
          "output_type": "stream",
          "text": [
            "     68/100      8.72G      0.732      0.568      1.114          2        640: 100%|██████████| 526/526 [05:21<00:00,  1.64it/s]\n",
            "                 Class     Images  Instances      Box(P          R      mAP50  mAP50-95): 100%|██████████| 39/39 [00:18<00:00,  2.16it/s]"
          ]
        },
        {
          "name": "stdout",
          "output_type": "stream",
          "text": [
            "                   all       1236        930      0.214      0.247      0.185     0.0771\n"
          ]
        },
        {
          "name": "stderr",
          "output_type": "stream",
          "text": [
            "\n"
          ]
        },
        {
          "name": "stdout",
          "output_type": "stream",
          "text": [
            "\n",
            "      Epoch    GPU_mem   box_loss   cls_loss   dfl_loss  Instances       Size\n"
          ]
        },
        {
          "name": "stderr",
          "output_type": "stream",
          "text": [
            "     69/100      8.76G     0.7072     0.5383      1.095          1        640: 100%|██████████| 526/526 [05:21<00:00,  1.64it/s]\n",
            "                 Class     Images  Instances      Box(P          R      mAP50  mAP50-95): 100%|██████████| 39/39 [00:18<00:00,  2.17it/s]"
          ]
        },
        {
          "name": "stdout",
          "output_type": "stream",
          "text": [
            "                   all       1236        930      0.214      0.234      0.176     0.0753\n"
          ]
        },
        {
          "name": "stderr",
          "output_type": "stream",
          "text": [
            "\n"
          ]
        },
        {
          "name": "stdout",
          "output_type": "stream",
          "text": [
            "\n",
            "      Epoch    GPU_mem   box_loss   cls_loss   dfl_loss  Instances       Size\n"
          ]
        },
        {
          "name": "stderr",
          "output_type": "stream",
          "text": [
            "     70/100      8.72G     0.7091     0.5349      1.101          1        640: 100%|██████████| 526/526 [05:21<00:00,  1.63it/s]\n",
            "                 Class     Images  Instances      Box(P          R      mAP50  mAP50-95): 100%|██████████| 39/39 [00:17<00:00,  2.17it/s]"
          ]
        },
        {
          "name": "stdout",
          "output_type": "stream",
          "text": [
            "                   all       1236        930      0.203      0.218      0.173     0.0719\n"
          ]
        },
        {
          "name": "stderr",
          "output_type": "stream",
          "text": [
            "\n"
          ]
        },
        {
          "name": "stdout",
          "output_type": "stream",
          "text": [
            "\n",
            "      Epoch    GPU_mem   box_loss   cls_loss   dfl_loss  Instances       Size\n"
          ]
        },
        {
          "name": "stderr",
          "output_type": "stream",
          "text": [
            "     71/100      8.76G     0.7049     0.5483      1.092          7        640: 100%|██████████| 526/526 [05:21<00:00,  1.64it/s]\n",
            "                 Class     Images  Instances      Box(P          R      mAP50  mAP50-95): 100%|██████████| 39/39 [00:17<00:00,  2.17it/s]"
          ]
        },
        {
          "name": "stdout",
          "output_type": "stream",
          "text": [
            "                   all       1236        930      0.209      0.222      0.175     0.0722\n"
          ]
        },
        {
          "name": "stderr",
          "output_type": "stream",
          "text": [
            "\n"
          ]
        },
        {
          "name": "stdout",
          "output_type": "stream",
          "text": [
            "\n",
            "      Epoch    GPU_mem   box_loss   cls_loss   dfl_loss  Instances       Size\n"
          ]
        },
        {
          "name": "stderr",
          "output_type": "stream",
          "text": [
            "     72/100      8.72G     0.6889     0.5225      1.083          2        640: 100%|██████████| 526/526 [05:21<00:00,  1.63it/s]\n",
            "                 Class     Images  Instances      Box(P          R      mAP50  mAP50-95): 100%|██████████| 39/39 [00:17<00:00,  2.17it/s]"
          ]
        },
        {
          "name": "stdout",
          "output_type": "stream",
          "text": [
            "                   all       1236        930      0.176      0.194       0.15     0.0648\n"
          ]
        },
        {
          "name": "stderr",
          "output_type": "stream",
          "text": [
            "\n"
          ]
        },
        {
          "name": "stdout",
          "output_type": "stream",
          "text": [
            "\n",
            "      Epoch    GPU_mem   box_loss   cls_loss   dfl_loss  Instances       Size\n"
          ]
        },
        {
          "name": "stderr",
          "output_type": "stream",
          "text": [
            "     73/100      8.76G     0.6751     0.5116      1.077          4        640: 100%|██████████| 526/526 [05:22<00:00,  1.63it/s]\n",
            "                 Class     Images  Instances      Box(P          R      mAP50  mAP50-95): 100%|██████████| 39/39 [00:17<00:00,  2.17it/s]"
          ]
        },
        {
          "name": "stdout",
          "output_type": "stream",
          "text": [
            "                   all       1236        930      0.195      0.211      0.165     0.0708\n"
          ]
        },
        {
          "name": "stderr",
          "output_type": "stream",
          "text": [
            "\n"
          ]
        },
        {
          "name": "stdout",
          "output_type": "stream",
          "text": [
            "\n",
            "      Epoch    GPU_mem   box_loss   cls_loss   dfl_loss  Instances       Size\n"
          ]
        },
        {
          "name": "stderr",
          "output_type": "stream",
          "text": [
            "     74/100      8.72G     0.6742     0.5139      1.076          3        640: 100%|██████████| 526/526 [05:21<00:00,  1.63it/s]\n",
            "                 Class     Images  Instances      Box(P          R      mAP50  mAP50-95): 100%|██████████| 39/39 [00:17<00:00,  2.17it/s]"
          ]
        },
        {
          "name": "stdout",
          "output_type": "stream",
          "text": [
            "                   all       1236        930      0.196      0.215      0.166     0.0698\n"
          ]
        },
        {
          "name": "stderr",
          "output_type": "stream",
          "text": [
            "\n"
          ]
        },
        {
          "name": "stdout",
          "output_type": "stream",
          "text": [
            "\n",
            "      Epoch    GPU_mem   box_loss   cls_loss   dfl_loss  Instances       Size\n"
          ]
        },
        {
          "name": "stderr",
          "output_type": "stream",
          "text": [
            "     75/100      8.76G     0.6717     0.5121      1.077          5        640: 100%|██████████| 526/526 [05:22<00:00,  1.63it/s]\n",
            "                 Class     Images  Instances      Box(P          R      mAP50  mAP50-95): 100%|██████████| 39/39 [00:18<00:00,  2.16it/s]"
          ]
        },
        {
          "name": "stdout",
          "output_type": "stream",
          "text": [
            "                   all       1236        930      0.193      0.216      0.166     0.0693\n"
          ]
        },
        {
          "name": "stderr",
          "output_type": "stream",
          "text": [
            "\n"
          ]
        },
        {
          "name": "stdout",
          "output_type": "stream",
          "text": [
            "\n",
            "      Epoch    GPU_mem   box_loss   cls_loss   dfl_loss  Instances       Size\n"
          ]
        },
        {
          "name": "stderr",
          "output_type": "stream",
          "text": [
            "     76/100      8.72G     0.6589     0.5007      1.062          5        640: 100%|██████████| 526/526 [05:21<00:00,  1.63it/s]\n",
            "                 Class     Images  Instances      Box(P          R      mAP50  mAP50-95): 100%|██████████| 39/39 [00:17<00:00,  2.17it/s]"
          ]
        },
        {
          "name": "stdout",
          "output_type": "stream",
          "text": [
            "                   all       1236        930      0.193      0.199      0.163     0.0689\n"
          ]
        },
        {
          "name": "stderr",
          "output_type": "stream",
          "text": [
            "\n"
          ]
        },
        {
          "name": "stdout",
          "output_type": "stream",
          "text": [
            "\n",
            "      Epoch    GPU_mem   box_loss   cls_loss   dfl_loss  Instances       Size\n"
          ]
        },
        {
          "name": "stderr",
          "output_type": "stream",
          "text": [
            "     77/100      8.76G     0.6508     0.4956      1.062          3        640: 100%|██████████| 526/526 [05:21<00:00,  1.63it/s]\n",
            "                 Class     Images  Instances      Box(P          R      mAP50  mAP50-95): 100%|██████████| 39/39 [00:17<00:00,  2.18it/s]"
          ]
        },
        {
          "name": "stdout",
          "output_type": "stream",
          "text": [
            "                   all       1236        930      0.218      0.188      0.169      0.074\n"
          ]
        },
        {
          "name": "stderr",
          "output_type": "stream",
          "text": [
            "\n"
          ]
        },
        {
          "name": "stdout",
          "output_type": "stream",
          "text": [
            "\n",
            "      Epoch    GPU_mem   box_loss   cls_loss   dfl_loss  Instances       Size\n"
          ]
        },
        {
          "name": "stderr",
          "output_type": "stream",
          "text": [
            "     78/100      8.72G     0.6341     0.4869      1.051          2        640: 100%|██████████| 526/526 [05:21<00:00,  1.64it/s]\n",
            "                 Class     Images  Instances      Box(P          R      mAP50  mAP50-95): 100%|██████████| 39/39 [00:17<00:00,  2.18it/s]"
          ]
        },
        {
          "name": "stdout",
          "output_type": "stream",
          "text": [
            "                   all       1236        930      0.216      0.185      0.166     0.0752\n"
          ]
        },
        {
          "name": "stderr",
          "output_type": "stream",
          "text": [
            "\n"
          ]
        },
        {
          "name": "stdout",
          "output_type": "stream",
          "text": [
            "\n",
            "      Epoch    GPU_mem   box_loss   cls_loss   dfl_loss  Instances       Size\n"
          ]
        },
        {
          "name": "stderr",
          "output_type": "stream",
          "text": [
            "     79/100      8.76G     0.6402     0.4856      1.053          1        640: 100%|██████████| 526/526 [05:21<00:00,  1.64it/s]\n",
            "                 Class     Images  Instances      Box(P          R      mAP50  mAP50-95): 100%|██████████| 39/39 [00:17<00:00,  2.18it/s]"
          ]
        },
        {
          "name": "stdout",
          "output_type": "stream",
          "text": [
            "                   all       1236        930      0.208      0.187      0.163     0.0734\n"
          ]
        },
        {
          "name": "stderr",
          "output_type": "stream",
          "text": [
            "\n"
          ]
        },
        {
          "name": "stdout",
          "output_type": "stream",
          "text": [
            "\n",
            "      Epoch    GPU_mem   box_loss   cls_loss   dfl_loss  Instances       Size\n"
          ]
        },
        {
          "name": "stderr",
          "output_type": "stream",
          "text": [
            "     80/100      8.72G      0.631     0.4764       1.05          8        640: 100%|██████████| 526/526 [05:21<00:00,  1.64it/s]\n",
            "                 Class     Images  Instances      Box(P          R      mAP50  mAP50-95): 100%|██████████| 39/39 [00:17<00:00,  2.18it/s]"
          ]
        },
        {
          "name": "stdout",
          "output_type": "stream",
          "text": [
            "                   all       1236        930      0.208      0.188      0.166      0.073\n"
          ]
        },
        {
          "name": "stderr",
          "output_type": "stream",
          "text": [
            "\n"
          ]
        },
        {
          "name": "stdout",
          "output_type": "stream",
          "text": [
            "\n",
            "      Epoch    GPU_mem   box_loss   cls_loss   dfl_loss  Instances       Size\n"
          ]
        },
        {
          "name": "stderr",
          "output_type": "stream",
          "text": [
            "     81/100      8.76G     0.6363     0.4767      1.054          3        640: 100%|██████████| 526/526 [05:22<00:00,  1.63it/s]\n",
            "                 Class     Images  Instances      Box(P          R      mAP50  mAP50-95): 100%|██████████| 39/39 [00:17<00:00,  2.18it/s]"
          ]
        },
        {
          "name": "stdout",
          "output_type": "stream",
          "text": [
            "                   all       1236        930      0.204      0.181      0.163     0.0706\n"
          ]
        },
        {
          "name": "stderr",
          "output_type": "stream",
          "text": [
            "\n"
          ]
        },
        {
          "name": "stdout",
          "output_type": "stream",
          "text": [
            "\n",
            "      Epoch    GPU_mem   box_loss   cls_loss   dfl_loss  Instances       Size\n"
          ]
        },
        {
          "name": "stderr",
          "output_type": "stream",
          "text": [
            "     82/100      8.72G     0.6152     0.4592      1.044          3        640: 100%|██████████| 526/526 [05:21<00:00,  1.63it/s]\n",
            "                 Class     Images  Instances      Box(P          R      mAP50  mAP50-95): 100%|██████████| 39/39 [00:17<00:00,  2.18it/s]"
          ]
        },
        {
          "name": "stdout",
          "output_type": "stream",
          "text": [
            "                   all       1236        930      0.218      0.181      0.172     0.0741\n"
          ]
        },
        {
          "name": "stderr",
          "output_type": "stream",
          "text": [
            "\n"
          ]
        },
        {
          "name": "stdout",
          "output_type": "stream",
          "text": [
            "\n",
            "      Epoch    GPU_mem   box_loss   cls_loss   dfl_loss  Instances       Size\n"
          ]
        },
        {
          "name": "stderr",
          "output_type": "stream",
          "text": [
            "     83/100      8.76G     0.6093     0.4542      1.039          4        640: 100%|██████████| 526/526 [05:22<00:00,  1.63it/s]\n",
            "                 Class     Images  Instances      Box(P          R      mAP50  mAP50-95): 100%|██████████| 39/39 [00:17<00:00,  2.17it/s]"
          ]
        },
        {
          "name": "stdout",
          "output_type": "stream",
          "text": [
            "                   all       1236        930      0.224       0.18      0.173     0.0739\n"
          ]
        },
        {
          "name": "stderr",
          "output_type": "stream",
          "text": [
            "\n"
          ]
        },
        {
          "name": "stdout",
          "output_type": "stream",
          "text": [
            "\n",
            "      Epoch    GPU_mem   box_loss   cls_loss   dfl_loss  Instances       Size\n"
          ]
        },
        {
          "name": "stderr",
          "output_type": "stream",
          "text": [
            "     84/100      8.72G     0.6042     0.4493      1.038          2        640: 100%|██████████| 526/526 [05:21<00:00,  1.63it/s]\n",
            "                 Class     Images  Instances      Box(P          R      mAP50  mAP50-95): 100%|██████████| 39/39 [00:17<00:00,  2.17it/s]"
          ]
        },
        {
          "name": "stdout",
          "output_type": "stream",
          "text": [
            "                   all       1236        930       0.22      0.176      0.173     0.0731\n"
          ]
        },
        {
          "name": "stderr",
          "output_type": "stream",
          "text": [
            "\n"
          ]
        },
        {
          "name": "stdout",
          "output_type": "stream",
          "text": [
            "\n",
            "      Epoch    GPU_mem   box_loss   cls_loss   dfl_loss  Instances       Size\n"
          ]
        },
        {
          "name": "stderr",
          "output_type": "stream",
          "text": [
            "     85/100      8.76G     0.5987     0.4454      1.035          4        640: 100%|██████████| 526/526 [05:22<00:00,  1.63it/s]\n",
            "                 Class     Images  Instances      Box(P          R      mAP50  mAP50-95): 100%|██████████| 39/39 [00:17<00:00,  2.18it/s]"
          ]
        },
        {
          "name": "stdout",
          "output_type": "stream",
          "text": [
            "                   all       1236        930      0.229      0.174      0.176     0.0766\n"
          ]
        },
        {
          "name": "stderr",
          "output_type": "stream",
          "text": [
            "\n"
          ]
        },
        {
          "name": "stdout",
          "output_type": "stream",
          "text": [
            "\n",
            "      Epoch    GPU_mem   box_loss   cls_loss   dfl_loss  Instances       Size\n"
          ]
        },
        {
          "name": "stderr",
          "output_type": "stream",
          "text": [
            "     86/100      8.72G     0.5903     0.4407      1.027          2        640: 100%|██████████| 526/526 [05:22<00:00,  1.63it/s]\n",
            "                 Class     Images  Instances      Box(P          R      mAP50  mAP50-95): 100%|██████████| 39/39 [00:17<00:00,  2.18it/s]"
          ]
        },
        {
          "name": "stdout",
          "output_type": "stream",
          "text": [
            "                   all       1236        930      0.225      0.175      0.173     0.0747\n"
          ]
        },
        {
          "name": "stderr",
          "output_type": "stream",
          "text": [
            "\n"
          ]
        },
        {
          "name": "stdout",
          "output_type": "stream",
          "text": [
            "\n",
            "      Epoch    GPU_mem   box_loss   cls_loss   dfl_loss  Instances       Size\n"
          ]
        },
        {
          "name": "stderr",
          "output_type": "stream",
          "text": [
            "     87/100      8.76G     0.5829     0.4399      1.022          2        640: 100%|██████████| 526/526 [05:21<00:00,  1.63it/s]\n",
            "                 Class     Images  Instances      Box(P          R      mAP50  mAP50-95): 100%|██████████| 39/39 [00:17<00:00,  2.18it/s]"
          ]
        },
        {
          "name": "stdout",
          "output_type": "stream",
          "text": [
            "                   all       1236        930      0.223      0.177      0.172     0.0738\n"
          ]
        },
        {
          "name": "stderr",
          "output_type": "stream",
          "text": [
            "\n"
          ]
        },
        {
          "name": "stdout",
          "output_type": "stream",
          "text": [
            "\n",
            "      Epoch    GPU_mem   box_loss   cls_loss   dfl_loss  Instances       Size\n"
          ]
        },
        {
          "name": "stderr",
          "output_type": "stream",
          "text": [
            "     88/100      8.72G     0.5755     0.4262      1.019          3        640: 100%|██████████| 526/526 [05:21<00:00,  1.63it/s]\n",
            "                 Class     Images  Instances      Box(P          R      mAP50  mAP50-95): 100%|██████████| 39/39 [00:17<00:00,  2.18it/s]"
          ]
        },
        {
          "name": "stdout",
          "output_type": "stream",
          "text": [
            "                   all       1236        930      0.214       0.17      0.165     0.0725\n"
          ]
        },
        {
          "name": "stderr",
          "output_type": "stream",
          "text": [
            "\n"
          ]
        },
        {
          "name": "stdout",
          "output_type": "stream",
          "text": [
            "\n",
            "      Epoch    GPU_mem   box_loss   cls_loss   dfl_loss  Instances       Size\n"
          ]
        },
        {
          "name": "stderr",
          "output_type": "stream",
          "text": [
            "     89/100      8.76G     0.5743     0.4211      1.024          4        640: 100%|██████████| 526/526 [05:21<00:00,  1.63it/s]\n",
            "                 Class     Images  Instances      Box(P          R      mAP50  mAP50-95): 100%|██████████| 39/39 [00:17<00:00,  2.18it/s]"
          ]
        },
        {
          "name": "stdout",
          "output_type": "stream",
          "text": [
            "                   all       1236        930      0.202       0.16      0.156     0.0699\n"
          ]
        },
        {
          "name": "stderr",
          "output_type": "stream",
          "text": [
            "\n"
          ]
        },
        {
          "name": "stdout",
          "output_type": "stream",
          "text": [
            "\n",
            "      Epoch    GPU_mem   box_loss   cls_loss   dfl_loss  Instances       Size\n"
          ]
        },
        {
          "name": "stderr",
          "output_type": "stream",
          "text": [
            "     90/100      8.72G     0.5504     0.4023      1.003          2        640: 100%|██████████| 526/526 [05:21<00:00,  1.63it/s]\n",
            "                 Class     Images  Instances      Box(P          R      mAP50  mAP50-95): 100%|██████████| 39/39 [00:17<00:00,  2.18it/s]"
          ]
        },
        {
          "name": "stdout",
          "output_type": "stream",
          "text": [
            "                   all       1236        930      0.204      0.162      0.158     0.0706\n"
          ]
        },
        {
          "name": "stderr",
          "output_type": "stream",
          "text": [
            "\n"
          ]
        },
        {
          "name": "stdout",
          "output_type": "stream",
          "text": [
            "Closing dataloader mosaic\n",
            "\u001b[34m\u001b[1malbumentations: \u001b[0mBlur(p=0.01, blur_limit=(3, 7)), MedianBlur(p=0.01, blur_limit=(3, 7)), ToGray(p=0.01, num_output_channels=3, method='weighted_average'), CLAHE(p=0.01, clip_limit=(1, 4.0), tile_grid_size=(8, 8))\n",
            "\n",
            "      Epoch    GPU_mem   box_loss   cls_loss   dfl_loss  Instances       Size\n"
          ]
        },
        {
          "name": "stderr",
          "output_type": "stream",
          "text": [
            "     91/100      8.76G     0.4485     0.2739     0.9315          1        640: 100%|██████████| 526/526 [05:22<00:00,  1.63it/s]\n",
            "                 Class     Images  Instances      Box(P          R      mAP50  mAP50-95): 100%|██████████| 39/39 [00:17<00:00,  2.18it/s]"
          ]
        },
        {
          "name": "stdout",
          "output_type": "stream",
          "text": [
            "                   all       1236        930      0.216      0.171      0.165     0.0737\n"
          ]
        },
        {
          "name": "stderr",
          "output_type": "stream",
          "text": [
            "\n"
          ]
        },
        {
          "name": "stdout",
          "output_type": "stream",
          "text": [
            "\n",
            "      Epoch    GPU_mem   box_loss   cls_loss   dfl_loss  Instances       Size\n"
          ]
        },
        {
          "name": "stderr",
          "output_type": "stream",
          "text": [
            "     92/100      8.72G     0.4277     0.2648      0.913          3        640: 100%|██████████| 526/526 [05:21<00:00,  1.64it/s]\n",
            "                 Class     Images  Instances      Box(P          R      mAP50  mAP50-95): 100%|██████████| 39/39 [00:17<00:00,  2.18it/s]"
          ]
        },
        {
          "name": "stdout",
          "output_type": "stream",
          "text": [
            "                   all       1236        930      0.231      0.173      0.172     0.0773\n"
          ]
        },
        {
          "name": "stderr",
          "output_type": "stream",
          "text": [
            "\n"
          ]
        },
        {
          "name": "stdout",
          "output_type": "stream",
          "text": [
            "\n",
            "      Epoch    GPU_mem   box_loss   cls_loss   dfl_loss  Instances       Size\n"
          ]
        },
        {
          "name": "stderr",
          "output_type": "stream",
          "text": [
            "     93/100      8.76G     0.4149     0.2509     0.9061          0        640: 100%|██████████| 526/526 [05:21<00:00,  1.64it/s]\n",
            "                 Class     Images  Instances      Box(P          R      mAP50  mAP50-95): 100%|██████████| 39/39 [00:17<00:00,  2.18it/s]"
          ]
        },
        {
          "name": "stdout",
          "output_type": "stream",
          "text": [
            "                   all       1236        930       0.24      0.172      0.177      0.079\n"
          ]
        },
        {
          "name": "stderr",
          "output_type": "stream",
          "text": [
            "\n"
          ]
        },
        {
          "name": "stdout",
          "output_type": "stream",
          "text": [
            "\n",
            "      Epoch    GPU_mem   box_loss   cls_loss   dfl_loss  Instances       Size\n"
          ]
        },
        {
          "name": "stderr",
          "output_type": "stream",
          "text": [
            "     94/100      8.72G     0.4038     0.2494     0.9039          2        640: 100%|██████████| 526/526 [05:21<00:00,  1.64it/s]\n",
            "                 Class     Images  Instances      Box(P          R      mAP50  mAP50-95): 100%|██████████| 39/39 [00:17<00:00,  2.18it/s]"
          ]
        },
        {
          "name": "stdout",
          "output_type": "stream",
          "text": [
            "                   all       1236        930       0.25      0.172      0.182     0.0804\n"
          ]
        },
        {
          "name": "stderr",
          "output_type": "stream",
          "text": [
            "\n"
          ]
        },
        {
          "name": "stdout",
          "output_type": "stream",
          "text": [
            "\n",
            "      Epoch    GPU_mem   box_loss   cls_loss   dfl_loss  Instances       Size\n"
          ]
        },
        {
          "name": "stderr",
          "output_type": "stream",
          "text": [
            "     95/100      8.76G     0.3928     0.2399     0.8946          1        640: 100%|██████████| 526/526 [05:21<00:00,  1.64it/s]\n",
            "                 Class     Images  Instances      Box(P          R      mAP50  mAP50-95): 100%|██████████| 39/39 [00:17<00:00,  2.18it/s]"
          ]
        },
        {
          "name": "stdout",
          "output_type": "stream",
          "text": [
            "                   all       1236        930      0.254      0.171      0.184     0.0825\n"
          ]
        },
        {
          "name": "stderr",
          "output_type": "stream",
          "text": [
            "\n"
          ]
        },
        {
          "name": "stdout",
          "output_type": "stream",
          "text": [
            "\n",
            "      Epoch    GPU_mem   box_loss   cls_loss   dfl_loss  Instances       Size\n"
          ]
        },
        {
          "name": "stderr",
          "output_type": "stream",
          "text": [
            "     96/100      8.72G     0.3868      0.237     0.8926          3        640: 100%|██████████| 526/526 [05:21<00:00,  1.64it/s]\n",
            "                 Class     Images  Instances      Box(P          R      mAP50  mAP50-95): 100%|██████████| 39/39 [00:17<00:00,  2.19it/s]"
          ]
        },
        {
          "name": "stdout",
          "output_type": "stream",
          "text": [
            "                   all       1236        930       0.27      0.175      0.194     0.0857\n"
          ]
        },
        {
          "name": "stderr",
          "output_type": "stream",
          "text": [
            "\n"
          ]
        },
        {
          "name": "stdout",
          "output_type": "stream",
          "text": [
            "\n",
            "      Epoch    GPU_mem   box_loss   cls_loss   dfl_loss  Instances       Size\n"
          ]
        },
        {
          "name": "stderr",
          "output_type": "stream",
          "text": [
            "     97/100      8.76G     0.3758     0.2348     0.8866          2        640: 100%|██████████| 526/526 [05:21<00:00,  1.64it/s]\n",
            "                 Class     Images  Instances      Box(P          R      mAP50  mAP50-95): 100%|██████████| 39/39 [00:17<00:00,  2.19it/s]"
          ]
        },
        {
          "name": "stdout",
          "output_type": "stream",
          "text": [
            "                   all       1236        930      0.272      0.174      0.195     0.0857\n"
          ]
        },
        {
          "name": "stderr",
          "output_type": "stream",
          "text": [
            "\n"
          ]
        },
        {
          "name": "stdout",
          "output_type": "stream",
          "text": [
            "\n",
            "      Epoch    GPU_mem   box_loss   cls_loss   dfl_loss  Instances       Size\n"
          ]
        },
        {
          "name": "stderr",
          "output_type": "stream",
          "text": [
            "     98/100      8.72G     0.3651     0.2266     0.8822          2        640: 100%|██████████| 526/526 [05:21<00:00,  1.64it/s]\n",
            "                 Class     Images  Instances      Box(P          R      mAP50  mAP50-95): 100%|██████████| 39/39 [00:17<00:00,  2.18it/s]"
          ]
        },
        {
          "name": "stdout",
          "output_type": "stream",
          "text": [
            "                   all       1236        930      0.276      0.174      0.196     0.0875\n"
          ]
        },
        {
          "name": "stderr",
          "output_type": "stream",
          "text": [
            "\n"
          ]
        },
        {
          "name": "stdout",
          "output_type": "stream",
          "text": [
            "\n",
            "      Epoch    GPU_mem   box_loss   cls_loss   dfl_loss  Instances       Size\n"
          ]
        },
        {
          "name": "stderr",
          "output_type": "stream",
          "text": [
            "     99/100      8.76G     0.3655     0.2243     0.8809          2        640: 100%|██████████| 526/526 [05:21<00:00,  1.64it/s]\n",
            "                 Class     Images  Instances      Box(P          R      mAP50  mAP50-95): 100%|██████████| 39/39 [00:17<00:00,  2.18it/s]"
          ]
        },
        {
          "name": "stdout",
          "output_type": "stream",
          "text": [
            "                   all       1236        930      0.282      0.174      0.199     0.0891\n"
          ]
        },
        {
          "name": "stderr",
          "output_type": "stream",
          "text": [
            "\n"
          ]
        },
        {
          "name": "stdout",
          "output_type": "stream",
          "text": [
            "\n",
            "      Epoch    GPU_mem   box_loss   cls_loss   dfl_loss  Instances       Size\n"
          ]
        },
        {
          "name": "stderr",
          "output_type": "stream",
          "text": [
            "    100/100      8.72G     0.3528     0.2207      0.877          1        640: 100%|██████████| 526/526 [05:21<00:00,  1.64it/s]\n",
            "                 Class     Images  Instances      Box(P          R      mAP50  mAP50-95): 100%|██████████| 39/39 [00:17<00:00,  2.19it/s]"
          ]
        },
        {
          "name": "stdout",
          "output_type": "stream",
          "text": [
            "                   all       1236        930      0.282       0.17      0.198     0.0888\n"
          ]
        },
        {
          "name": "stderr",
          "output_type": "stream",
          "text": [
            "\n"
          ]
        },
        {
          "name": "stdout",
          "output_type": "stream",
          "text": [
            "\n",
            "100 epochs completed in 9.479 hours.\n",
            "Optimizer stripped from runs/detect/train/weights/last.pt, 34.0MB\n",
            "Optimizer stripped from runs/detect/train/weights/best.pt, 34.0MB\n",
            "\n",
            "Validating runs/detect/train/weights/best.pt...\n",
            "Ultralytics 8.3.0 🚀 Python-3.10.12 torch-2.4.1+cu121 CUDA:0 (Tesla T4, 15102MiB)\n",
            "YOLOv9m summary (fused): 392 layers, 16,575,715 parameters, 0 gradients, 60.0 GFLOPs\n"
          ]
        },
        {
          "name": "stderr",
          "output_type": "stream",
          "text": [
            "                 Class     Images  Instances      Box(P          R      mAP50  mAP50-95): 100%|██████████| 39/39 [00:16<00:00,  2.37it/s]\n"
          ]
        },
        {
          "name": "stdout",
          "output_type": "stream",
          "text": [
            "                   all       1236        930      0.282      0.174      0.199     0.0889\n",
            "Speed: 0.2ms preprocess, 11.9ms inference, 0.0ms loss, 0.4ms postprocess per image\n",
            "Results saved to \u001b[1mruns/detect/train\u001b[0m\n"
          ]
        },
        {
          "data": {
            "text/plain": [
              "ultralytics.utils.metrics.DetMetrics object with attributes:\n",
              "\n",
              "ap_class_index: array([0])\n",
              "box: ultralytics.utils.metrics.Metric object\n",
              "confusion_matrix: <ultralytics.utils.metrics.ConfusionMatrix object at 0x7948181251b0>\n",
              "curves: ['Precision-Recall(B)', 'F1-Confidence(B)', 'Precision-Confidence(B)', 'Recall-Confidence(B)']\n",
              "curves_results: [[array([          0,    0.001001,    0.002002,    0.003003,    0.004004,    0.005005,    0.006006,    0.007007,    0.008008,    0.009009,     0.01001,    0.011011,    0.012012,    0.013013,    0.014014,    0.015015,    0.016016,    0.017017,    0.018018,    0.019019,     0.02002,    0.021021,    0.022022,    0.023023,\n",
              "          0.024024,    0.025025,    0.026026,    0.027027,    0.028028,    0.029029,     0.03003,    0.031031,    0.032032,    0.033033,    0.034034,    0.035035,    0.036036,    0.037037,    0.038038,    0.039039,     0.04004,    0.041041,    0.042042,    0.043043,    0.044044,    0.045045,    0.046046,    0.047047,\n",
              "          0.048048,    0.049049,     0.05005,    0.051051,    0.052052,    0.053053,    0.054054,    0.055055,    0.056056,    0.057057,    0.058058,    0.059059,     0.06006,    0.061061,    0.062062,    0.063063,    0.064064,    0.065065,    0.066066,    0.067067,    0.068068,    0.069069,     0.07007,    0.071071,\n",
              "          0.072072,    0.073073,    0.074074,    0.075075,    0.076076,    0.077077,    0.078078,    0.079079,     0.08008,    0.081081,    0.082082,    0.083083,    0.084084,    0.085085,    0.086086,    0.087087,    0.088088,    0.089089,     0.09009,    0.091091,    0.092092,    0.093093,    0.094094,    0.095095,\n",
              "          0.096096,    0.097097,    0.098098,    0.099099,      0.1001,      0.1011,      0.1021,      0.1031,      0.1041,     0.10511,     0.10611,     0.10711,     0.10811,     0.10911,     0.11011,     0.11111,     0.11211,     0.11311,     0.11411,     0.11512,     0.11612,     0.11712,     0.11812,     0.11912,\n",
              "           0.12012,     0.12112,     0.12212,     0.12312,     0.12412,     0.12513,     0.12613,     0.12713,     0.12813,     0.12913,     0.13013,     0.13113,     0.13213,     0.13313,     0.13413,     0.13514,     0.13614,     0.13714,     0.13814,     0.13914,     0.14014,     0.14114,     0.14214,     0.14314,\n",
              "           0.14414,     0.14515,     0.14615,     0.14715,     0.14815,     0.14915,     0.15015,     0.15115,     0.15215,     0.15315,     0.15415,     0.15516,     0.15616,     0.15716,     0.15816,     0.15916,     0.16016,     0.16116,     0.16216,     0.16316,     0.16416,     0.16517,     0.16617,     0.16717,\n",
              "           0.16817,     0.16917,     0.17017,     0.17117,     0.17217,     0.17317,     0.17417,     0.17518,     0.17618,     0.17718,     0.17818,     0.17918,     0.18018,     0.18118,     0.18218,     0.18318,     0.18418,     0.18519,     0.18619,     0.18719,     0.18819,     0.18919,     0.19019,     0.19119,\n",
              "           0.19219,     0.19319,     0.19419,      0.1952,      0.1962,      0.1972,      0.1982,      0.1992,      0.2002,      0.2012,      0.2022,      0.2032,      0.2042,     0.20521,     0.20621,     0.20721,     0.20821,     0.20921,     0.21021,     0.21121,     0.21221,     0.21321,     0.21421,     0.21522,\n",
              "           0.21622,     0.21722,     0.21822,     0.21922,     0.22022,     0.22122,     0.22222,     0.22322,     0.22422,     0.22523,     0.22623,     0.22723,     0.22823,     0.22923,     0.23023,     0.23123,     0.23223,     0.23323,     0.23423,     0.23524,     0.23624,     0.23724,     0.23824,     0.23924,\n",
              "           0.24024,     0.24124,     0.24224,     0.24324,     0.24424,     0.24525,     0.24625,     0.24725,     0.24825,     0.24925,     0.25025,     0.25125,     0.25225,     0.25325,     0.25425,     0.25526,     0.25626,     0.25726,     0.25826,     0.25926,     0.26026,     0.26126,     0.26226,     0.26326,\n",
              "           0.26426,     0.26527,     0.26627,     0.26727,     0.26827,     0.26927,     0.27027,     0.27127,     0.27227,     0.27327,     0.27427,     0.27528,     0.27628,     0.27728,     0.27828,     0.27928,     0.28028,     0.28128,     0.28228,     0.28328,     0.28428,     0.28529,     0.28629,     0.28729,\n",
              "           0.28829,     0.28929,     0.29029,     0.29129,     0.29229,     0.29329,     0.29429,      0.2953,      0.2963,      0.2973,      0.2983,      0.2993,      0.3003,      0.3013,      0.3023,      0.3033,      0.3043,     0.30531,     0.30631,     0.30731,     0.30831,     0.30931,     0.31031,     0.31131,\n",
              "           0.31231,     0.31331,     0.31431,     0.31532,     0.31632,     0.31732,     0.31832,     0.31932,     0.32032,     0.32132,     0.32232,     0.32332,     0.32432,     0.32533,     0.32633,     0.32733,     0.32833,     0.32933,     0.33033,     0.33133,     0.33233,     0.33333,     0.33433,     0.33534,\n",
              "           0.33634,     0.33734,     0.33834,     0.33934,     0.34034,     0.34134,     0.34234,     0.34334,     0.34434,     0.34535,     0.34635,     0.34735,     0.34835,     0.34935,     0.35035,     0.35135,     0.35235,     0.35335,     0.35435,     0.35536,     0.35636,     0.35736,     0.35836,     0.35936,\n",
              "           0.36036,     0.36136,     0.36236,     0.36336,     0.36436,     0.36537,     0.36637,     0.36737,     0.36837,     0.36937,     0.37037,     0.37137,     0.37237,     0.37337,     0.37437,     0.37538,     0.37638,     0.37738,     0.37838,     0.37938,     0.38038,     0.38138,     0.38238,     0.38338,\n",
              "           0.38438,     0.38539,     0.38639,     0.38739,     0.38839,     0.38939,     0.39039,     0.39139,     0.39239,     0.39339,     0.39439,      0.3954,      0.3964,      0.3974,      0.3984,      0.3994,      0.4004,      0.4014,      0.4024,      0.4034,      0.4044,     0.40541,     0.40641,     0.40741,\n",
              "           0.40841,     0.40941,     0.41041,     0.41141,     0.41241,     0.41341,     0.41441,     0.41542,     0.41642,     0.41742,     0.41842,     0.41942,     0.42042,     0.42142,     0.42242,     0.42342,     0.42442,     0.42543,     0.42643,     0.42743,     0.42843,     0.42943,     0.43043,     0.43143,\n",
              "           0.43243,     0.43343,     0.43443,     0.43544,     0.43644,     0.43744,     0.43844,     0.43944,     0.44044,     0.44144,     0.44244,     0.44344,     0.44444,     0.44545,     0.44645,     0.44745,     0.44845,     0.44945,     0.45045,     0.45145,     0.45245,     0.45345,     0.45445,     0.45546,\n",
              "           0.45646,     0.45746,     0.45846,     0.45946,     0.46046,     0.46146,     0.46246,     0.46346,     0.46446,     0.46547,     0.46647,     0.46747,     0.46847,     0.46947,     0.47047,     0.47147,     0.47247,     0.47347,     0.47447,     0.47548,     0.47648,     0.47748,     0.47848,     0.47948,\n",
              "           0.48048,     0.48148,     0.48248,     0.48348,     0.48448,     0.48549,     0.48649,     0.48749,     0.48849,     0.48949,     0.49049,     0.49149,     0.49249,     0.49349,     0.49449,      0.4955,      0.4965,      0.4975,      0.4985,      0.4995,      0.5005,      0.5015,      0.5025,      0.5035,\n",
              "            0.5045,     0.50551,     0.50651,     0.50751,     0.50851,     0.50951,     0.51051,     0.51151,     0.51251,     0.51351,     0.51451,     0.51552,     0.51652,     0.51752,     0.51852,     0.51952,     0.52052,     0.52152,     0.52252,     0.52352,     0.52452,     0.52553,     0.52653,     0.52753,\n",
              "           0.52853,     0.52953,     0.53053,     0.53153,     0.53253,     0.53353,     0.53453,     0.53554,     0.53654,     0.53754,     0.53854,     0.53954,     0.54054,     0.54154,     0.54254,     0.54354,     0.54454,     0.54555,     0.54655,     0.54755,     0.54855,     0.54955,     0.55055,     0.55155,\n",
              "           0.55255,     0.55355,     0.55455,     0.55556,     0.55656,     0.55756,     0.55856,     0.55956,     0.56056,     0.56156,     0.56256,     0.56356,     0.56456,     0.56557,     0.56657,     0.56757,     0.56857,     0.56957,     0.57057,     0.57157,     0.57257,     0.57357,     0.57457,     0.57558,\n",
              "           0.57658,     0.57758,     0.57858,     0.57958,     0.58058,     0.58158,     0.58258,     0.58358,     0.58458,     0.58559,     0.58659,     0.58759,     0.58859,     0.58959,     0.59059,     0.59159,     0.59259,     0.59359,     0.59459,      0.5956,      0.5966,      0.5976,      0.5986,      0.5996,\n",
              "            0.6006,      0.6016,      0.6026,      0.6036,      0.6046,     0.60561,     0.60661,     0.60761,     0.60861,     0.60961,     0.61061,     0.61161,     0.61261,     0.61361,     0.61461,     0.61562,     0.61662,     0.61762,     0.61862,     0.61962,     0.62062,     0.62162,     0.62262,     0.62362,\n",
              "           0.62462,     0.62563,     0.62663,     0.62763,     0.62863,     0.62963,     0.63063,     0.63163,     0.63263,     0.63363,     0.63463,     0.63564,     0.63664,     0.63764,     0.63864,     0.63964,     0.64064,     0.64164,     0.64264,     0.64364,     0.64464,     0.64565,     0.64665,     0.64765,\n",
              "           0.64865,     0.64965,     0.65065,     0.65165,     0.65265,     0.65365,     0.65465,     0.65566,     0.65666,     0.65766,     0.65866,     0.65966,     0.66066,     0.66166,     0.66266,     0.66366,     0.66466,     0.66567,     0.66667,     0.66767,     0.66867,     0.66967,     0.67067,     0.67167,\n",
              "           0.67267,     0.67367,     0.67467,     0.67568,     0.67668,     0.67768,     0.67868,     0.67968,     0.68068,     0.68168,     0.68268,     0.68368,     0.68468,     0.68569,     0.68669,     0.68769,     0.68869,     0.68969,     0.69069,     0.69169,     0.69269,     0.69369,     0.69469,      0.6957,\n",
              "            0.6967,      0.6977,      0.6987,      0.6997,      0.7007,      0.7017,      0.7027,      0.7037,      0.7047,     0.70571,     0.70671,     0.70771,     0.70871,     0.70971,     0.71071,     0.71171,     0.71271,     0.71371,     0.71471,     0.71572,     0.71672,     0.71772,     0.71872,     0.71972,\n",
              "           0.72072,     0.72172,     0.72272,     0.72372,     0.72472,     0.72573,     0.72673,     0.72773,     0.72873,     0.72973,     0.73073,     0.73173,     0.73273,     0.73373,     0.73473,     0.73574,     0.73674,     0.73774,     0.73874,     0.73974,     0.74074,     0.74174,     0.74274,     0.74374,\n",
              "           0.74474,     0.74575,     0.74675,     0.74775,     0.74875,     0.74975,     0.75075,     0.75175,     0.75275,     0.75375,     0.75475,     0.75576,     0.75676,     0.75776,     0.75876,     0.75976,     0.76076,     0.76176,     0.76276,     0.76376,     0.76476,     0.76577,     0.76677,     0.76777,\n",
              "           0.76877,     0.76977,     0.77077,     0.77177,     0.77277,     0.77377,     0.77477,     0.77578,     0.77678,     0.77778,     0.77878,     0.77978,     0.78078,     0.78178,     0.78278,     0.78378,     0.78478,     0.78579,     0.78679,     0.78779,     0.78879,     0.78979,     0.79079,     0.79179,\n",
              "           0.79279,     0.79379,     0.79479,      0.7958,      0.7968,      0.7978,      0.7988,      0.7998,      0.8008,      0.8018,      0.8028,      0.8038,      0.8048,     0.80581,     0.80681,     0.80781,     0.80881,     0.80981,     0.81081,     0.81181,     0.81281,     0.81381,     0.81481,     0.81582,\n",
              "           0.81682,     0.81782,     0.81882,     0.81982,     0.82082,     0.82182,     0.82282,     0.82382,     0.82482,     0.82583,     0.82683,     0.82783,     0.82883,     0.82983,     0.83083,     0.83183,     0.83283,     0.83383,     0.83483,     0.83584,     0.83684,     0.83784,     0.83884,     0.83984,\n",
              "           0.84084,     0.84184,     0.84284,     0.84384,     0.84484,     0.84585,     0.84685,     0.84785,     0.84885,     0.84985,     0.85085,     0.85185,     0.85285,     0.85385,     0.85485,     0.85586,     0.85686,     0.85786,     0.85886,     0.85986,     0.86086,     0.86186,     0.86286,     0.86386,\n",
              "           0.86486,     0.86587,     0.86687,     0.86787,     0.86887,     0.86987,     0.87087,     0.87187,     0.87287,     0.87387,     0.87487,     0.87588,     0.87688,     0.87788,     0.87888,     0.87988,     0.88088,     0.88188,     0.88288,     0.88388,     0.88488,     0.88589,     0.88689,     0.88789,\n",
              "           0.88889,     0.88989,     0.89089,     0.89189,     0.89289,     0.89389,     0.89489,      0.8959,      0.8969,      0.8979,      0.8989,      0.8999,      0.9009,      0.9019,      0.9029,      0.9039,      0.9049,     0.90591,     0.90691,     0.90791,     0.90891,     0.90991,     0.91091,     0.91191,\n",
              "           0.91291,     0.91391,     0.91491,     0.91592,     0.91692,     0.91792,     0.91892,     0.91992,     0.92092,     0.92192,     0.92292,     0.92392,     0.92492,     0.92593,     0.92693,     0.92793,     0.92893,     0.92993,     0.93093,     0.93193,     0.93293,     0.93393,     0.93493,     0.93594,\n",
              "           0.93694,     0.93794,     0.93894,     0.93994,     0.94094,     0.94194,     0.94294,     0.94394,     0.94494,     0.94595,     0.94695,     0.94795,     0.94895,     0.94995,     0.95095,     0.95195,     0.95295,     0.95395,     0.95495,     0.95596,     0.95696,     0.95796,     0.95896,     0.95996,\n",
              "           0.96096,     0.96196,     0.96296,     0.96396,     0.96496,     0.96597,     0.96697,     0.96797,     0.96897,     0.96997,     0.97097,     0.97197,     0.97297,     0.97397,     0.97497,     0.97598,     0.97698,     0.97798,     0.97898,     0.97998,     0.98098,     0.98198,     0.98298,     0.98398,\n",
              "           0.98498,     0.98599,     0.98699,     0.98799,     0.98899,     0.98999,     0.99099,     0.99199,     0.99299,     0.99399,     0.99499,       0.996,       0.997,       0.998,       0.999,           1]), array([[    0.62069,     0.62069,     0.62069,     0.62069,     0.62069,     0.62069,     0.62069,     0.62069,     0.62069,     0.62069,     0.62069,     0.62069,     0.62069,     0.62069,     0.62069,     0.62069,     0.62069,     0.62069,     0.62069,     0.62069,     0.60714,     0.60714,     0.60714,\n",
              "            0.60714,     0.60714,     0.60714,     0.60714,     0.60714,     0.60714,     0.60714,     0.60714,     0.60714,     0.60714,     0.60714,     0.60714,     0.60714,     0.60714,     0.59677,     0.59677,     0.59677,     0.58462,     0.58209,     0.57746,     0.57746,     0.57746,     0.56098,\n",
              "            0.56098,     0.56098,     0.56098,     0.56098,     0.55556,     0.55556,     0.55556,     0.55556,     0.55435,     0.55319,     0.53535,     0.53465,     0.53465,     0.53398,      0.5283,     0.52778,     0.52252,     0.52212,     0.50847,         0.5,         0.5,         0.5,         0.5,\n",
              "                0.5,     0.49645,     0.49645,     0.49645,     0.49645,     0.49645,     0.49645,     0.49315,     0.49315,     0.48366,     0.48366,     0.48077,     0.47619,     0.47619,     0.47619,     0.47619,     0.47619,     0.45699,     0.45699,     0.45699,     0.45699,     0.45699,     0.45699,\n",
              "            0.43842,     0.43842,     0.43842,     0.43842,     0.42654,     0.42523,     0.42396,     0.41593,     0.41593,     0.40948,     0.40948,     0.40506,     0.40323,     0.40323,     0.40323,     0.40323,     0.40079,     0.40076,     0.40076,     0.40076,     0.40076,     0.39934,     0.39934,\n",
              "            0.39934,     0.39934,     0.39934,     0.39934,     0.39934,     0.39934,     0.39934,     0.39934,     0.39934,     0.39934,     0.39934,     0.39934,     0.39934,     0.39934,     0.39934,     0.39869,     0.39869,     0.39623,     0.39623,     0.39623,     0.39623,     0.39441,      0.3921,\n",
              "             0.3921,     0.38806,     0.38776,     0.38776,     0.38776,     0.38462,     0.38462,     0.38462,     0.37363,     0.36997,     0.36997,     0.36968,     0.36842,     0.36247,      0.3584,      0.3584,     0.35437,     0.35437,     0.35437,     0.34834,     0.34813,     0.34813,     0.34813,\n",
              "            0.34803,     0.34475,     0.33554,     0.33189,     0.31893,     0.31893,     0.31837,     0.30134,     0.29423,     0.29091,     0.29091,     0.28496,     0.28322,     0.28322,      0.2814,     0.28106,     0.28072,     0.28038,     0.28004,      0.2797,     0.27936,     0.27901,     0.27867,\n",
              "            0.27833,     0.27799,     0.27765,     0.27731,     0.27696,     0.27662,     0.27628,     0.27594,      0.2756,     0.27526,     0.27492,     0.27457,     0.27423,     0.27389,     0.27355,     0.27321,     0.27287,     0.27252,     0.27218,     0.27184,      0.2715,     0.27116,     0.27082,\n",
              "            0.27048,     0.27013,     0.26979,     0.26945,     0.26911,     0.26877,     0.26843,     0.26809,     0.26774,      0.2674,     0.26706,     0.26672,     0.26638,     0.26604,     0.26569,     0.26535,     0.26501,     0.26467,     0.26433,     0.26399,     0.26365,      0.2633,     0.26296,\n",
              "            0.26262,     0.26228,     0.26194,      0.2616,     0.26126,     0.26091,     0.26057,     0.26023,     0.25989,     0.25955,     0.25921,     0.25886,     0.25852,     0.25818,     0.25784,      0.2575,     0.25716,     0.25682,     0.25647,     0.25613,     0.25579,     0.25545,     0.25511,\n",
              "            0.25477,     0.25442,     0.25408,     0.25374,      0.2534,     0.25306,     0.25272,     0.25238,     0.25203,     0.25169,     0.25135,     0.25101,     0.25067,     0.25033,     0.24999,     0.24964,      0.2493,     0.24896,     0.24862,     0.24828,     0.24794,     0.24759,     0.24725,\n",
              "            0.24691,     0.24657,     0.24623,     0.24589,     0.24555,      0.2452,     0.24486,     0.24452,     0.24418,     0.24384,      0.2435,     0.24316,     0.24281,     0.24247,     0.24213,     0.24179,     0.24145,     0.24111,     0.24076,     0.24042,     0.24008,     0.23974,      0.2394,\n",
              "            0.23906,     0.23872,     0.23837,     0.23803,     0.23769,     0.23735,     0.23701,     0.23667,     0.23632,     0.23598,     0.23564,      0.2353,     0.23496,     0.23462,     0.23428,     0.23393,     0.23359,     0.23325,     0.23291,     0.23257,     0.23223,     0.23189,     0.23154,\n",
              "             0.2312,     0.23086,     0.23052,     0.23018,     0.22984,     0.22949,     0.22915,     0.22881,     0.22847,     0.22813,     0.22779,     0.22745,      0.2271,     0.22676,     0.22642,     0.22608,     0.22574,      0.2254,     0.22506,     0.22471,     0.22437,     0.22403,     0.22369,\n",
              "            0.22335,     0.22301,     0.22266,     0.22232,     0.22198,     0.22164,      0.2213,     0.22096,     0.22062,     0.22027,     0.21993,     0.21959,     0.21925,     0.21891,     0.21857,     0.21822,     0.21788,     0.21754,      0.2172,     0.21686,     0.21652,     0.21618,     0.21583,\n",
              "            0.21549,     0.21515,     0.21481,     0.21447,     0.21413,     0.21379,     0.21344,      0.2131,     0.21276,     0.21242,     0.21208,     0.21174,     0.21139,     0.21105,     0.21071,     0.21037,     0.21003,     0.20969,     0.20935,       0.209,     0.20866,     0.20832,     0.20798,\n",
              "            0.20764,      0.2073,     0.20696,     0.20661,     0.20627,     0.20593,     0.20559,     0.20525,     0.20491,     0.20456,     0.20422,     0.20388,     0.20354,      0.2032,     0.20286,     0.20252,     0.20217,     0.20183,     0.20149,     0.20115,     0.20081,     0.20047,     0.20012,\n",
              "            0.19978,     0.19944,      0.1991,     0.19876,     0.19842,     0.19808,     0.19773,     0.19739,     0.19705,     0.19671,     0.19637,     0.19603,     0.19569,     0.19534,       0.195,     0.19466,     0.19432,     0.19398,     0.19364,     0.19329,     0.19295,     0.19261,     0.19227,\n",
              "            0.19193,     0.19159,     0.19125,      0.1909,     0.19056,     0.19022,     0.18988,     0.18954,      0.1892,     0.18886,     0.18851,     0.18817,     0.18783,     0.18749,     0.18715,     0.18681,     0.18646,     0.18612,     0.18578,     0.18544,      0.1851,     0.18476,     0.18442,\n",
              "            0.18407,     0.18373,     0.18339,     0.18305,     0.18271,     0.18237,     0.18202,     0.18168,     0.18134,       0.181,     0.18066,     0.18032,     0.17998,     0.17963,     0.17929,     0.17895,     0.17861,     0.17827,     0.17793,     0.17759,     0.17724,      0.1769,     0.17656,\n",
              "            0.17622,     0.17588,     0.17554,     0.17519,     0.17485,     0.17451,     0.17417,     0.17383,     0.17349,     0.17315,      0.1728,     0.17246,     0.17212,     0.17178,     0.17144,      0.1711,     0.17075,     0.17041,     0.17007,     0.16973,     0.16939,     0.16905,     0.16871,\n",
              "            0.16836,     0.16802,     0.16768,     0.16734,       0.167,     0.16666,     0.16632,     0.16597,     0.16563,     0.16529,     0.16495,     0.16461,     0.16427,     0.16392,     0.16358,     0.16324,      0.1629,     0.16256,     0.16222,     0.16188,     0.16153,     0.16119,     0.16085,\n",
              "            0.16051,     0.16017,     0.15983,     0.15949,     0.15914,      0.1588,     0.15846,     0.15812,     0.15778,     0.15744,     0.15709,     0.15675,     0.15641,     0.15607,     0.15573,     0.15539,     0.15505,      0.1547,     0.15436,     0.15402,     0.15368,     0.15334,       0.153,\n",
              "            0.15265,     0.15231,     0.15197,     0.15163,     0.15129,     0.15095,     0.15061,     0.15026,     0.14992,     0.14958,     0.14924,      0.1489,     0.14856,     0.14822,     0.14787,     0.14753,     0.14719,     0.14685,     0.14651,     0.14617,     0.14582,     0.14548,     0.14514,\n",
              "             0.1448,     0.14446,     0.14412,     0.14378,     0.14343,     0.14309,     0.14275,     0.14241,     0.14207,     0.14173,     0.14139,     0.14104,      0.1407,     0.14036,     0.14002,     0.13968,     0.13934,     0.13899,     0.13865,     0.13831,     0.13797,     0.13763,     0.13729,\n",
              "            0.13695,      0.1366,     0.13626,     0.13592,     0.13558,     0.13524,      0.1349,     0.13455,     0.13421,     0.13387,     0.13353,     0.13319,     0.13285,     0.13251,     0.13216,     0.13182,     0.13148,     0.13114,      0.1308,     0.13046,     0.13012,     0.12977,     0.12943,\n",
              "            0.12909,     0.12875,     0.12841,     0.12807,     0.12772,     0.12738,     0.12704,      0.1267,     0.12636,     0.12602,     0.12568,     0.12533,     0.12499,     0.12465,     0.12431,     0.12397,     0.12363,     0.12329,     0.12294,      0.1226,     0.12226,     0.12192,     0.12158,\n",
              "            0.12124,     0.12089,     0.12055,     0.12021,     0.11987,     0.11953,     0.11919,     0.11885,      0.1185,     0.11816,     0.11782,     0.11748,     0.11714,      0.1168,     0.11645,     0.11611,     0.11577,     0.11543,     0.11509,     0.11475,     0.11441,     0.11406,     0.11372,\n",
              "            0.11338,     0.11304,      0.1127,     0.11236,     0.11202,     0.11167,     0.11133,     0.11099,     0.11065,     0.11031,     0.10997,     0.10962,     0.10928,     0.10894,      0.1086,     0.10826,     0.10792,     0.10758,     0.10723,     0.10689,     0.10655,     0.10621,     0.10587,\n",
              "            0.10553,     0.10519,     0.10484,      0.1045,     0.10416,     0.10382,     0.10348,     0.10314,     0.10279,     0.10245,     0.10211,     0.10177,     0.10143,     0.10109,     0.10075,      0.1004,     0.10006,    0.099721,    0.099379,    0.099038,    0.098696,    0.098355,    0.098013,\n",
              "           0.097672,     0.09733,    0.096989,    0.096647,    0.096306,    0.095964,    0.095623,    0.095281,     0.09494,    0.094598,    0.094257,    0.093915,    0.093574,    0.093232,    0.092891,    0.092549,    0.092208,    0.091866,    0.091525,    0.091183,    0.090842,      0.0905,    0.090159,\n",
              "           0.089817,    0.089476,    0.089134,    0.088793,    0.088451,     0.08811,    0.087768,    0.087427,    0.087085,    0.086744,    0.086402,    0.086061,    0.085719,    0.085377,    0.085036,    0.084694,    0.084353,    0.084011,     0.08367,    0.083328,    0.082987,    0.082645,    0.082304,\n",
              "           0.081962,    0.081621,    0.081279,    0.080938,    0.080596,    0.080255,    0.079913,    0.079572,     0.07923,    0.078889,    0.078547,    0.078206,    0.077864,    0.077523,    0.077181,     0.07684,    0.076498,    0.076157,    0.075815,    0.075474,    0.075132,    0.074791,    0.074449,\n",
              "           0.074108,    0.073766,    0.073425,    0.073083,    0.072742,      0.0724,    0.072059,    0.071717,    0.071376,    0.071034,    0.070693,    0.070351,     0.07001,    0.069668,    0.069327,    0.068985,    0.068644,    0.068302,     0.06796,    0.067619,    0.067277,    0.066936,    0.066594,\n",
              "           0.066253,    0.065911,     0.06557,    0.065228,    0.064887,    0.064545,    0.064204,    0.063862,    0.063521,    0.063179,    0.062838,    0.062496,    0.062155,    0.061813,    0.061472,     0.06113,    0.060789,    0.060447,    0.060106,    0.059764,    0.059423,    0.059081,     0.05874,\n",
              "           0.058398,    0.058057,    0.057715,    0.057374,    0.057032,    0.056691,    0.056349,    0.056008,    0.055666,    0.055325,    0.054983,    0.054642,      0.0543,    0.053959,    0.053617,    0.053276,    0.052934,    0.052593,    0.052251,     0.05191,    0.051568,    0.051226,    0.050885,\n",
              "           0.050543,    0.050202,     0.04986,    0.049519,    0.049177,    0.048836,    0.048494,    0.048153,    0.047811,     0.04747,    0.047128,    0.046787,    0.046445,    0.046104,    0.045762,    0.045421,    0.045079,    0.044738,    0.044396,    0.044055,    0.043713,    0.043372,     0.04303,\n",
              "           0.042689,    0.042347,    0.042006,    0.041664,    0.041323,    0.040981,     0.04064,    0.040298,    0.039957,    0.039615,    0.039274,    0.038932,    0.038591,    0.038249,    0.037908,    0.037566,    0.037225,    0.036883,    0.036542,      0.0362,    0.035859,    0.035517,    0.035176,\n",
              "           0.034834,    0.034493,    0.034151,    0.033809,    0.033468,    0.033126,    0.032785,    0.032443,    0.032102,     0.03176,    0.031419,    0.031077,    0.030736,    0.030394,    0.030053,    0.029711,     0.02937,    0.029028,    0.028687,    0.028345,    0.028004,    0.027662,    0.027321,\n",
              "           0.026979,    0.026638,    0.026296,    0.025955,    0.025613,    0.025272,     0.02493,    0.024589,    0.024247,    0.023906,    0.023564,    0.023223,    0.022881,     0.02254,    0.022198,    0.021857,    0.021515,    0.021174,    0.020832,    0.020491,    0.020149,    0.019808,    0.019466,\n",
              "           0.019125,    0.018783,    0.018442,      0.0181,    0.017759,    0.017417,    0.017075,    0.016734,    0.016392,    0.016051,    0.015709,    0.015368,    0.015026,    0.014685,    0.014343,    0.014002,     0.01366,    0.013319,    0.012977,    0.012636,    0.012294,    0.011953,    0.011611,\n",
              "            0.01127,    0.010928,    0.010587,    0.010245,   0.0099038,   0.0095623,   0.0092208,   0.0088793,   0.0085377,   0.0081962,   0.0078547,   0.0075132,   0.0071717,   0.0068302,   0.0064887,   0.0061472,   0.0058057,   0.0054642,   0.0051226,   0.0047811,   0.0044396,   0.0040981,   0.0037566,\n",
              "          0.0034151,   0.0030736,   0.0027321,   0.0023906,   0.0020491,   0.0017075,    0.001366,   0.0010245,  0.00068302,  0.00034151,           0]]), 'Recall', 'Precision'], [array([          0,    0.001001,    0.002002,    0.003003,    0.004004,    0.005005,    0.006006,    0.007007,    0.008008,    0.009009,     0.01001,    0.011011,    0.012012,    0.013013,    0.014014,    0.015015,    0.016016,    0.017017,    0.018018,    0.019019,     0.02002,    0.021021,    0.022022,    0.023023,\n",
              "          0.024024,    0.025025,    0.026026,    0.027027,    0.028028,    0.029029,     0.03003,    0.031031,    0.032032,    0.033033,    0.034034,    0.035035,    0.036036,    0.037037,    0.038038,    0.039039,     0.04004,    0.041041,    0.042042,    0.043043,    0.044044,    0.045045,    0.046046,    0.047047,\n",
              "          0.048048,    0.049049,     0.05005,    0.051051,    0.052052,    0.053053,    0.054054,    0.055055,    0.056056,    0.057057,    0.058058,    0.059059,     0.06006,    0.061061,    0.062062,    0.063063,    0.064064,    0.065065,    0.066066,    0.067067,    0.068068,    0.069069,     0.07007,    0.071071,\n",
              "          0.072072,    0.073073,    0.074074,    0.075075,    0.076076,    0.077077,    0.078078,    0.079079,     0.08008,    0.081081,    0.082082,    0.083083,    0.084084,    0.085085,    0.086086,    0.087087,    0.088088,    0.089089,     0.09009,    0.091091,    0.092092,    0.093093,    0.094094,    0.095095,\n",
              "          0.096096,    0.097097,    0.098098,    0.099099,      0.1001,      0.1011,      0.1021,      0.1031,      0.1041,     0.10511,     0.10611,     0.10711,     0.10811,     0.10911,     0.11011,     0.11111,     0.11211,     0.11311,     0.11411,     0.11512,     0.11612,     0.11712,     0.11812,     0.11912,\n",
              "           0.12012,     0.12112,     0.12212,     0.12312,     0.12412,     0.12513,     0.12613,     0.12713,     0.12813,     0.12913,     0.13013,     0.13113,     0.13213,     0.13313,     0.13413,     0.13514,     0.13614,     0.13714,     0.13814,     0.13914,     0.14014,     0.14114,     0.14214,     0.14314,\n",
              "           0.14414,     0.14515,     0.14615,     0.14715,     0.14815,     0.14915,     0.15015,     0.15115,     0.15215,     0.15315,     0.15415,     0.15516,     0.15616,     0.15716,     0.15816,     0.15916,     0.16016,     0.16116,     0.16216,     0.16316,     0.16416,     0.16517,     0.16617,     0.16717,\n",
              "           0.16817,     0.16917,     0.17017,     0.17117,     0.17217,     0.17317,     0.17417,     0.17518,     0.17618,     0.17718,     0.17818,     0.17918,     0.18018,     0.18118,     0.18218,     0.18318,     0.18418,     0.18519,     0.18619,     0.18719,     0.18819,     0.18919,     0.19019,     0.19119,\n",
              "           0.19219,     0.19319,     0.19419,      0.1952,      0.1962,      0.1972,      0.1982,      0.1992,      0.2002,      0.2012,      0.2022,      0.2032,      0.2042,     0.20521,     0.20621,     0.20721,     0.20821,     0.20921,     0.21021,     0.21121,     0.21221,     0.21321,     0.21421,     0.21522,\n",
              "           0.21622,     0.21722,     0.21822,     0.21922,     0.22022,     0.22122,     0.22222,     0.22322,     0.22422,     0.22523,     0.22623,     0.22723,     0.22823,     0.22923,     0.23023,     0.23123,     0.23223,     0.23323,     0.23423,     0.23524,     0.23624,     0.23724,     0.23824,     0.23924,\n",
              "           0.24024,     0.24124,     0.24224,     0.24324,     0.24424,     0.24525,     0.24625,     0.24725,     0.24825,     0.24925,     0.25025,     0.25125,     0.25225,     0.25325,     0.25425,     0.25526,     0.25626,     0.25726,     0.25826,     0.25926,     0.26026,     0.26126,     0.26226,     0.26326,\n",
              "           0.26426,     0.26527,     0.26627,     0.26727,     0.26827,     0.26927,     0.27027,     0.27127,     0.27227,     0.27327,     0.27427,     0.27528,     0.27628,     0.27728,     0.27828,     0.27928,     0.28028,     0.28128,     0.28228,     0.28328,     0.28428,     0.28529,     0.28629,     0.28729,\n",
              "           0.28829,     0.28929,     0.29029,     0.29129,     0.29229,     0.29329,     0.29429,      0.2953,      0.2963,      0.2973,      0.2983,      0.2993,      0.3003,      0.3013,      0.3023,      0.3033,      0.3043,     0.30531,     0.30631,     0.30731,     0.30831,     0.30931,     0.31031,     0.31131,\n",
              "           0.31231,     0.31331,     0.31431,     0.31532,     0.31632,     0.31732,     0.31832,     0.31932,     0.32032,     0.32132,     0.32232,     0.32332,     0.32432,     0.32533,     0.32633,     0.32733,     0.32833,     0.32933,     0.33033,     0.33133,     0.33233,     0.33333,     0.33433,     0.33534,\n",
              "           0.33634,     0.33734,     0.33834,     0.33934,     0.34034,     0.34134,     0.34234,     0.34334,     0.34434,     0.34535,     0.34635,     0.34735,     0.34835,     0.34935,     0.35035,     0.35135,     0.35235,     0.35335,     0.35435,     0.35536,     0.35636,     0.35736,     0.35836,     0.35936,\n",
              "           0.36036,     0.36136,     0.36236,     0.36336,     0.36436,     0.36537,     0.36637,     0.36737,     0.36837,     0.36937,     0.37037,     0.37137,     0.37237,     0.37337,     0.37437,     0.37538,     0.37638,     0.37738,     0.37838,     0.37938,     0.38038,     0.38138,     0.38238,     0.38338,\n",
              "           0.38438,     0.38539,     0.38639,     0.38739,     0.38839,     0.38939,     0.39039,     0.39139,     0.39239,     0.39339,     0.39439,      0.3954,      0.3964,      0.3974,      0.3984,      0.3994,      0.4004,      0.4014,      0.4024,      0.4034,      0.4044,     0.40541,     0.40641,     0.40741,\n",
              "           0.40841,     0.40941,     0.41041,     0.41141,     0.41241,     0.41341,     0.41441,     0.41542,     0.41642,     0.41742,     0.41842,     0.41942,     0.42042,     0.42142,     0.42242,     0.42342,     0.42442,     0.42543,     0.42643,     0.42743,     0.42843,     0.42943,     0.43043,     0.43143,\n",
              "           0.43243,     0.43343,     0.43443,     0.43544,     0.43644,     0.43744,     0.43844,     0.43944,     0.44044,     0.44144,     0.44244,     0.44344,     0.44444,     0.44545,     0.44645,     0.44745,     0.44845,     0.44945,     0.45045,     0.45145,     0.45245,     0.45345,     0.45445,     0.45546,\n",
              "           0.45646,     0.45746,     0.45846,     0.45946,     0.46046,     0.46146,     0.46246,     0.46346,     0.46446,     0.46547,     0.46647,     0.46747,     0.46847,     0.46947,     0.47047,     0.47147,     0.47247,     0.47347,     0.47447,     0.47548,     0.47648,     0.47748,     0.47848,     0.47948,\n",
              "           0.48048,     0.48148,     0.48248,     0.48348,     0.48448,     0.48549,     0.48649,     0.48749,     0.48849,     0.48949,     0.49049,     0.49149,     0.49249,     0.49349,     0.49449,      0.4955,      0.4965,      0.4975,      0.4985,      0.4995,      0.5005,      0.5015,      0.5025,      0.5035,\n",
              "            0.5045,     0.50551,     0.50651,     0.50751,     0.50851,     0.50951,     0.51051,     0.51151,     0.51251,     0.51351,     0.51451,     0.51552,     0.51652,     0.51752,     0.51852,     0.51952,     0.52052,     0.52152,     0.52252,     0.52352,     0.52452,     0.52553,     0.52653,     0.52753,\n",
              "           0.52853,     0.52953,     0.53053,     0.53153,     0.53253,     0.53353,     0.53453,     0.53554,     0.53654,     0.53754,     0.53854,     0.53954,     0.54054,     0.54154,     0.54254,     0.54354,     0.54454,     0.54555,     0.54655,     0.54755,     0.54855,     0.54955,     0.55055,     0.55155,\n",
              "           0.55255,     0.55355,     0.55455,     0.55556,     0.55656,     0.55756,     0.55856,     0.55956,     0.56056,     0.56156,     0.56256,     0.56356,     0.56456,     0.56557,     0.56657,     0.56757,     0.56857,     0.56957,     0.57057,     0.57157,     0.57257,     0.57357,     0.57457,     0.57558,\n",
              "           0.57658,     0.57758,     0.57858,     0.57958,     0.58058,     0.58158,     0.58258,     0.58358,     0.58458,     0.58559,     0.58659,     0.58759,     0.58859,     0.58959,     0.59059,     0.59159,     0.59259,     0.59359,     0.59459,      0.5956,      0.5966,      0.5976,      0.5986,      0.5996,\n",
              "            0.6006,      0.6016,      0.6026,      0.6036,      0.6046,     0.60561,     0.60661,     0.60761,     0.60861,     0.60961,     0.61061,     0.61161,     0.61261,     0.61361,     0.61461,     0.61562,     0.61662,     0.61762,     0.61862,     0.61962,     0.62062,     0.62162,     0.62262,     0.62362,\n",
              "           0.62462,     0.62563,     0.62663,     0.62763,     0.62863,     0.62963,     0.63063,     0.63163,     0.63263,     0.63363,     0.63463,     0.63564,     0.63664,     0.63764,     0.63864,     0.63964,     0.64064,     0.64164,     0.64264,     0.64364,     0.64464,     0.64565,     0.64665,     0.64765,\n",
              "           0.64865,     0.64965,     0.65065,     0.65165,     0.65265,     0.65365,     0.65465,     0.65566,     0.65666,     0.65766,     0.65866,     0.65966,     0.66066,     0.66166,     0.66266,     0.66366,     0.66466,     0.66567,     0.66667,     0.66767,     0.66867,     0.66967,     0.67067,     0.67167,\n",
              "           0.67267,     0.67367,     0.67467,     0.67568,     0.67668,     0.67768,     0.67868,     0.67968,     0.68068,     0.68168,     0.68268,     0.68368,     0.68468,     0.68569,     0.68669,     0.68769,     0.68869,     0.68969,     0.69069,     0.69169,     0.69269,     0.69369,     0.69469,      0.6957,\n",
              "            0.6967,      0.6977,      0.6987,      0.6997,      0.7007,      0.7017,      0.7027,      0.7037,      0.7047,     0.70571,     0.70671,     0.70771,     0.70871,     0.70971,     0.71071,     0.71171,     0.71271,     0.71371,     0.71471,     0.71572,     0.71672,     0.71772,     0.71872,     0.71972,\n",
              "           0.72072,     0.72172,     0.72272,     0.72372,     0.72472,     0.72573,     0.72673,     0.72773,     0.72873,     0.72973,     0.73073,     0.73173,     0.73273,     0.73373,     0.73473,     0.73574,     0.73674,     0.73774,     0.73874,     0.73974,     0.74074,     0.74174,     0.74274,     0.74374,\n",
              "           0.74474,     0.74575,     0.74675,     0.74775,     0.74875,     0.74975,     0.75075,     0.75175,     0.75275,     0.75375,     0.75475,     0.75576,     0.75676,     0.75776,     0.75876,     0.75976,     0.76076,     0.76176,     0.76276,     0.76376,     0.76476,     0.76577,     0.76677,     0.76777,\n",
              "           0.76877,     0.76977,     0.77077,     0.77177,     0.77277,     0.77377,     0.77477,     0.77578,     0.77678,     0.77778,     0.77878,     0.77978,     0.78078,     0.78178,     0.78278,     0.78378,     0.78478,     0.78579,     0.78679,     0.78779,     0.78879,     0.78979,     0.79079,     0.79179,\n",
              "           0.79279,     0.79379,     0.79479,      0.7958,      0.7968,      0.7978,      0.7988,      0.7998,      0.8008,      0.8018,      0.8028,      0.8038,      0.8048,     0.80581,     0.80681,     0.80781,     0.80881,     0.80981,     0.81081,     0.81181,     0.81281,     0.81381,     0.81481,     0.81582,\n",
              "           0.81682,     0.81782,     0.81882,     0.81982,     0.82082,     0.82182,     0.82282,     0.82382,     0.82482,     0.82583,     0.82683,     0.82783,     0.82883,     0.82983,     0.83083,     0.83183,     0.83283,     0.83383,     0.83483,     0.83584,     0.83684,     0.83784,     0.83884,     0.83984,\n",
              "           0.84084,     0.84184,     0.84284,     0.84384,     0.84484,     0.84585,     0.84685,     0.84785,     0.84885,     0.84985,     0.85085,     0.85185,     0.85285,     0.85385,     0.85485,     0.85586,     0.85686,     0.85786,     0.85886,     0.85986,     0.86086,     0.86186,     0.86286,     0.86386,\n",
              "           0.86486,     0.86587,     0.86687,     0.86787,     0.86887,     0.86987,     0.87087,     0.87187,     0.87287,     0.87387,     0.87487,     0.87588,     0.87688,     0.87788,     0.87888,     0.87988,     0.88088,     0.88188,     0.88288,     0.88388,     0.88488,     0.88589,     0.88689,     0.88789,\n",
              "           0.88889,     0.88989,     0.89089,     0.89189,     0.89289,     0.89389,     0.89489,      0.8959,      0.8969,      0.8979,      0.8989,      0.8999,      0.9009,      0.9019,      0.9029,      0.9039,      0.9049,     0.90591,     0.90691,     0.90791,     0.90891,     0.90991,     0.91091,     0.91191,\n",
              "           0.91291,     0.91391,     0.91491,     0.91592,     0.91692,     0.91792,     0.91892,     0.91992,     0.92092,     0.92192,     0.92292,     0.92392,     0.92492,     0.92593,     0.92693,     0.92793,     0.92893,     0.92993,     0.93093,     0.93193,     0.93293,     0.93393,     0.93493,     0.93594,\n",
              "           0.93694,     0.93794,     0.93894,     0.93994,     0.94094,     0.94194,     0.94294,     0.94394,     0.94494,     0.94595,     0.94695,     0.94795,     0.94895,     0.94995,     0.95095,     0.95195,     0.95295,     0.95395,     0.95495,     0.95596,     0.95696,     0.95796,     0.95896,     0.95996,\n",
              "           0.96096,     0.96196,     0.96296,     0.96396,     0.96496,     0.96597,     0.96697,     0.96797,     0.96897,     0.96997,     0.97097,     0.97197,     0.97297,     0.97397,     0.97497,     0.97598,     0.97698,     0.97798,     0.97898,     0.97998,     0.98098,     0.98198,     0.98298,     0.98398,\n",
              "           0.98498,     0.98599,     0.98699,     0.98799,     0.98899,     0.98999,     0.99099,     0.99199,     0.99299,     0.99399,     0.99499,       0.996,       0.997,       0.998,       0.999,           1]), array([[    0.21528,     0.21528,     0.21728,     0.21165,     0.20537,      0.2015,     0.19704,     0.19233,     0.18237,     0.17794,     0.17555,     0.17602,     0.17245,     0.17074,     0.16401,     0.16426,     0.16326,     0.16236,     0.16137,     0.15983,     0.16016,     0.16033,     0.15893,\n",
              "             0.1579,      0.1577,     0.15639,     0.15646,      0.1565,     0.15656,     0.15677,     0.15706,     0.15596,     0.15553,      0.1556,     0.15381,     0.15288,      0.1524,     0.15183,     0.15126,     0.15156,     0.15163,     0.15193,     0.15206,     0.15209,     0.15213,     0.15216,\n",
              "            0.15219,     0.15222,     0.15225,     0.15227,      0.1523,     0.15232,     0.15158,     0.15063,     0.14971,      0.1489,     0.14846,     0.14802,     0.14757,     0.14606,     0.14575,     0.14582,      0.1459,     0.14607,     0.14563,     0.14519,     0.14474,     0.14443,     0.14452,\n",
              "            0.14481,     0.14488,     0.14506,     0.14514,     0.14525,     0.14535,      0.1454,     0.14545,     0.14342,     0.14051,     0.13898,     0.13904,      0.1378,     0.13738,      0.1374,     0.13741,     0.13743,     0.13745,     0.13747,     0.13749,     0.13752,     0.13756,      0.1376,\n",
              "            0.13766,     0.13773,     0.13775,     0.13776,     0.13777,     0.13778,     0.13779,      0.1378,     0.13782,     0.13783,     0.13784,     0.13785,     0.13786,     0.13795,     0.13753,     0.13686,     0.13641,     0.13643,     0.13646,     0.13648,      0.1365,     0.13652,     0.13657,\n",
              "            0.13663,     0.13647,     0.13615,     0.13582,      0.1355,     0.13517,     0.13485,     0.13454,     0.13422,     0.13391,     0.13359,     0.13328,     0.13322,     0.13323,     0.13324,     0.13325,     0.13326,     0.13327,     0.13328,      0.1333,     0.13331,     0.13332,     0.13333,\n",
              "            0.13348,     0.13361,     0.13372,     0.13379,     0.13374,     0.13353,     0.13332,     0.13311,      0.1329,     0.13269,     0.13249,     0.13228,     0.13211,     0.13216,     0.13178,     0.13141,     0.13103,     0.13066,      0.1306,     0.12986,     0.12898,     0.12901,     0.12904,\n",
              "            0.12906,     0.12909,     0.12866,     0.12813,      0.1276,     0.12735,     0.12736,     0.12737,     0.12739,      0.1274,     0.12741,     0.12742,     0.12744,     0.12745,     0.12744,     0.12734,     0.12725,     0.12716,     0.12706,     0.12697,     0.12688,     0.12678,     0.12669,\n",
              "             0.1266,      0.1265,     0.12641,     0.12631,     0.12622,     0.12613,     0.12603,     0.12594,     0.12585,     0.12575,     0.12571,     0.12571,     0.12572,     0.12572,     0.12573,     0.12573,     0.12574,     0.12575,     0.12575,     0.12576,     0.12576,     0.12577,     0.12577,\n",
              "            0.12578,     0.12579,     0.12579,      0.1258,      0.1258,     0.12581,     0.12581,     0.12582,     0.12573,     0.12554,     0.12535,     0.12516,     0.12497,     0.12478,     0.12459,      0.1244,     0.12421,     0.12406,     0.12408,     0.12409,     0.12411,     0.12412,     0.12413,\n",
              "            0.12415,     0.12416,     0.12418,     0.12398,     0.12377,     0.12356,     0.12335,     0.12314,     0.12293,     0.12272,     0.12251,     0.12241,     0.12242,     0.12243,     0.12243,     0.12244,     0.12245,     0.12245,     0.12246,     0.12247,     0.12247,     0.12248,     0.12249,\n",
              "            0.12249,      0.1225,     0.12251,     0.12251,     0.12252,     0.12253,     0.12257,     0.12224,     0.12191,     0.12158,     0.12125,     0.12091,     0.11909,      0.1191,     0.11911,     0.11912,     0.11913,     0.11913,     0.11914,     0.11915,     0.11916,     0.11917,     0.11917,\n",
              "            0.11918,     0.11919,      0.1192,     0.11922,     0.11926,     0.11931,     0.11836,     0.11759,     0.11721,     0.11648,      0.1157,     0.11465,     0.11407,     0.11408,     0.11409,     0.11409,      0.1141,     0.11411,     0.11412,     0.11412,     0.11413,     0.11414,     0.11415,\n",
              "            0.11415,     0.11416,     0.11417,     0.11418,      0.1142,     0.11424,     0.11427,     0.11429,      0.1143,     0.11431,     0.11432,     0.11433,     0.11433,     0.11434,     0.11435,     0.11436,     0.11437,     0.11438,     0.11439,     0.11439,      0.1144,     0.11441,     0.11441,\n",
              "            0.11442,     0.11443,     0.11443,     0.11444,     0.11445,     0.11445,     0.11446,     0.11446,     0.11447,     0.11448,     0.11448,     0.11449,      0.1145,      0.1145,     0.11357,     0.11271,     0.11275,     0.11279,     0.11282,     0.11283,     0.11284,     0.11285,     0.11287,\n",
              "            0.11288,     0.11289,      0.1129,     0.11292,     0.11296,     0.11303,     0.11303,     0.11304,     0.11304,     0.11304,     0.11305,     0.11305,     0.11306,     0.11306,     0.11307,     0.11307,     0.11307,     0.11308,     0.11308,     0.11309,     0.11309,      0.1131,      0.1131,\n",
              "             0.1131,     0.11311,     0.11311,     0.11312,     0.11312,     0.11313,     0.11313,     0.11313,     0.11309,     0.11302,     0.11296,     0.11289,     0.11282,     0.11275,     0.11269,     0.11262,     0.11255,     0.11248,     0.11242,     0.11235,     0.11228,     0.11221,     0.11215,\n",
              "            0.11208,     0.11201,     0.11194,     0.11188,     0.11181,     0.11174,     0.11167,     0.11161,     0.11154,     0.11147,      0.1114,     0.11134,     0.11133,     0.11134,     0.11135,     0.11136,     0.11137,     0.11138,     0.11138,     0.11139,      0.1114,     0.11141,     0.11142,\n",
              "            0.11143,     0.11137,     0.11127,     0.11117,     0.11107,     0.11097,     0.11087,     0.11077,     0.11068,     0.11058,     0.11048,     0.11038,     0.11028,     0.11018,     0.11008,     0.10998,     0.10988,     0.10978,     0.10968,     0.10965,     0.10972,     0.10973,     0.10974,\n",
              "            0.10974,     0.10975,     0.10976,     0.10976,     0.10977,     0.10978,     0.10978,     0.10979,     0.10979,      0.1098,     0.10981,     0.10981,     0.10982,     0.10982,     0.10935,     0.10889,     0.10842,     0.10801,     0.10805,     0.10809,     0.10804,     0.10789,     0.10773,\n",
              "            0.10757,     0.10742,     0.10726,     0.10711,     0.10695,     0.10679,     0.10664,     0.10648,     0.10632,     0.10629,      0.1063,     0.10632,     0.10633,     0.10634,     0.10636,     0.10637,     0.10638,     0.10639,     0.10639,      0.1064,      0.1064,     0.10641,     0.10641,\n",
              "            0.10642,     0.10642,     0.10643,     0.10643,     0.10644,     0.10644,     0.10645,     0.10645,     0.10646,     0.10646,     0.10647,     0.10647,     0.10648,     0.10648,     0.10637,      0.1061,     0.10583,     0.10557,      0.1053,     0.10503,     0.10476,     0.10466,     0.10468,\n",
              "             0.1047,     0.10471,     0.10473,     0.10475,     0.10472,     0.10468,     0.10465,     0.10461,     0.10457,     0.10453,     0.10449,     0.10445,     0.10441,     0.10437,     0.10434,      0.1043,     0.10426,     0.10422,     0.10418,     0.10414,      0.1041,     0.10406,     0.10402,\n",
              "            0.10399,     0.10395,     0.10391,     0.10387,     0.10383,     0.10379,     0.10375,     0.10371,     0.10367,     0.10364,      0.1036,     0.10356,     0.10352,     0.10348,     0.10344,      0.1034,     0.10336,     0.10332,     0.10329,     0.10325,     0.10321,     0.10317,     0.10313,\n",
              "            0.10309,     0.10305,     0.10301,     0.10297,     0.10293,     0.10292,     0.10293,     0.10294,     0.10295,     0.10296,     0.10297,     0.10298,     0.10299,       0.103,     0.10301,      0.1029,     0.10273,     0.10255,     0.10238,     0.10221,     0.10204,     0.10187,     0.10169,\n",
              "            0.10152,     0.10135,     0.10118,     0.10118,     0.10119,      0.1012,     0.10121,     0.10122,     0.10122,     0.10123,     0.10124,     0.10125,     0.10126,     0.10127,     0.10128,     0.10129,      0.1013,     0.10131,     0.10132,     0.10133,     0.10134,     0.10135,     0.10136,\n",
              "            0.10137,     0.10139,      0.1014,     0.10141,     0.10143,     0.10144,     0.10146,     0.10147,     0.10147,     0.10148,     0.10149,     0.10149,      0.1015,      0.1015,     0.10151,     0.10152,     0.10152,     0.10153,     0.10153,     0.10154,     0.10154,     0.10155,     0.10156,\n",
              "           0.099708,     0.09973,    0.099752,    0.099774,    0.099797,    0.099557,    0.099175,    0.098794,    0.098412,     0.09803,    0.097954,    0.097968,    0.097982,    0.097996,     0.09801,    0.098024,    0.098038,    0.097739,     0.09742,    0.097101,    0.096782,    0.096463,    0.096154,\n",
              "           0.095941,    0.095728,    0.095515,    0.095302,    0.095089,    0.094876,    0.094663,     0.09445,    0.094263,    0.094135,    0.094007,    0.093879,    0.093751,    0.093623,    0.093495,    0.093367,    0.093239,    0.093111,    0.092983,    0.092855,    0.092727,    0.092598,     0.09247,\n",
              "           0.091996,    0.091355,    0.090713,    0.090597,    0.090648,    0.090674,      0.0907,    0.090726,    0.090743,    0.090759,    0.090774,    0.090789,    0.090804,    0.090819,    0.090826,    0.090832,    0.090838,    0.090844,     0.09085,    0.090856,    0.090863,    0.090869,    0.090875,\n",
              "           0.090881,    0.090887,    0.090893,    0.090899,    0.090905,    0.090845,    0.090676,    0.090508,     0.09034,    0.090172,    0.090003,    0.089835,    0.089667,    0.089498,     0.08933,    0.089162,    0.088809,    0.087517,     0.08674,    0.086185,     0.08563,     0.08519,     0.08504,\n",
              "           0.084891,    0.084741,    0.084591,    0.084441,    0.084292,    0.084142,    0.083992,    0.083842,    0.083692,    0.083543,    0.083393,    0.083343,    0.083358,    0.083374,    0.083389,    0.083404,    0.083417,    0.083423,    0.083428,    0.083433,    0.083438,    0.083443,    0.083448,\n",
              "           0.083454,    0.083459,    0.083464,    0.083469,    0.083474,    0.083479,    0.083484,     0.08349,    0.083495,    0.083408,    0.082756,    0.082105,    0.081596,    0.081615,    0.081633,    0.081652,     0.08167,    0.081691,    0.081712,    0.081732,    0.081753,    0.081888,     0.08186,\n",
              "           0.081733,    0.081607,     0.08148,    0.081353,    0.081226,    0.081099,    0.080972,    0.080846,    0.080719,    0.080592,    0.080465,    0.080338,    0.080211,    0.080084,    0.079912,    0.079649,    0.079387,    0.079124,    0.078861,    0.078599,    0.078336,    0.078079,    0.078111,\n",
              "           0.078143,    0.078172,    0.078199,    0.078226,    0.077589,      0.0766,    0.076333,    0.076372,    0.076299,    0.076189,    0.076079,    0.075969,    0.075859,    0.075748,    0.075638,    0.075528,    0.075418,    0.075308,    0.075197,    0.075087,    0.074977,    0.074867,    0.074756,\n",
              "           0.074646,    0.074536,    0.074448,    0.074457,    0.074466,    0.074474,    0.074483,    0.074491,      0.0745,    0.074508,    0.074517,    0.074527,    0.074539,     0.07455,    0.074562,    0.074574,    0.074586,    0.074558,    0.073989,     0.07342,    0.072851,    0.072575,    0.072454,\n",
              "           0.072333,    0.072212,    0.072091,     0.07197,    0.071849,    0.071728,    0.071608,    0.071487,    0.071366,    0.071245,    0.071124,    0.071003,    0.070882,    0.070761,     0.06876,    0.068765,    0.068771,    0.068777,    0.068783,    0.068788,    0.068794,      0.0688,    0.068805,\n",
              "           0.068811,    0.068817,    0.068822,    0.068852,     0.06891,    0.068946,    0.068674,    0.068004,    0.067334,    0.065036,    0.064798,    0.064561,    0.064324,    0.064086,    0.063849,    0.063612,    0.063374,    0.063137,      0.0616,    0.061109,     0.06112,    0.061132,    0.061144,\n",
              "           0.061155,    0.061166,    0.061177,    0.061188,    0.061198,    0.061209,     0.06122,    0.059027,     0.05862,    0.058214,    0.057807,      0.0574,    0.056592,    0.055572,    0.053832,    0.053293,    0.053311,     0.05333,    0.052786,    0.052103,     0.05142,    0.051351,    0.051369,\n",
              "           0.051387,    0.050738,    0.050053,     0.04936,    0.048331,    0.047276,    0.045901,     0.04541,    0.045429,    0.045449,    0.043437,    0.043456,    0.043474,     0.04313,    0.042669,    0.042207,    0.041745,    0.041483,    0.041507,    0.041522,    0.041536,    0.038707,    0.037871,\n",
              "           0.037469,    0.037485,    0.037506,    0.035088,    0.032797,    0.031743,    0.029323,    0.029344,    0.024283,    0.022665,    0.019955,    0.018811,    0.018558,    0.018306,    0.018053,    0.017801,    0.017548,    0.017296,    0.017043,    0.014291,    0.013213,    0.012327,    0.011607,\n",
              "           0.010887,    0.010612,    0.010621,     0.01026,    0.008511,    0.008513,   0.0085149,   0.0085168,   0.0085185,   0.0081761,    0.007088,   0.0039501,    0.003076,   0.0022017,   0.0017568,  0.00087882,  8.5739e-07,           0,           0,           0,           0,           0,           0,\n",
              "                  0,           0,           0,           0,           0,           0,           0,           0,           0,           0,           0,           0,           0,           0,           0,           0,           0,           0,           0,           0,           0,           0,           0,\n",
              "                  0,           0,           0,           0,           0,           0,           0,           0,           0,           0,           0]]), 'Confidence', 'F1'], [array([          0,    0.001001,    0.002002,    0.003003,    0.004004,    0.005005,    0.006006,    0.007007,    0.008008,    0.009009,     0.01001,    0.011011,    0.012012,    0.013013,    0.014014,    0.015015,    0.016016,    0.017017,    0.018018,    0.019019,     0.02002,    0.021021,    0.022022,    0.023023,\n",
              "          0.024024,    0.025025,    0.026026,    0.027027,    0.028028,    0.029029,     0.03003,    0.031031,    0.032032,    0.033033,    0.034034,    0.035035,    0.036036,    0.037037,    0.038038,    0.039039,     0.04004,    0.041041,    0.042042,    0.043043,    0.044044,    0.045045,    0.046046,    0.047047,\n",
              "          0.048048,    0.049049,     0.05005,    0.051051,    0.052052,    0.053053,    0.054054,    0.055055,    0.056056,    0.057057,    0.058058,    0.059059,     0.06006,    0.061061,    0.062062,    0.063063,    0.064064,    0.065065,    0.066066,    0.067067,    0.068068,    0.069069,     0.07007,    0.071071,\n",
              "          0.072072,    0.073073,    0.074074,    0.075075,    0.076076,    0.077077,    0.078078,    0.079079,     0.08008,    0.081081,    0.082082,    0.083083,    0.084084,    0.085085,    0.086086,    0.087087,    0.088088,    0.089089,     0.09009,    0.091091,    0.092092,    0.093093,    0.094094,    0.095095,\n",
              "          0.096096,    0.097097,    0.098098,    0.099099,      0.1001,      0.1011,      0.1021,      0.1031,      0.1041,     0.10511,     0.10611,     0.10711,     0.10811,     0.10911,     0.11011,     0.11111,     0.11211,     0.11311,     0.11411,     0.11512,     0.11612,     0.11712,     0.11812,     0.11912,\n",
              "           0.12012,     0.12112,     0.12212,     0.12312,     0.12412,     0.12513,     0.12613,     0.12713,     0.12813,     0.12913,     0.13013,     0.13113,     0.13213,     0.13313,     0.13413,     0.13514,     0.13614,     0.13714,     0.13814,     0.13914,     0.14014,     0.14114,     0.14214,     0.14314,\n",
              "           0.14414,     0.14515,     0.14615,     0.14715,     0.14815,     0.14915,     0.15015,     0.15115,     0.15215,     0.15315,     0.15415,     0.15516,     0.15616,     0.15716,     0.15816,     0.15916,     0.16016,     0.16116,     0.16216,     0.16316,     0.16416,     0.16517,     0.16617,     0.16717,\n",
              "           0.16817,     0.16917,     0.17017,     0.17117,     0.17217,     0.17317,     0.17417,     0.17518,     0.17618,     0.17718,     0.17818,     0.17918,     0.18018,     0.18118,     0.18218,     0.18318,     0.18418,     0.18519,     0.18619,     0.18719,     0.18819,     0.18919,     0.19019,     0.19119,\n",
              "           0.19219,     0.19319,     0.19419,      0.1952,      0.1962,      0.1972,      0.1982,      0.1992,      0.2002,      0.2012,      0.2022,      0.2032,      0.2042,     0.20521,     0.20621,     0.20721,     0.20821,     0.20921,     0.21021,     0.21121,     0.21221,     0.21321,     0.21421,     0.21522,\n",
              "           0.21622,     0.21722,     0.21822,     0.21922,     0.22022,     0.22122,     0.22222,     0.22322,     0.22422,     0.22523,     0.22623,     0.22723,     0.22823,     0.22923,     0.23023,     0.23123,     0.23223,     0.23323,     0.23423,     0.23524,     0.23624,     0.23724,     0.23824,     0.23924,\n",
              "           0.24024,     0.24124,     0.24224,     0.24324,     0.24424,     0.24525,     0.24625,     0.24725,     0.24825,     0.24925,     0.25025,     0.25125,     0.25225,     0.25325,     0.25425,     0.25526,     0.25626,     0.25726,     0.25826,     0.25926,     0.26026,     0.26126,     0.26226,     0.26326,\n",
              "           0.26426,     0.26527,     0.26627,     0.26727,     0.26827,     0.26927,     0.27027,     0.27127,     0.27227,     0.27327,     0.27427,     0.27528,     0.27628,     0.27728,     0.27828,     0.27928,     0.28028,     0.28128,     0.28228,     0.28328,     0.28428,     0.28529,     0.28629,     0.28729,\n",
              "           0.28829,     0.28929,     0.29029,     0.29129,     0.29229,     0.29329,     0.29429,      0.2953,      0.2963,      0.2973,      0.2983,      0.2993,      0.3003,      0.3013,      0.3023,      0.3033,      0.3043,     0.30531,     0.30631,     0.30731,     0.30831,     0.30931,     0.31031,     0.31131,\n",
              "           0.31231,     0.31331,     0.31431,     0.31532,     0.31632,     0.31732,     0.31832,     0.31932,     0.32032,     0.32132,     0.32232,     0.32332,     0.32432,     0.32533,     0.32633,     0.32733,     0.32833,     0.32933,     0.33033,     0.33133,     0.33233,     0.33333,     0.33433,     0.33534,\n",
              "           0.33634,     0.33734,     0.33834,     0.33934,     0.34034,     0.34134,     0.34234,     0.34334,     0.34434,     0.34535,     0.34635,     0.34735,     0.34835,     0.34935,     0.35035,     0.35135,     0.35235,     0.35335,     0.35435,     0.35536,     0.35636,     0.35736,     0.35836,     0.35936,\n",
              "           0.36036,     0.36136,     0.36236,     0.36336,     0.36436,     0.36537,     0.36637,     0.36737,     0.36837,     0.36937,     0.37037,     0.37137,     0.37237,     0.37337,     0.37437,     0.37538,     0.37638,     0.37738,     0.37838,     0.37938,     0.38038,     0.38138,     0.38238,     0.38338,\n",
              "           0.38438,     0.38539,     0.38639,     0.38739,     0.38839,     0.38939,     0.39039,     0.39139,     0.39239,     0.39339,     0.39439,      0.3954,      0.3964,      0.3974,      0.3984,      0.3994,      0.4004,      0.4014,      0.4024,      0.4034,      0.4044,     0.40541,     0.40641,     0.40741,\n",
              "           0.40841,     0.40941,     0.41041,     0.41141,     0.41241,     0.41341,     0.41441,     0.41542,     0.41642,     0.41742,     0.41842,     0.41942,     0.42042,     0.42142,     0.42242,     0.42342,     0.42442,     0.42543,     0.42643,     0.42743,     0.42843,     0.42943,     0.43043,     0.43143,\n",
              "           0.43243,     0.43343,     0.43443,     0.43544,     0.43644,     0.43744,     0.43844,     0.43944,     0.44044,     0.44144,     0.44244,     0.44344,     0.44444,     0.44545,     0.44645,     0.44745,     0.44845,     0.44945,     0.45045,     0.45145,     0.45245,     0.45345,     0.45445,     0.45546,\n",
              "           0.45646,     0.45746,     0.45846,     0.45946,     0.46046,     0.46146,     0.46246,     0.46346,     0.46446,     0.46547,     0.46647,     0.46747,     0.46847,     0.46947,     0.47047,     0.47147,     0.47247,     0.47347,     0.47447,     0.47548,     0.47648,     0.47748,     0.47848,     0.47948,\n",
              "           0.48048,     0.48148,     0.48248,     0.48348,     0.48448,     0.48549,     0.48649,     0.48749,     0.48849,     0.48949,     0.49049,     0.49149,     0.49249,     0.49349,     0.49449,      0.4955,      0.4965,      0.4975,      0.4985,      0.4995,      0.5005,      0.5015,      0.5025,      0.5035,\n",
              "            0.5045,     0.50551,     0.50651,     0.50751,     0.50851,     0.50951,     0.51051,     0.51151,     0.51251,     0.51351,     0.51451,     0.51552,     0.51652,     0.51752,     0.51852,     0.51952,     0.52052,     0.52152,     0.52252,     0.52352,     0.52452,     0.52553,     0.52653,     0.52753,\n",
              "           0.52853,     0.52953,     0.53053,     0.53153,     0.53253,     0.53353,     0.53453,     0.53554,     0.53654,     0.53754,     0.53854,     0.53954,     0.54054,     0.54154,     0.54254,     0.54354,     0.54454,     0.54555,     0.54655,     0.54755,     0.54855,     0.54955,     0.55055,     0.55155,\n",
              "           0.55255,     0.55355,     0.55455,     0.55556,     0.55656,     0.55756,     0.55856,     0.55956,     0.56056,     0.56156,     0.56256,     0.56356,     0.56456,     0.56557,     0.56657,     0.56757,     0.56857,     0.56957,     0.57057,     0.57157,     0.57257,     0.57357,     0.57457,     0.57558,\n",
              "           0.57658,     0.57758,     0.57858,     0.57958,     0.58058,     0.58158,     0.58258,     0.58358,     0.58458,     0.58559,     0.58659,     0.58759,     0.58859,     0.58959,     0.59059,     0.59159,     0.59259,     0.59359,     0.59459,      0.5956,      0.5966,      0.5976,      0.5986,      0.5996,\n",
              "            0.6006,      0.6016,      0.6026,      0.6036,      0.6046,     0.60561,     0.60661,     0.60761,     0.60861,     0.60961,     0.61061,     0.61161,     0.61261,     0.61361,     0.61461,     0.61562,     0.61662,     0.61762,     0.61862,     0.61962,     0.62062,     0.62162,     0.62262,     0.62362,\n",
              "           0.62462,     0.62563,     0.62663,     0.62763,     0.62863,     0.62963,     0.63063,     0.63163,     0.63263,     0.63363,     0.63463,     0.63564,     0.63664,     0.63764,     0.63864,     0.63964,     0.64064,     0.64164,     0.64264,     0.64364,     0.64464,     0.64565,     0.64665,     0.64765,\n",
              "           0.64865,     0.64965,     0.65065,     0.65165,     0.65265,     0.65365,     0.65465,     0.65566,     0.65666,     0.65766,     0.65866,     0.65966,     0.66066,     0.66166,     0.66266,     0.66366,     0.66466,     0.66567,     0.66667,     0.66767,     0.66867,     0.66967,     0.67067,     0.67167,\n",
              "           0.67267,     0.67367,     0.67467,     0.67568,     0.67668,     0.67768,     0.67868,     0.67968,     0.68068,     0.68168,     0.68268,     0.68368,     0.68468,     0.68569,     0.68669,     0.68769,     0.68869,     0.68969,     0.69069,     0.69169,     0.69269,     0.69369,     0.69469,      0.6957,\n",
              "            0.6967,      0.6977,      0.6987,      0.6997,      0.7007,      0.7017,      0.7027,      0.7037,      0.7047,     0.70571,     0.70671,     0.70771,     0.70871,     0.70971,     0.71071,     0.71171,     0.71271,     0.71371,     0.71471,     0.71572,     0.71672,     0.71772,     0.71872,     0.71972,\n",
              "           0.72072,     0.72172,     0.72272,     0.72372,     0.72472,     0.72573,     0.72673,     0.72773,     0.72873,     0.72973,     0.73073,     0.73173,     0.73273,     0.73373,     0.73473,     0.73574,     0.73674,     0.73774,     0.73874,     0.73974,     0.74074,     0.74174,     0.74274,     0.74374,\n",
              "           0.74474,     0.74575,     0.74675,     0.74775,     0.74875,     0.74975,     0.75075,     0.75175,     0.75275,     0.75375,     0.75475,     0.75576,     0.75676,     0.75776,     0.75876,     0.75976,     0.76076,     0.76176,     0.76276,     0.76376,     0.76476,     0.76577,     0.76677,     0.76777,\n",
              "           0.76877,     0.76977,     0.77077,     0.77177,     0.77277,     0.77377,     0.77477,     0.77578,     0.77678,     0.77778,     0.77878,     0.77978,     0.78078,     0.78178,     0.78278,     0.78378,     0.78478,     0.78579,     0.78679,     0.78779,     0.78879,     0.78979,     0.79079,     0.79179,\n",
              "           0.79279,     0.79379,     0.79479,      0.7958,      0.7968,      0.7978,      0.7988,      0.7998,      0.8008,      0.8018,      0.8028,      0.8038,      0.8048,     0.80581,     0.80681,     0.80781,     0.80881,     0.80981,     0.81081,     0.81181,     0.81281,     0.81381,     0.81481,     0.81582,\n",
              "           0.81682,     0.81782,     0.81882,     0.81982,     0.82082,     0.82182,     0.82282,     0.82382,     0.82482,     0.82583,     0.82683,     0.82783,     0.82883,     0.82983,     0.83083,     0.83183,     0.83283,     0.83383,     0.83483,     0.83584,     0.83684,     0.83784,     0.83884,     0.83984,\n",
              "           0.84084,     0.84184,     0.84284,     0.84384,     0.84484,     0.84585,     0.84685,     0.84785,     0.84885,     0.84985,     0.85085,     0.85185,     0.85285,     0.85385,     0.85485,     0.85586,     0.85686,     0.85786,     0.85886,     0.85986,     0.86086,     0.86186,     0.86286,     0.86386,\n",
              "           0.86486,     0.86587,     0.86687,     0.86787,     0.86887,     0.86987,     0.87087,     0.87187,     0.87287,     0.87387,     0.87487,     0.87588,     0.87688,     0.87788,     0.87888,     0.87988,     0.88088,     0.88188,     0.88288,     0.88388,     0.88488,     0.88589,     0.88689,     0.88789,\n",
              "           0.88889,     0.88989,     0.89089,     0.89189,     0.89289,     0.89389,     0.89489,      0.8959,      0.8969,      0.8979,      0.8989,      0.8999,      0.9009,      0.9019,      0.9029,      0.9039,      0.9049,     0.90591,     0.90691,     0.90791,     0.90891,     0.90991,     0.91091,     0.91191,\n",
              "           0.91291,     0.91391,     0.91491,     0.91592,     0.91692,     0.91792,     0.91892,     0.91992,     0.92092,     0.92192,     0.92292,     0.92392,     0.92492,     0.92593,     0.92693,     0.92793,     0.92893,     0.92993,     0.93093,     0.93193,     0.93293,     0.93393,     0.93493,     0.93594,\n",
              "           0.93694,     0.93794,     0.93894,     0.93994,     0.94094,     0.94194,     0.94294,     0.94394,     0.94494,     0.94595,     0.94695,     0.94795,     0.94895,     0.94995,     0.95095,     0.95195,     0.95295,     0.95395,     0.95495,     0.95596,     0.95696,     0.95796,     0.95896,     0.95996,\n",
              "           0.96096,     0.96196,     0.96296,     0.96396,     0.96496,     0.96597,     0.96697,     0.96797,     0.96897,     0.96997,     0.97097,     0.97197,     0.97297,     0.97397,     0.97497,     0.97598,     0.97698,     0.97798,     0.97898,     0.97998,     0.98098,     0.98198,     0.98298,     0.98398,\n",
              "           0.98498,     0.98599,     0.98699,     0.98799,     0.98899,     0.98999,     0.99099,     0.99199,     0.99299,     0.99399,     0.99499,       0.996,       0.997,       0.998,       0.999,           1]), array([[    0.28174,     0.28174,     0.34744,     0.36897,     0.38688,     0.39302,     0.39568,     0.39727,     0.39129,     0.39243,     0.39438,     0.39914,     0.39646,     0.39905,     0.39558,     0.40189,     0.40636,     0.41247,     0.41388,     0.41587,     0.42044,      0.4228,     0.42296,\n",
              "            0.42324,     0.42578,     0.42751,      0.4285,     0.42923,        0.43,      0.4332,     0.43773,     0.43646,     0.43642,     0.43761,      0.4347,     0.43309,     0.43296,     0.43517,     0.43834,     0.44351,     0.44465,     0.44988,     0.45219,     0.45279,     0.45338,     0.45397,\n",
              "            0.45456,     0.45502,     0.45549,     0.45596,     0.45642,     0.45689,     0.45567,     0.45398,     0.45233,     0.45089,     0.45009,     0.44929,     0.44849,     0.44574,     0.44624,     0.44765,     0.44922,      0.4525,     0.45169,     0.45088,     0.45006,     0.44988,     0.45177,\n",
              "            0.45751,     0.45882,     0.46247,     0.46404,     0.46641,      0.4685,     0.46953,     0.47055,     0.47191,     0.46642,     0.46441,      0.4656,     0.46381,     0.46331,     0.46373,     0.46414,     0.46455,     0.46497,     0.46538,     0.46579,     0.46666,     0.46758,     0.46849,\n",
              "            0.46984,     0.47135,      0.4719,     0.47216,     0.47242,     0.47267,     0.47293,     0.47319,     0.47345,     0.47371,     0.47397,     0.47423,     0.47449,     0.47672,     0.47962,     0.47831,     0.47759,     0.47813,     0.47866,      0.4792,     0.47973,     0.48027,     0.48137,\n",
              "            0.48298,     0.48329,     0.48265,     0.48201,     0.48137,     0.48073,     0.48009,     0.47947,     0.47884,     0.47821,     0.47758,     0.47696,     0.47704,     0.47733,     0.47761,     0.47789,     0.47818,     0.47846,     0.47874,     0.47903,     0.47931,     0.47959,     0.47988,\n",
              "            0.48389,     0.48724,     0.49025,     0.49208,     0.49297,     0.49255,     0.49213,     0.49171,     0.49129,     0.49087,     0.49045,     0.49002,     0.49009,     0.49294,     0.49218,     0.49141,     0.49065,     0.48988,     0.49316,     0.49468,      0.4932,     0.49396,     0.49473,\n",
              "            0.49549,     0.49626,     0.49551,      0.4944,     0.49329,     0.49295,     0.49334,     0.49373,     0.49412,     0.49451,     0.49489,     0.49528,     0.49567,     0.49606,      0.4963,      0.4961,     0.49591,     0.49571,     0.49551,     0.49532,     0.49512,     0.49492,     0.49472,\n",
              "            0.49453,     0.49433,     0.49413,     0.49394,     0.49374,     0.49354,     0.49334,     0.49315,     0.49295,     0.49275,     0.49273,      0.4929,     0.49308,     0.49325,     0.49342,      0.4936,     0.49377,     0.49395,     0.49412,     0.49429,     0.49447,     0.49464,     0.49482,\n",
              "            0.49499,     0.49516,     0.49534,     0.49551,     0.49569,     0.49586,     0.49603,     0.49621,      0.4961,     0.49569,     0.49529,     0.49488,     0.49447,     0.49407,     0.49366,     0.49326,     0.49285,     0.49264,     0.49308,     0.49353,     0.49398,     0.49442,     0.49487,\n",
              "            0.49532,     0.49576,     0.49621,     0.49582,     0.49536,     0.49491,     0.49446,       0.494,     0.49355,      0.4931,     0.49264,     0.49254,     0.49275,     0.49296,     0.49318,     0.49339,     0.49361,     0.49382,     0.49403,     0.49425,     0.49446,     0.49468,     0.49489,\n",
              "             0.4951,     0.49532,     0.49553,     0.49575,     0.49596,     0.49617,     0.49984,     0.49911,     0.49839,     0.49767,     0.49695,     0.49623,     0.49222,      0.4925,     0.49278,     0.49306,     0.49334,     0.49362,      0.4939,     0.49417,     0.49445,     0.49473,     0.49501,\n",
              "            0.49529,     0.49557,     0.49585,     0.49643,     0.49804,     0.49966,     0.49785,     0.49777,     0.49901,     0.49735,     0.49556,     0.49314,     0.49193,      0.4922,     0.49248,     0.49276,     0.49304,     0.49332,     0.49359,     0.49387,     0.49415,     0.49443,      0.4947,\n",
              "            0.49498,     0.49526,     0.49554,     0.49582,     0.49693,     0.49823,     0.49953,     0.50021,     0.50054,     0.50088,     0.50121,     0.50154,     0.50187,      0.5022,     0.50253,     0.50286,     0.50319,     0.50353,     0.50386,     0.50419,     0.50444,     0.50469,     0.50494,\n",
              "            0.50519,     0.50544,     0.50569,     0.50594,     0.50619,     0.50644,     0.50669,     0.50694,     0.50719,     0.50744,      0.5077,     0.50795,      0.5082,     0.50845,     0.50629,     0.50456,     0.50618,      0.5078,     0.50887,     0.50937,     0.50988,     0.51038,     0.51089,\n",
              "            0.51139,     0.51189,      0.5124,      0.5129,     0.51493,     0.51755,     0.51773,     0.51791,     0.51809,     0.51827,     0.51845,     0.51863,     0.51881,     0.51899,     0.51917,     0.51935,     0.51953,     0.51971,     0.51989,     0.52007,     0.52025,     0.52043,     0.52061,\n",
              "             0.5208,     0.52098,     0.52116,     0.52134,     0.52152,      0.5217,     0.52188,     0.52206,     0.52202,     0.52186,      0.5217,     0.52154,     0.52139,     0.52123,     0.52107,     0.52091,     0.52075,     0.52059,     0.52043,     0.52027,     0.52011,     0.51995,      0.5198,\n",
              "            0.51964,     0.51948,     0.51932,     0.51916,       0.519,     0.51884,     0.51868,     0.51852,     0.51836,      0.5182,     0.51805,     0.51789,     0.51817,     0.51855,     0.51893,     0.51932,      0.5197,     0.52008,     0.52046,     0.52085,     0.52123,     0.52161,     0.52199,\n",
              "            0.52238,     0.52238,     0.52214,      0.5219,     0.52166,     0.52143,     0.52119,     0.52095,     0.52071,     0.52048,     0.52024,        0.52,     0.51977,     0.51953,     0.51929,     0.51905,     0.51882,     0.51858,     0.51834,     0.51978,     0.52304,     0.52334,     0.52363,\n",
              "            0.52393,     0.52423,     0.52452,     0.52482,     0.52511,     0.52541,     0.52571,       0.526,      0.5263,      0.5266,     0.52689,     0.52719,     0.52748,     0.52777,     0.52663,      0.5255,     0.52437,     0.52356,      0.5254,     0.52725,     0.52814,     0.52775,     0.52737,\n",
              "            0.52699,      0.5266,     0.52622,     0.52584,     0.52545,     0.52507,     0.52468,      0.5243,     0.52392,     0.52427,     0.52492,     0.52556,     0.52621,     0.52685,      0.5275,     0.52815,     0.52879,     0.52908,     0.52933,     0.52958,     0.52983,     0.53008,     0.53033,\n",
              "            0.53058,     0.53083,     0.53108,     0.53133,     0.53158,     0.53183,     0.53208,     0.53233,     0.53258,     0.53283,     0.53309,     0.53334,     0.53359,     0.53384,      0.5337,     0.53303,     0.53236,     0.53169,     0.53102,     0.53035,     0.52968,     0.52995,     0.53084,\n",
              "            0.53174,     0.53263,     0.53353,     0.53442,     0.53458,     0.53448,     0.53438,     0.53429,     0.53419,     0.53409,     0.53399,     0.53389,     0.53379,      0.5337,      0.5336,      0.5335,      0.5334,      0.5333,      0.5332,     0.53311,     0.53301,     0.53291,     0.53281,\n",
              "            0.53271,     0.53261,     0.53251,     0.53242,     0.53232,     0.53222,     0.53212,     0.53202,     0.53192,     0.53183,     0.53173,     0.53163,     0.53153,     0.53143,     0.53133,     0.53124,     0.53114,     0.53104,     0.53094,     0.53084,     0.53074,     0.53065,     0.53055,\n",
              "            0.53045,     0.53035,     0.53025,     0.53015,     0.53006,     0.53023,     0.53078,     0.53133,     0.53188,     0.53243,     0.53298,     0.53353,     0.53408,     0.53462,     0.53517,     0.53506,     0.53461,     0.53417,     0.53373,     0.53329,     0.53285,     0.53241,     0.53196,\n",
              "            0.53152,     0.53108,     0.53064,     0.53111,     0.53165,     0.53218,     0.53272,     0.53325,     0.53378,     0.53432,     0.53485,     0.53539,     0.53592,     0.53646,     0.53701,     0.53755,      0.5381,     0.53864,     0.53919,     0.53973,     0.54028,     0.54082,     0.54137,\n",
              "            0.54205,     0.54288,     0.54372,     0.54455,     0.54539,     0.54622,     0.54705,     0.54759,     0.54794,     0.54829,     0.54864,     0.54899,     0.54934,     0.54969,     0.55005,      0.5504,     0.55075,      0.5511,     0.55145,      0.5518,     0.55215,      0.5525,     0.55285,\n",
              "            0.54844,      0.5498,     0.55116,     0.55251,     0.55387,      0.5537,     0.55269,     0.55169,     0.55068,     0.54968,     0.55014,     0.55103,     0.55193,     0.55282,     0.55372,     0.55461,      0.5555,     0.55475,      0.5539,     0.55305,     0.55219,     0.55134,     0.55051,\n",
              "            0.54993,     0.54935,     0.54877,     0.54818,      0.5476,     0.54702,     0.54644,     0.54586,     0.54534,     0.54499,     0.54463,     0.54427,     0.54392,     0.54356,      0.5432,     0.54285,     0.54249,     0.54213,     0.54177,     0.54142,     0.54106,      0.5407,     0.54035,\n",
              "              0.539,     0.53717,     0.53534,      0.5381,     0.54171,      0.5436,     0.54549,     0.54737,      0.5486,     0.54973,     0.55085,     0.55198,     0.55311,     0.55422,     0.55469,     0.55515,     0.55561,     0.55607,     0.55653,       0.557,     0.55746,     0.55792,     0.55838,\n",
              "            0.55884,      0.5593,     0.55977,     0.56023,     0.56069,     0.56079,     0.56031,     0.55982,     0.55934,     0.55886,     0.55838,     0.55789,     0.55741,     0.55693,     0.55644,     0.55596,     0.55493,     0.55114,     0.54883,     0.54716,      0.5455,     0.54417,     0.54371,\n",
              "            0.54325,     0.54279,     0.54233,     0.54187,     0.54141,     0.54095,     0.54049,     0.54003,     0.53957,     0.53911,     0.53864,     0.53925,     0.54055,     0.54185,     0.54316,     0.54446,     0.54556,     0.54601,     0.54645,      0.5469,     0.54734,     0.54779,     0.54824,\n",
              "            0.54868,     0.54913,     0.54957,     0.55002,     0.55046,     0.55091,     0.55136,      0.5518,     0.55225,     0.55235,     0.55031,     0.54827,     0.54703,     0.54871,     0.55039,     0.55207,     0.55376,     0.55566,      0.5576,     0.55955,     0.56149,     0.57449,     0.57728,\n",
              "            0.57688,     0.57648,     0.57608,     0.57569,     0.57529,     0.57489,     0.57449,     0.57409,     0.57369,     0.57329,     0.57289,     0.57249,     0.57209,     0.57169,     0.57114,     0.57029,     0.56945,      0.5686,     0.56775,      0.5669,     0.56605,     0.56528,     0.56869,\n",
              "             0.5721,     0.57523,     0.57815,     0.58108,     0.57997,     0.57672,     0.57895,     0.58348,     0.58434,     0.58397,      0.5836,     0.58323,     0.58286,     0.58249,     0.58212,     0.58175,     0.58138,     0.58101,     0.58064,     0.58027,      0.5799,     0.57953,     0.57916,\n",
              "            0.57879,     0.57842,     0.57832,     0.57937,     0.58041,     0.58146,      0.5825,     0.58355,     0.58459,     0.58564,     0.58669,     0.58791,     0.58941,      0.5909,      0.5924,     0.59389,     0.59538,     0.59664,     0.59471,     0.59277,     0.59083,     0.58989,     0.58946,\n",
              "            0.58904,     0.58861,     0.58819,     0.58776,     0.58734,     0.58692,     0.58649,     0.58607,     0.58564,     0.58522,     0.58479,     0.58437,     0.58395,     0.58352,     0.57673,     0.57754,     0.57835,     0.57917,     0.57998,      0.5808,     0.58161,     0.58243,     0.58324,\n",
              "            0.58406,     0.58487,     0.58569,     0.59003,      0.5986,     0.60406,     0.60608,     0.60364,      0.6012,     0.59257,     0.59165,     0.59072,     0.58979,     0.58887,     0.58794,     0.58701,     0.58608,     0.58516,     0.57894,     0.57851,     0.58062,     0.58273,     0.58484,\n",
              "            0.58694,     0.58901,     0.59102,     0.59303,     0.59504,     0.59705,     0.59906,     0.59091,     0.58916,     0.58742,     0.58568,     0.58393,     0.58035,     0.57581,     0.56779,     0.56835,     0.57264,     0.57693,     0.57515,     0.57187,     0.56859,     0.57213,     0.57665,\n",
              "            0.58116,     0.57816,     0.57476,     0.57131,     0.56595,     0.56044,     0.55294,     0.56483,     0.57092,       0.577,     0.56881,     0.57528,     0.58174,     0.58129,     0.57858,     0.57587,     0.57315,     0.58396,     0.59357,     0.59966,     0.60575,     0.58865,     0.58328,\n",
              "            0.58469,     0.59263,     0.60302,     0.60429,     0.58771,     0.57968,     0.56269,     0.57864,     0.53579,     0.57314,     0.54127,     0.52665,      0.5231,     0.51956,     0.51601,     0.51246,     0.50892,     0.50537,     0.50182,     0.45717,     0.43765,     0.42053,     0.40552,\n",
              "             0.3905,      0.4046,     0.43305,     0.44507,     0.40177,     0.41088,     0.41999,      0.4291,     0.43821,      0.4332,     0.39761,     0.26791,      0.2191,     0.17029,     0.20511,      0.1026,   0.0001001,           0,           0,           0,           0,           0,           0,\n",
              "                  0,           0,           1,           1,           1,           1,           1,           1,           1,           1,           1,           1,           1,           1,           1,           1,           1,           1,           1,           1,           1,           1,           1,\n",
              "                  1,           1,           1,           1,           1,           1,           1,           1,           1,           1,           1]]), 'Confidence', 'Precision'], [array([          0,    0.001001,    0.002002,    0.003003,    0.004004,    0.005005,    0.006006,    0.007007,    0.008008,    0.009009,     0.01001,    0.011011,    0.012012,    0.013013,    0.014014,    0.015015,    0.016016,    0.017017,    0.018018,    0.019019,     0.02002,    0.021021,    0.022022,    0.023023,\n",
              "          0.024024,    0.025025,    0.026026,    0.027027,    0.028028,    0.029029,     0.03003,    0.031031,    0.032032,    0.033033,    0.034034,    0.035035,    0.036036,    0.037037,    0.038038,    0.039039,     0.04004,    0.041041,    0.042042,    0.043043,    0.044044,    0.045045,    0.046046,    0.047047,\n",
              "          0.048048,    0.049049,     0.05005,    0.051051,    0.052052,    0.053053,    0.054054,    0.055055,    0.056056,    0.057057,    0.058058,    0.059059,     0.06006,    0.061061,    0.062062,    0.063063,    0.064064,    0.065065,    0.066066,    0.067067,    0.068068,    0.069069,     0.07007,    0.071071,\n",
              "          0.072072,    0.073073,    0.074074,    0.075075,    0.076076,    0.077077,    0.078078,    0.079079,     0.08008,    0.081081,    0.082082,    0.083083,    0.084084,    0.085085,    0.086086,    0.087087,    0.088088,    0.089089,     0.09009,    0.091091,    0.092092,    0.093093,    0.094094,    0.095095,\n",
              "          0.096096,    0.097097,    0.098098,    0.099099,      0.1001,      0.1011,      0.1021,      0.1031,      0.1041,     0.10511,     0.10611,     0.10711,     0.10811,     0.10911,     0.11011,     0.11111,     0.11211,     0.11311,     0.11411,     0.11512,     0.11612,     0.11712,     0.11812,     0.11912,\n",
              "           0.12012,     0.12112,     0.12212,     0.12312,     0.12412,     0.12513,     0.12613,     0.12713,     0.12813,     0.12913,     0.13013,     0.13113,     0.13213,     0.13313,     0.13413,     0.13514,     0.13614,     0.13714,     0.13814,     0.13914,     0.14014,     0.14114,     0.14214,     0.14314,\n",
              "           0.14414,     0.14515,     0.14615,     0.14715,     0.14815,     0.14915,     0.15015,     0.15115,     0.15215,     0.15315,     0.15415,     0.15516,     0.15616,     0.15716,     0.15816,     0.15916,     0.16016,     0.16116,     0.16216,     0.16316,     0.16416,     0.16517,     0.16617,     0.16717,\n",
              "           0.16817,     0.16917,     0.17017,     0.17117,     0.17217,     0.17317,     0.17417,     0.17518,     0.17618,     0.17718,     0.17818,     0.17918,     0.18018,     0.18118,     0.18218,     0.18318,     0.18418,     0.18519,     0.18619,     0.18719,     0.18819,     0.18919,     0.19019,     0.19119,\n",
              "           0.19219,     0.19319,     0.19419,      0.1952,      0.1962,      0.1972,      0.1982,      0.1992,      0.2002,      0.2012,      0.2022,      0.2032,      0.2042,     0.20521,     0.20621,     0.20721,     0.20821,     0.20921,     0.21021,     0.21121,     0.21221,     0.21321,     0.21421,     0.21522,\n",
              "           0.21622,     0.21722,     0.21822,     0.21922,     0.22022,     0.22122,     0.22222,     0.22322,     0.22422,     0.22523,     0.22623,     0.22723,     0.22823,     0.22923,     0.23023,     0.23123,     0.23223,     0.23323,     0.23423,     0.23524,     0.23624,     0.23724,     0.23824,     0.23924,\n",
              "           0.24024,     0.24124,     0.24224,     0.24324,     0.24424,     0.24525,     0.24625,     0.24725,     0.24825,     0.24925,     0.25025,     0.25125,     0.25225,     0.25325,     0.25425,     0.25526,     0.25626,     0.25726,     0.25826,     0.25926,     0.26026,     0.26126,     0.26226,     0.26326,\n",
              "           0.26426,     0.26527,     0.26627,     0.26727,     0.26827,     0.26927,     0.27027,     0.27127,     0.27227,     0.27327,     0.27427,     0.27528,     0.27628,     0.27728,     0.27828,     0.27928,     0.28028,     0.28128,     0.28228,     0.28328,     0.28428,     0.28529,     0.28629,     0.28729,\n",
              "           0.28829,     0.28929,     0.29029,     0.29129,     0.29229,     0.29329,     0.29429,      0.2953,      0.2963,      0.2973,      0.2983,      0.2993,      0.3003,      0.3013,      0.3023,      0.3033,      0.3043,     0.30531,     0.30631,     0.30731,     0.30831,     0.30931,     0.31031,     0.31131,\n",
              "           0.31231,     0.31331,     0.31431,     0.31532,     0.31632,     0.31732,     0.31832,     0.31932,     0.32032,     0.32132,     0.32232,     0.32332,     0.32432,     0.32533,     0.32633,     0.32733,     0.32833,     0.32933,     0.33033,     0.33133,     0.33233,     0.33333,     0.33433,     0.33534,\n",
              "           0.33634,     0.33734,     0.33834,     0.33934,     0.34034,     0.34134,     0.34234,     0.34334,     0.34434,     0.34535,     0.34635,     0.34735,     0.34835,     0.34935,     0.35035,     0.35135,     0.35235,     0.35335,     0.35435,     0.35536,     0.35636,     0.35736,     0.35836,     0.35936,\n",
              "           0.36036,     0.36136,     0.36236,     0.36336,     0.36436,     0.36537,     0.36637,     0.36737,     0.36837,     0.36937,     0.37037,     0.37137,     0.37237,     0.37337,     0.37437,     0.37538,     0.37638,     0.37738,     0.37838,     0.37938,     0.38038,     0.38138,     0.38238,     0.38338,\n",
              "           0.38438,     0.38539,     0.38639,     0.38739,     0.38839,     0.38939,     0.39039,     0.39139,     0.39239,     0.39339,     0.39439,      0.3954,      0.3964,      0.3974,      0.3984,      0.3994,      0.4004,      0.4014,      0.4024,      0.4034,      0.4044,     0.40541,     0.40641,     0.40741,\n",
              "           0.40841,     0.40941,     0.41041,     0.41141,     0.41241,     0.41341,     0.41441,     0.41542,     0.41642,     0.41742,     0.41842,     0.41942,     0.42042,     0.42142,     0.42242,     0.42342,     0.42442,     0.42543,     0.42643,     0.42743,     0.42843,     0.42943,     0.43043,     0.43143,\n",
              "           0.43243,     0.43343,     0.43443,     0.43544,     0.43644,     0.43744,     0.43844,     0.43944,     0.44044,     0.44144,     0.44244,     0.44344,     0.44444,     0.44545,     0.44645,     0.44745,     0.44845,     0.44945,     0.45045,     0.45145,     0.45245,     0.45345,     0.45445,     0.45546,\n",
              "           0.45646,     0.45746,     0.45846,     0.45946,     0.46046,     0.46146,     0.46246,     0.46346,     0.46446,     0.46547,     0.46647,     0.46747,     0.46847,     0.46947,     0.47047,     0.47147,     0.47247,     0.47347,     0.47447,     0.47548,     0.47648,     0.47748,     0.47848,     0.47948,\n",
              "           0.48048,     0.48148,     0.48248,     0.48348,     0.48448,     0.48549,     0.48649,     0.48749,     0.48849,     0.48949,     0.49049,     0.49149,     0.49249,     0.49349,     0.49449,      0.4955,      0.4965,      0.4975,      0.4985,      0.4995,      0.5005,      0.5015,      0.5025,      0.5035,\n",
              "            0.5045,     0.50551,     0.50651,     0.50751,     0.50851,     0.50951,     0.51051,     0.51151,     0.51251,     0.51351,     0.51451,     0.51552,     0.51652,     0.51752,     0.51852,     0.51952,     0.52052,     0.52152,     0.52252,     0.52352,     0.52452,     0.52553,     0.52653,     0.52753,\n",
              "           0.52853,     0.52953,     0.53053,     0.53153,     0.53253,     0.53353,     0.53453,     0.53554,     0.53654,     0.53754,     0.53854,     0.53954,     0.54054,     0.54154,     0.54254,     0.54354,     0.54454,     0.54555,     0.54655,     0.54755,     0.54855,     0.54955,     0.55055,     0.55155,\n",
              "           0.55255,     0.55355,     0.55455,     0.55556,     0.55656,     0.55756,     0.55856,     0.55956,     0.56056,     0.56156,     0.56256,     0.56356,     0.56456,     0.56557,     0.56657,     0.56757,     0.56857,     0.56957,     0.57057,     0.57157,     0.57257,     0.57357,     0.57457,     0.57558,\n",
              "           0.57658,     0.57758,     0.57858,     0.57958,     0.58058,     0.58158,     0.58258,     0.58358,     0.58458,     0.58559,     0.58659,     0.58759,     0.58859,     0.58959,     0.59059,     0.59159,     0.59259,     0.59359,     0.59459,      0.5956,      0.5966,      0.5976,      0.5986,      0.5996,\n",
              "            0.6006,      0.6016,      0.6026,      0.6036,      0.6046,     0.60561,     0.60661,     0.60761,     0.60861,     0.60961,     0.61061,     0.61161,     0.61261,     0.61361,     0.61461,     0.61562,     0.61662,     0.61762,     0.61862,     0.61962,     0.62062,     0.62162,     0.62262,     0.62362,\n",
              "           0.62462,     0.62563,     0.62663,     0.62763,     0.62863,     0.62963,     0.63063,     0.63163,     0.63263,     0.63363,     0.63463,     0.63564,     0.63664,     0.63764,     0.63864,     0.63964,     0.64064,     0.64164,     0.64264,     0.64364,     0.64464,     0.64565,     0.64665,     0.64765,\n",
              "           0.64865,     0.64965,     0.65065,     0.65165,     0.65265,     0.65365,     0.65465,     0.65566,     0.65666,     0.65766,     0.65866,     0.65966,     0.66066,     0.66166,     0.66266,     0.66366,     0.66466,     0.66567,     0.66667,     0.66767,     0.66867,     0.66967,     0.67067,     0.67167,\n",
              "           0.67267,     0.67367,     0.67467,     0.67568,     0.67668,     0.67768,     0.67868,     0.67968,     0.68068,     0.68168,     0.68268,     0.68368,     0.68468,     0.68569,     0.68669,     0.68769,     0.68869,     0.68969,     0.69069,     0.69169,     0.69269,     0.69369,     0.69469,      0.6957,\n",
              "            0.6967,      0.6977,      0.6987,      0.6997,      0.7007,      0.7017,      0.7027,      0.7037,      0.7047,     0.70571,     0.70671,     0.70771,     0.70871,     0.70971,     0.71071,     0.71171,     0.71271,     0.71371,     0.71471,     0.71572,     0.71672,     0.71772,     0.71872,     0.71972,\n",
              "           0.72072,     0.72172,     0.72272,     0.72372,     0.72472,     0.72573,     0.72673,     0.72773,     0.72873,     0.72973,     0.73073,     0.73173,     0.73273,     0.73373,     0.73473,     0.73574,     0.73674,     0.73774,     0.73874,     0.73974,     0.74074,     0.74174,     0.74274,     0.74374,\n",
              "           0.74474,     0.74575,     0.74675,     0.74775,     0.74875,     0.74975,     0.75075,     0.75175,     0.75275,     0.75375,     0.75475,     0.75576,     0.75676,     0.75776,     0.75876,     0.75976,     0.76076,     0.76176,     0.76276,     0.76376,     0.76476,     0.76577,     0.76677,     0.76777,\n",
              "           0.76877,     0.76977,     0.77077,     0.77177,     0.77277,     0.77377,     0.77477,     0.77578,     0.77678,     0.77778,     0.77878,     0.77978,     0.78078,     0.78178,     0.78278,     0.78378,     0.78478,     0.78579,     0.78679,     0.78779,     0.78879,     0.78979,     0.79079,     0.79179,\n",
              "           0.79279,     0.79379,     0.79479,      0.7958,      0.7968,      0.7978,      0.7988,      0.7998,      0.8008,      0.8018,      0.8028,      0.8038,      0.8048,     0.80581,     0.80681,     0.80781,     0.80881,     0.80981,     0.81081,     0.81181,     0.81281,     0.81381,     0.81481,     0.81582,\n",
              "           0.81682,     0.81782,     0.81882,     0.81982,     0.82082,     0.82182,     0.82282,     0.82382,     0.82482,     0.82583,     0.82683,     0.82783,     0.82883,     0.82983,     0.83083,     0.83183,     0.83283,     0.83383,     0.83483,     0.83584,     0.83684,     0.83784,     0.83884,     0.83984,\n",
              "           0.84084,     0.84184,     0.84284,     0.84384,     0.84484,     0.84585,     0.84685,     0.84785,     0.84885,     0.84985,     0.85085,     0.85185,     0.85285,     0.85385,     0.85485,     0.85586,     0.85686,     0.85786,     0.85886,     0.85986,     0.86086,     0.86186,     0.86286,     0.86386,\n",
              "           0.86486,     0.86587,     0.86687,     0.86787,     0.86887,     0.86987,     0.87087,     0.87187,     0.87287,     0.87387,     0.87487,     0.87588,     0.87688,     0.87788,     0.87888,     0.87988,     0.88088,     0.88188,     0.88288,     0.88388,     0.88488,     0.88589,     0.88689,     0.88789,\n",
              "           0.88889,     0.88989,     0.89089,     0.89189,     0.89289,     0.89389,     0.89489,      0.8959,      0.8969,      0.8979,      0.8989,      0.8999,      0.9009,      0.9019,      0.9029,      0.9039,      0.9049,     0.90591,     0.90691,     0.90791,     0.90891,     0.90991,     0.91091,     0.91191,\n",
              "           0.91291,     0.91391,     0.91491,     0.91592,     0.91692,     0.91792,     0.91892,     0.91992,     0.92092,     0.92192,     0.92292,     0.92392,     0.92492,     0.92593,     0.92693,     0.92793,     0.92893,     0.92993,     0.93093,     0.93193,     0.93293,     0.93393,     0.93493,     0.93594,\n",
              "           0.93694,     0.93794,     0.93894,     0.93994,     0.94094,     0.94194,     0.94294,     0.94394,     0.94494,     0.94595,     0.94695,     0.94795,     0.94895,     0.94995,     0.95095,     0.95195,     0.95295,     0.95395,     0.95495,     0.95596,     0.95696,     0.95796,     0.95896,     0.95996,\n",
              "           0.96096,     0.96196,     0.96296,     0.96396,     0.96496,     0.96597,     0.96697,     0.96797,     0.96897,     0.96997,     0.97097,     0.97197,     0.97297,     0.97397,     0.97497,     0.97598,     0.97698,     0.97798,     0.97898,     0.97998,     0.98098,     0.98198,     0.98298,     0.98398,\n",
              "           0.98498,     0.98599,     0.98699,     0.98799,     0.98899,     0.98999,     0.99099,     0.99199,     0.99299,     0.99399,     0.99499,       0.996,       0.997,       0.998,       0.999,           1]), array([[    0.17419,     0.17419,     0.15806,     0.14839,     0.13978,     0.13548,     0.13118,     0.12688,     0.11889,     0.11505,      0.1129,      0.1129,     0.11019,      0.1086,     0.10345,     0.10323,     0.10215,     0.10108,     0.10023,    0.098925,    0.098925,    0.098925,    0.097849,\n",
              "           0.097053,    0.096774,    0.095699,    0.095699,    0.095699,    0.095699,    0.095699,    0.095699,     0.09494,    0.094624,    0.094624,    0.093433,    0.092825,    0.092473,    0.091958,    0.091398,    0.091398,    0.091398,    0.091398,    0.091398,    0.091398,    0.091398,    0.091398,\n",
              "           0.091398,    0.091398,    0.091398,    0.091398,    0.091398,    0.091398,    0.090914,    0.090296,    0.089699,    0.089177,     0.08889,    0.088603,    0.088317,     0.08734,    0.087097,    0.087097,    0.087097,    0.087093,    0.086808,    0.086524,     0.08624,    0.086022,    0.086022,\n",
              "           0.086022,    0.086022,    0.086022,    0.086022,    0.086022,    0.086022,    0.086022,    0.086022,     0.08456,    0.082713,     0.08172,     0.08172,    0.080921,    0.080645,    0.080645,    0.080645,    0.080645,    0.080645,    0.080645,    0.080645,    0.080645,    0.080645,    0.080645,\n",
              "           0.080645,    0.080645,    0.080645,    0.080645,    0.080645,    0.080645,    0.080645,    0.080645,    0.080645,    0.080645,    0.080645,    0.080645,    0.080645,    0.080645,    0.080275,    0.079856,     0.07957,     0.07957,     0.07957,     0.07957,     0.07957,     0.07957,     0.07957,\n",
              "            0.07957,    0.079453,     0.07925,    0.079048,    0.078845,    0.078642,    0.078441,    0.078246,     0.07805,    0.077854,    0.077658,    0.077462,    0.077419,    0.077419,    0.077419,    0.077419,    0.077419,    0.077419,    0.077419,    0.077419,    0.077419,    0.077419,    0.077419,\n",
              "           0.077419,    0.077419,    0.077419,    0.077419,    0.077365,    0.077235,    0.077106,    0.076976,    0.076846,    0.076717,    0.076587,    0.076457,    0.076344,    0.076309,    0.076077,    0.075845,    0.075613,    0.075381,    0.075269,    0.074739,    0.074194,    0.074194,    0.074194,\n",
              "           0.074194,    0.074194,    0.073929,    0.073603,    0.073276,    0.073118,    0.073118,    0.073118,    0.073118,    0.073118,    0.073118,    0.073118,    0.073118,    0.073118,    0.073104,    0.073047,     0.07299,    0.072932,    0.072875,    0.072818,    0.072761,    0.072703,    0.072646,\n",
              "           0.072589,    0.072532,    0.072474,    0.072417,     0.07236,    0.072302,    0.072245,    0.072188,    0.072131,    0.072073,    0.072043,    0.072043,    0.072043,    0.072043,    0.072043,    0.072043,    0.072043,    0.072043,    0.072043,    0.072043,    0.072043,    0.072043,    0.072043,\n",
              "           0.072043,    0.072043,    0.072043,    0.072043,    0.072043,    0.072043,    0.072043,    0.072043,    0.071986,     0.07187,    0.071754,    0.071638,    0.071522,    0.071406,     0.07129,    0.071174,    0.071058,    0.070968,    0.070968,    0.070968,    0.070968,    0.070968,    0.070968,\n",
              "           0.070968,    0.070968,    0.070968,    0.070849,    0.070721,    0.070593,    0.070465,    0.070337,     0.07021,    0.070082,    0.069954,    0.069892,    0.069892,    0.069892,    0.069892,    0.069892,    0.069892,    0.069892,    0.069892,    0.069892,    0.069892,    0.069892,    0.069892,\n",
              "           0.069892,    0.069892,    0.069892,    0.069892,    0.069892,    0.069892,    0.069847,    0.069647,    0.069446,    0.069246,    0.069046,    0.068845,    0.067742,    0.067742,    0.067742,    0.067742,    0.067742,    0.067742,    0.067742,    0.067742,    0.067742,    0.067742,    0.067742,\n",
              "           0.067742,    0.067742,    0.067742,    0.067742,    0.067742,    0.067742,    0.067163,    0.066667,    0.066406,    0.065965,    0.065495,    0.064865,    0.064516,    0.064516,    0.064516,    0.064516,    0.064516,    0.064516,    0.064516,    0.064516,    0.064516,    0.064516,    0.064516,\n",
              "           0.064516,    0.064516,    0.064516,    0.064516,    0.064516,    0.064516,    0.064516,    0.064516,    0.064516,    0.064516,    0.064516,    0.064516,    0.064516,    0.064516,    0.064516,    0.064516,    0.064516,    0.064516,    0.064516,    0.064516,    0.064516,    0.064516,    0.064516,\n",
              "           0.064516,    0.064516,    0.064516,    0.064516,    0.064516,    0.064516,    0.064516,    0.064516,    0.064516,    0.064516,    0.064516,    0.064516,    0.064516,    0.064516,    0.063958,    0.063441,    0.063441,    0.063441,    0.063441,    0.063441,    0.063441,    0.063441,    0.063441,\n",
              "           0.063441,    0.063441,    0.063441,    0.063441,    0.063441,    0.063441,    0.063441,    0.063441,    0.063441,    0.063441,    0.063441,    0.063441,    0.063441,    0.063441,    0.063441,    0.063441,    0.063441,    0.063441,    0.063441,    0.063441,    0.063441,    0.063441,    0.063441,\n",
              "           0.063441,    0.063441,    0.063441,    0.063441,    0.063441,    0.063441,    0.063441,    0.063441,    0.063415,    0.063375,    0.063335,    0.063295,    0.063255,    0.063215,    0.063175,    0.063135,    0.063094,    0.063054,    0.063014,    0.062974,    0.062934,    0.062894,    0.062854,\n",
              "           0.062814,    0.062774,    0.062734,    0.062694,    0.062654,    0.062613,    0.062573,    0.062533,    0.062493,    0.062453,    0.062413,    0.062373,    0.062366,    0.062366,    0.062366,    0.062366,    0.062366,    0.062366,    0.062366,    0.062366,    0.062366,    0.062366,    0.062366,\n",
              "           0.062366,    0.062329,     0.06227,    0.062212,    0.062153,    0.062094,    0.062035,    0.061976,    0.061918,    0.061859,      0.0618,    0.061741,    0.061683,    0.061624,    0.061565,    0.061506,    0.061447,    0.061389,     0.06133,     0.06129,     0.06129,     0.06129,     0.06129,\n",
              "            0.06129,     0.06129,     0.06129,     0.06129,     0.06129,     0.06129,     0.06129,     0.06129,     0.06129,     0.06129,     0.06129,     0.06129,     0.06129,    0.061287,    0.061012,    0.060736,    0.060461,    0.060215,    0.060215,    0.060215,    0.060176,    0.060084,    0.059992,\n",
              "             0.0599,    0.059809,    0.059717,    0.059625,    0.059533,    0.059441,    0.059349,    0.059257,    0.059166,     0.05914,     0.05914,     0.05914,     0.05914,     0.05914,     0.05914,     0.05914,     0.05914,     0.05914,     0.05914,     0.05914,     0.05914,     0.05914,     0.05914,\n",
              "            0.05914,     0.05914,     0.05914,     0.05914,     0.05914,     0.05914,     0.05914,     0.05914,     0.05914,     0.05914,     0.05914,     0.05914,     0.05914,     0.05914,    0.059073,    0.058915,    0.058758,      0.0586,    0.058443,    0.058285,    0.058128,    0.058065,    0.058065,\n",
              "           0.058065,    0.058065,    0.058065,    0.058065,    0.058048,    0.058025,    0.058002,    0.057979,    0.057957,    0.057934,    0.057911,    0.057889,    0.057866,    0.057843,     0.05782,    0.057798,    0.057775,    0.057752,    0.057729,    0.057707,    0.057684,    0.057661,    0.057639,\n",
              "           0.057616,    0.057593,     0.05757,    0.057548,    0.057525,    0.057502,    0.057479,    0.057457,    0.057434,    0.057411,    0.057389,    0.057366,    0.057343,     0.05732,    0.057298,    0.057275,    0.057252,    0.057229,    0.057207,    0.057184,    0.057161,    0.057139,    0.057116,\n",
              "           0.057093,     0.05707,    0.057048,    0.057025,    0.057002,    0.056989,    0.056989,    0.056989,    0.056989,    0.056989,    0.056989,    0.056989,    0.056989,    0.056989,    0.056989,    0.056922,    0.056822,    0.056721,    0.056621,    0.056521,    0.056421,    0.056321,     0.05622,\n",
              "            0.05612,     0.05602,     0.05592,    0.055914,    0.055914,    0.055914,    0.055914,    0.055914,    0.055914,    0.055914,    0.055914,    0.055914,    0.055914,    0.055914,    0.055914,    0.055914,    0.055914,    0.055914,    0.055914,    0.055914,    0.055914,    0.055914,    0.055914,\n",
              "           0.055914,    0.055914,    0.055914,    0.055914,    0.055914,    0.055914,    0.055914,    0.055914,    0.055914,    0.055914,    0.055914,    0.055914,    0.055914,    0.055914,    0.055914,    0.055914,    0.055914,    0.055914,    0.055914,    0.055914,    0.055914,    0.055914,    0.055914,\n",
              "           0.054839,    0.054839,    0.054839,    0.054839,    0.054839,    0.054696,    0.054475,    0.054255,    0.054034,    0.053814,    0.053763,    0.053763,    0.053763,    0.053763,    0.053763,    0.053763,    0.053763,     0.05359,    0.053407,    0.053223,    0.053039,    0.052856,    0.052677,\n",
              "           0.052555,    0.052432,     0.05231,    0.052187,    0.052065,    0.051943,     0.05182,    0.051698,     0.05159,    0.051517,    0.051443,     0.05137,    0.051296,    0.051223,    0.051149,    0.051076,    0.051002,    0.050929,    0.050855,    0.050782,    0.050708,    0.050635,    0.050562,\n",
              "            0.05029,    0.049922,    0.049555,    0.049462,    0.049462,    0.049462,    0.049462,    0.049462,    0.049462,    0.049462,    0.049462,    0.049462,    0.049462,    0.049462,    0.049462,    0.049462,    0.049462,    0.049462,    0.049462,    0.049462,    0.049462,    0.049462,    0.049462,\n",
              "           0.049462,    0.049462,    0.049462,    0.049462,    0.049462,    0.049426,     0.04933,    0.049234,    0.049138,    0.049042,    0.048946,    0.048851,    0.048755,    0.048659,    0.048563,    0.048467,    0.048267,    0.047532,    0.047091,    0.046776,    0.046462,    0.046212,    0.046128,\n",
              "           0.046043,    0.045958,    0.045873,    0.045788,    0.045704,    0.045619,    0.045534,    0.045449,    0.045365,     0.04528,    0.045195,    0.045161,    0.045161,    0.045161,    0.045161,    0.045161,    0.045161,    0.045161,    0.045161,    0.045161,    0.045161,    0.045161,    0.045161,\n",
              "           0.045161,    0.045161,    0.045161,    0.045161,    0.045161,    0.045161,    0.045161,    0.045161,    0.045161,     0.04511,    0.044742,    0.044375,    0.044086,    0.044086,    0.044086,    0.044086,    0.044086,    0.044086,    0.044086,    0.044086,    0.044086,    0.044086,    0.044053,\n",
              "           0.043982,    0.043911,     0.04384,    0.043769,    0.043698,    0.043627,    0.043556,    0.043485,    0.043414,    0.043342,    0.043271,      0.0432,    0.043129,    0.043058,    0.042961,    0.042814,    0.042667,    0.042521,    0.042374,    0.042227,     0.04208,    0.041935,    0.041935,\n",
              "           0.041935,    0.041935,    0.041935,    0.041935,    0.041575,    0.041024,     0.04086,     0.04086,    0.040814,    0.040753,    0.040692,    0.040631,    0.040569,    0.040508,    0.040447,    0.040386,    0.040324,    0.040263,    0.040202,    0.040141,    0.040079,    0.040018,    0.039957,\n",
              "           0.039896,    0.039835,    0.039785,    0.039785,    0.039785,    0.039785,    0.039785,    0.039785,    0.039785,    0.039785,    0.039785,    0.039785,    0.039785,    0.039785,    0.039785,    0.039785,    0.039785,    0.039763,    0.039448,    0.039133,    0.038819,    0.038666,    0.038599,\n",
              "           0.038532,    0.038466,    0.038399,    0.038332,    0.038265,    0.038198,    0.038132,    0.038065,    0.037998,    0.037931,    0.037864,    0.037798,    0.037731,    0.037664,    0.036559,    0.036559,    0.036559,    0.036559,    0.036559,    0.036559,    0.036559,    0.036559,    0.036559,\n",
              "           0.036559,    0.036559,    0.036559,    0.036559,    0.036559,    0.036559,    0.036399,    0.036032,    0.035664,    0.034406,    0.034276,    0.034147,    0.034017,    0.033887,    0.033758,    0.033628,    0.033498,    0.033369,     0.03253,    0.032258,    0.032258,    0.032258,    0.032258,\n",
              "           0.032258,    0.032258,    0.032258,    0.032258,    0.032258,    0.032258,    0.032258,    0.031065,    0.030845,    0.030624,    0.030404,    0.030183,    0.029746,    0.029195,    0.028256,    0.027957,    0.027957,    0.027957,    0.027662,    0.027295,    0.026927,    0.026882,    0.026882,\n",
              "           0.026882,    0.026533,    0.026166,    0.025794,    0.025243,    0.024679,    0.023944,    0.023656,    0.023656,    0.023656,    0.022581,    0.022581,    0.022581,    0.022396,    0.022151,    0.021906,    0.021661,    0.021505,    0.021505,    0.021505,    0.021505,    0.020012,    0.019571,\n",
              "           0.019355,    0.019355,    0.019355,    0.018069,    0.016869,    0.016318,    0.015054,    0.015054,    0.012423,    0.011561,    0.010165,   0.0095764,   0.0094468,   0.0093171,   0.0091874,   0.0090578,   0.0089281,   0.0087984,   0.0086688,   0.0072589,   0.0067078,    0.006255,   0.0058876,\n",
              "          0.0055202,   0.0053763,   0.0053763,   0.0051896,   0.0043011,   0.0043011,   0.0043011,   0.0043011,   0.0043011,    0.004127,   0.0035759,   0.0019897,   0.0015489,    0.001108,  0.00088217,   0.0004413,  4.3054e-07,           0,           0,           0,           0,           0,           0,\n",
              "                  0,           0,           0,           0,           0,           0,           0,           0,           0,           0,           0,           0,           0,           0,           0,           0,           0,           0,           0,           0,           0,           0,           0,\n",
              "                  0,           0,           0,           0,           0,           0,           0,           0,           0,           0,           0]]), 'Confidence', 'Recall']]\n",
              "fitness: 0.09987542823999808\n",
              "keys: ['metrics/precision(B)', 'metrics/recall(B)', 'metrics/mAP50(B)', 'metrics/mAP50-95(B)']\n",
              "maps: array([   0.088897])\n",
              "names: {0: 'accident'}\n",
              "plot: True\n",
              "results_dict: {'metrics/precision(B)': 0.2817391304347826, 'metrics/recall(B)': 0.17419354838709677, 'metrics/mAP50(B)': 0.1986855723502362, 'metrics/mAP50-95(B)': 0.08889652333886051, 'fitness': 0.09987542823999808}\n",
              "save_dir: PosixPath('runs/detect/train')\n",
              "speed: {'preprocess': 0.18838173363201055, 'inference': 11.850108413634562, 'loss': 0.000349140475868793, 'postprocess': 0.38092055367034616}\n",
              "task: 'detect'"
            ]
          },
          "execution_count": 5,
          "metadata": {},
          "output_type": "execute_result"
        }
      ],
      "source": [
        "# Train the YOLOv9 model using a our dataset.\n",
        "# Parameters include the number of epochs, and image size.\n",
        "# Adjust the 'data' parameter to point to our dataset YAML file.\n",
        "model.train(data=\"/content/drive/MyDrive/Lastdataset/data.yaml\", epochs=100, imgsz=640)"
      ]
    },
    {
      "cell_type": "markdown",
      "source": [
        "### Save the model"
      ],
      "metadata": {
        "id": "1hwE7yqGivxl"
      }
    },
    {
      "cell_type": "code",
      "source": [
        "model.save('Accident_detection.pt')"
      ],
      "metadata": {
        "id": "xNQo5blxiu8c"
      },
      "execution_count": null,
      "outputs": []
    }
  ],
  "metadata": {
    "accelerator": "GPU",
    "colab": {
      "gpuType": "T4",
      "machine_shape": "hm",
      "provenance": []
    },
    "kernelspec": {
      "display_name": "Python 3",
      "name": "python3"
    },
    "language_info": {
      "name": "python"
    }
  },
  "nbformat": 4,
  "nbformat_minor": 0
}